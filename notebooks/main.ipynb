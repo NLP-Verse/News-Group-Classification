{
 "cells": [
  {
   "cell_type": "markdown",
   "id": "39cb8c5c2d696137",
   "metadata": {
    "collapsed": false,
    "id": "39cb8c5c2d696137",
    "jupyter": {
     "outputs_hidden": false
    }
   },
   "source": [
    "# News Group Classification\n",
    "\n",
    "In this project, we aim to build a **text classification model** that can automatically categorize news articles into their respective topics. This involves applying **Natural Language Processing (NLP)** techniques and training a machine learning model on labeled news data.\n"
   ]
  },
  {
   "cell_type": "markdown",
   "id": "52f0384b8215d245",
   "metadata": {
    "collapsed": false,
    "id": "52f0384b8215d245",
    "jupyter": {
     "outputs_hidden": false
    }
   },
   "source": [
    "# Importing Libraries"
   ]
  },
  {
   "cell_type": "code",
   "execution_count": 1,
   "id": "b0a9f10fa159cff3",
   "metadata": {
    "ExecuteTime": {
     "end_time": "2025-05-12T20:36:59.832764Z",
     "start_time": "2025-05-12T20:36:56.773671Z"
    },
    "id": "b0a9f10fa159cff3"
   },
   "outputs": [],
   "source": [
    "import pandas as pd\n",
    "import contractions\n",
    "from matplotlib import pyplot as plt\n",
    "import numpy as np\n",
    "import re\n",
    "import spacy\n",
    "from nltk.tokenize import word_tokenize\n",
    "from nltk.corpus import stopwords\n",
    "from sklearn.feature_extraction.text import TfidfVectorizer\n",
    "from sklearn.model_selection import train_test_split\n",
    "from nltk.stem import WordNetLemmatizer\n",
    "from nltk.corpus import wordnet\n",
    "from nltk import pos_tag\n",
    "from sklearn.model_selection import GridSearchCV\n",
    "from sklearn.naive_bayes import MultinomialNB\n",
    "from sklearn.ensemble import RandomForestClassifier\n",
    "from sklearn.model_selection import cross_val_score\n",
    "import seaborn as sns\n",
    "from sklearn.metrics import accuracy_score, f1_score, precision_score, recall_score\n",
    "from sklearn.metrics import confusion_matrix\n",
    "from sklearn.ensemble import RandomForestClassifier\n",
    "from sklearn.svm import LinearSVC\n",
    "from sklearn.model_selection import GridSearchCV\n",
    "from sklearn.metrics import classification_report\n",
    "from sklearn.utils.parallel import Parallel, delayed\n",
    "from sklearn.svm import LinearSVC\n",
    "from sklearn.metrics import confusion_matrix, ConfusionMatrixDisplay\n",
    "from sklearn.neighbors import KNeighborsClassifier\n",
    "from sklearn.pipeline import Pipeline\n",
    "from sklearn.decomposition import TruncatedSVD\n",
    "from sklearn.preprocessing import Normalizer\n",
    "from sklearn.preprocessing import LabelEncoder\n",
    "import warnings\n",
    "import joblib\n",
    "import os\n",
    "import time\n",
    "\n",
    "# import nltk\n",
    "# nltk.download('punkt')\n",
    "# nltk.download('punkt_tab')\n",
    "# nltk.download('stopwords')"
   ]
  },
  {
   "cell_type": "markdown",
   "id": "9a4ea6dcfbc36189",
   "metadata": {
    "collapsed": false,
    "id": "9a4ea6dcfbc36189",
    "jupyter": {
     "outputs_hidden": false
    }
   },
   "source": [
    "# Dataset Overview\n",
    "\n",
    "Our dataset consists of news articles with the following columns:\n",
    "\n",
    "- **category**: The target label indicating the topic of the article (e.g., sports, tech, politics, etc.).\n",
    "- **filename**: The file name or path associated with each article.\n",
    "- **content**: The full text of the news article, which will serve as our main input for training the classification model.\n",
    "\n",
    "We'll use the **`content`** column as the input feature for NLP processing, and the **`category`** column as the target for model training.\n"
   ]
  },
  {
   "cell_type": "code",
   "execution_count": 2,
   "id": "4927ea7bc4ca36b7",
   "metadata": {
    "ExecuteTime": {
     "end_time": "2025-05-12T20:36:59.994515Z",
     "start_time": "2025-05-12T20:36:59.843887Z"
    },
    "id": "4927ea7bc4ca36b7"
   },
   "outputs": [],
   "source": [
    "data = pd.read_parquet(\"news_data.parquet\",engine='pyarrow')"
   ]
  },
  {
   "cell_type": "code",
   "execution_count": 3,
   "id": "eSt6BkmoMdgJ",
   "metadata": {
    "ExecuteTime": {
     "end_time": "2025-05-12T20:37:02.240906Z",
     "start_time": "2025-05-12T20:37:02.236218Z"
    },
    "id": "eSt6BkmoMdgJ"
   },
   "outputs": [],
   "source": [
    "# data.to_csv('news_data.csv', index=False)"
   ]
  },
  {
   "cell_type": "code",
   "execution_count": 4,
   "id": "88023ae6a816d565",
   "metadata": {
    "ExecuteTime": {
     "end_time": "2025-05-12T20:37:02.267984Z",
     "start_time": "2025-05-12T20:37:02.263482Z"
    },
    "colab": {
     "base_uri": "https://localhost:8080/"
    },
    "id": "88023ae6a816d565",
    "outputId": "e065259d-b534-4e95-954c-aa0f4ab51377"
   },
   "outputs": [
    {
     "name": "stdout",
     "output_type": "stream",
     "text": [
      "      category filename                                            content\n",
      "0  alt.atheism    49960  Xref: cantaloupe.srv.cs.cmu.edu alt.atheism:49...\n",
      "1  alt.atheism    51060  Xref: cantaloupe.srv.cs.cmu.edu alt.atheism:51...\n",
      "2  alt.atheism    51119  Newsgroups: alt.atheism\\nPath: cantaloupe.srv....\n",
      "3  alt.atheism    51120  Xref: cantaloupe.srv.cs.cmu.edu alt.atheism:51...\n",
      "4  alt.atheism    51121  Xref: cantaloupe.srv.cs.cmu.edu alt.atheism:51...\n"
     ]
    }
   ],
   "source": [
    "print(data.head())"
   ]
  },
  {
   "cell_type": "code",
   "execution_count": 5,
   "id": "c51ad795e9588c35",
   "metadata": {
    "ExecuteTime": {
     "end_time": "2025-05-12T20:37:02.369872Z",
     "start_time": "2025-05-12T20:37:02.366681Z"
    },
    "colab": {
     "base_uri": "https://localhost:8080/"
    },
    "id": "c51ad795e9588c35",
    "outputId": "3a482ca5-b1b3-44cd-e048-bf6233cd69dd"
   },
   "outputs": [
    {
     "name": "stdout",
     "output_type": "stream",
     "text": [
      "(19997, 3)\n"
     ]
    }
   ],
   "source": [
    "print(data.shape)               # Rows and columns"
   ]
  },
  {
   "cell_type": "code",
   "execution_count": 6,
   "id": "a2cd18104335013e",
   "metadata": {
    "ExecuteTime": {
     "end_time": "2025-05-12T20:37:02.497906Z",
     "start_time": "2025-05-12T20:37:02.491403Z"
    },
    "colab": {
     "base_uri": "https://localhost:8080/"
    },
    "id": "a2cd18104335013e",
    "outputId": "5086619d-5ea8-45ee-fdb6-816479c38416"
   },
   "outputs": [
    {
     "name": "stdout",
     "output_type": "stream",
     "text": [
      "category\n",
      "alt.atheism                 1000\n",
      "comp.graphics               1000\n",
      "comp.os.ms-windows.misc     1000\n",
      "comp.sys.ibm.pc.hardware    1000\n",
      "comp.sys.mac.hardware       1000\n",
      "comp.windows.x              1000\n",
      "misc.forsale                1000\n",
      "rec.autos                   1000\n",
      "rec.motorcycles             1000\n",
      "rec.sport.baseball          1000\n",
      "rec.sport.hockey            1000\n",
      "sci.crypt                   1000\n",
      "sci.electronics             1000\n",
      "sci.med                     1000\n",
      "sci.space                   1000\n",
      "talk.politics.guns          1000\n",
      "talk.politics.misc          1000\n",
      "talk.politics.mideast       1000\n",
      "talk.religion.misc          1000\n",
      "soc.religion.christian       997\n",
      "Name: count, dtype: int64\n"
     ]
    }
   ],
   "source": [
    "print(data['category'].value_counts())  # How many articles per category"
   ]
  },
  {
   "cell_type": "code",
   "execution_count": 7,
   "id": "8ec181a8059311e5",
   "metadata": {
    "ExecuteTime": {
     "end_time": "2025-05-12T20:37:02.609958Z",
     "start_time": "2025-05-12T20:37:02.606245Z"
    },
    "colab": {
     "base_uri": "https://localhost:8080/"
    },
    "id": "8ec181a8059311e5",
    "outputId": "9255fc0d-3e60-4780-9ee3-aafa8e2ff527"
   },
   "outputs": [
    {
     "name": "stdout",
     "output_type": "stream",
     "text": [
      "Xref: cantaloupe.srv.cs.cmu.edu alt.atheism:49960 alt.atheism.moderated:713 news.answers:7054 alt.answers:126\n",
      "Path: cantaloupe.srv.cs.cmu.edu!crabapple.srv.cs.cmu.edu!bb3.andrew.cmu.edu!news.sei.cmu.edu!cis.ohio-state.edu!magnus.acs.ohio-state.edu!usenet.ins.cwru.edu!agate!spool.mu.edu!uunet!pipex!ibmpcug!mantis!mathew\n",
      "From: mathew <mathew@mantis.co.uk>\n",
      "Newsgroups: alt.atheism,alt.atheism.moderated,news.answers,alt.answers\n",
      "Subject: Alt.Atheism FAQ: Atheist Resources\n",
      "Summary: Books, addresses, music -- anything related to atheism\n",
      "Keywords: FAQ, atheism, books, music, fiction, addresses, contacts\n",
      "Message-ID: <19930329115719@mantis.co.uk>\n",
      "Date: Mon, 29 Mar 1993 11:57:19 GMT\n",
      "Expires: Thu, 29 Apr 1993 11:57:19 GMT\n",
      "Followup-To: alt.atheism\n",
      "Distribution: world\n",
      "Organization: Mantis Consultants, Cambridge. UK.\n",
      "Approved: news-answers-request@mit.edu\n",
      "Supersedes: <19930301143317@mantis.co.uk>\n",
      "Lines: 290\n",
      "\n",
      "Archive-name: atheism/resources\n",
      "Alt-atheism-archive-name: resources\n",
      "Last-modified: 11 December 1992\n",
      "Version: 1.0\n",
      "\n",
      "                              Atheist Resources\n",
      "\n",
      "                      Addresses of Atheist Organizations\n",
      "\n",
      "                                     USA\n",
      "\n",
      "FREEDOM FROM RELIGION FOUNDATION\n",
      "\n",
      "Darwin fish bumper stickers and assorted other atheist paraphernalia are\n",
      "available from the Freedom From Religion Foundation in the US.\n",
      "\n",
      "Write to:  FFRF, P.O. Box 750, Madison, WI 53701.\n",
      "Telephone: (608) 256-8900\n",
      "\n",
      "EVOLUTION DESIGNS\n",
      "\n",
      "Evolution Designs sell the \"Darwin fish\".  It's a fish symbol, like the ones\n",
      "Christians stick on their cars, but with feet and the word \"Darwin\" written\n",
      "inside.  The deluxe moulded 3D plastic fish is $4.95 postpaid in the US.\n",
      "\n",
      "Write to:  Evolution Designs, 7119 Laurel Canyon #4, North Hollywood,\n",
      "           CA 91605.\n",
      "\n",
      "People in the San Francisco Bay area can get Darwin Fish from Lynn Gold --\n",
      "try mailing <figmo@netcom.com>.  For net people who go to Lynn directly, the\n",
      "price is $4.95 per fish.\n",
      "\n",
      "AMERICAN ATHEIST PRESS\n",
      "\n",
      "AAP publish various atheist books -- critiques of the Bible, lists of\n",
      "Biblical contradictions, and so on.  One such book is:\n",
      "\n",
      "\"The Bible Handbook\" by W.P. Ball and G.W. Foote.  American Atheist Press.\n",
      "372 pp.  ISBN 0-910309-26-4, 2nd edition, 1986.  Bible contradictions,\n",
      "absurdities, atrocities, immoralities... contains Ball, Foote: \"The Bible\n",
      "Contradicts Itself\", AAP.  Based on the King James version of the Bible.\n",
      "\n",
      "Write to:  American Atheist Press, P.O. Box 140195, Austin, TX 78714-0195.\n",
      "      or:  7215 Cameron Road, Austin, TX 78752-2973.\n",
      "Telephone: (512) 458-1244\n",
      "Fax:       (512) 467-9525\n",
      "\n",
      "PROMETHEUS BOOKS\n",
      "\n",
      "Sell books including Haught's \"Holy Horrors\" (see below).\n",
      "\n",
      "Write to:  700 East Amherst Street, Buffalo, New York 14215.\n",
      "Telephone: (716) 837-2475.\n",
      "\n",
      "An alternate address (which may be newer or older) is:\n",
      "Prometheus Books, 59 Glenn Drive, Buffalo, NY 14228-2197.\n",
      "\n",
      "AFRICAN-AMERICANS FOR HUMANISM\n",
      "\n",
      "An organization promoting black secular humanism and uncovering the history of\n",
      "black freethought.  They publish a quarterly newsletter, AAH EXAMINER.\n",
      "\n",
      "Write to:  Norm R. Allen, Jr., African Americans for Humanism, P.O. Box 664,\n",
      "           Buffalo, NY 14226.\n",
      "\n",
      "                                United Kingdom\n",
      "\n",
      "Rationalist Press Association          National Secular Society\n",
      "88 Islington High Street               702 Holloway Road\n",
      "London N1 8EW                          London N19 3NL\n",
      "071 226 7251                           071 272 1266\n",
      "\n",
      "British Humanist Association           South Place Ethical Society\n",
      "14 Lamb's Conduit Passage              Conway Hall\n",
      "London WC1R 4RH                        Red Lion Square\n",
      "071 430 0908                           London WC1R 4RL\n",
      "fax 071 430 1271                       071 831 7723\n",
      "\n",
      "The National Secular Society publish \"The Freethinker\", a monthly magazine\n",
      "founded in 1881.\n",
      "\n",
      "                                   Germany\n",
      "\n",
      "IBKA e.V.\n",
      "Internationaler Bund der Konfessionslosen und Atheisten\n",
      "Postfach 880, D-1000 Berlin 41. Germany.\n",
      "\n",
      "IBKA publish a journal:\n",
      "MIZ. (Materialien und Informationen zur Zeit. Politisches\n",
      "Journal der Konfessionslosesn und Atheisten. Hrsg. IBKA e.V.)\n",
      "MIZ-Vertrieb, Postfach 880, D-1000 Berlin 41. Germany.\n",
      "\n",
      "For atheist books, write to:\n",
      "\n",
      "IBDK, Internationaler B\"ucherdienst der Konfessionslosen\n",
      "Postfach 3005, D-3000 Hannover 1. Germany.\n",
      "Telephone: 0511/211216\n",
      "\n",
      "\n",
      "                               Books -- Fiction\n",
      "\n",
      "THOMAS M. DISCH\n",
      "\n",
      "\"The Santa Claus Compromise\"\n",
      "Short story.  The ultimate proof that Santa exists.  All characters and \n",
      "events are fictitious.  Any similarity to living or dead gods -- uh, well...\n",
      "\n",
      "WALTER M. MILLER, JR\n",
      "\n",
      "\"A Canticle for Leibowitz\"\n",
      "One gem in this post atomic doomsday novel is the monks who spent their lives\n",
      "copying blueprints from \"Saint Leibowitz\", filling the sheets of paper with\n",
      "ink and leaving white lines and letters.\n",
      "\n",
      "EDGAR PANGBORN\n",
      "\n",
      "\"Davy\"\n",
      "Post atomic doomsday novel set in clerical states.  The church, for example,\n",
      "forbids that anyone \"produce, describe or use any substance containing...\n",
      "atoms\". \n",
      "\n",
      "PHILIP K. DICK\n",
      "\n",
      "Philip K. Dick Dick wrote many philosophical and thought-provoking short \n",
      "stories and novels.  His stories are bizarre at times, but very approachable.\n",
      "He wrote mainly SF, but he wrote about people, truth and religion rather than\n",
      "technology.  Although he often believed that he had met some sort of God, he\n",
      "remained sceptical.  Amongst his novels, the following are of some relevance:\n",
      "\n",
      "\"Galactic Pot-Healer\"\n",
      "A fallible alien deity summons a group of Earth craftsmen and women to a\n",
      "remote planet to raise a giant cathedral from beneath the oceans.  When the\n",
      "deity begins to demand faith from the earthers, pot-healer Joe Fernwright is\n",
      "unable to comply.  A polished, ironic and amusing novel.\n",
      "\n",
      "\"A Maze of Death\"\n",
      "Noteworthy for its description of a technology-based religion.\n",
      "\n",
      "\"VALIS\"\n",
      "The schizophrenic hero searches for the hidden mysteries of Gnostic\n",
      "Christianity after reality is fired into his brain by a pink laser beam of\n",
      "unknown but possibly divine origin.  He is accompanied by his dogmatic and\n",
      "dismissively atheist friend and assorted other odd characters.\n",
      "\n",
      "\"The Divine Invasion\"\n",
      "God invades Earth by making a young woman pregnant as she returns from\n",
      "another star system.  Unfortunately she is terminally ill, and must be\n",
      "assisted by a dead man whose brain is wired to 24-hour easy listening music.\n",
      "\n",
      "MARGARET ATWOOD\n",
      "\n",
      "\"The Handmaid's Tale\"\n",
      "A story based on the premise that the US Congress is mysteriously\n",
      "assassinated, and fundamentalists quickly take charge of the nation to set it\n",
      "\"right\" again.  The book is the diary of a woman's life as she tries to live\n",
      "under the new Christian theocracy.  Women's right to own property is revoked,\n",
      "and their bank accounts are closed; sinful luxuries are outlawed, and the\n",
      "radio is only used for readings from the Bible.  Crimes are punished\n",
      "retroactively: doctors who performed legal abortions in the \"old world\" are\n",
      "hunted down and hanged.  Atwood's writing style is difficult to get used to\n",
      "at first, but the tale grows more and more chilling as it goes on.\n",
      "\n",
      "VARIOUS AUTHORS\n",
      "\n",
      "\"The Bible\"\n",
      "This somewhat dull and rambling work has often been criticized.  However, it\n",
      "is probably worth reading, if only so that you'll know what all the fuss is\n",
      "about.  It exists in many different versions, so make sure you get the one\n",
      "true version.\n",
      "\n",
      "                             Books -- Non-fiction\n",
      "\n",
      "PETER DE ROSA\n",
      "\n",
      "\"Vicars of Christ\", Bantam Press, 1988\n",
      "Although de Rosa seems to be Christian or even Catholic this is a very\n",
      "enlighting history of papal immoralities, adulteries, fallacies etc.\n",
      "(German translation: \"Gottes erste Diener. Die dunkle Seite des Papsttums\",\n",
      "Droemer-Knaur, 1989)\n",
      "\n",
      "MICHAEL MARTIN\n",
      "\n",
      "\"Atheism: A Philosophical Justification\", Temple University Press,\n",
      " Philadelphia, USA.\n",
      "A detailed and scholarly justification of atheism.  Contains an outstanding\n",
      "appendix defining terminology and usage in this (necessarily) tendentious\n",
      "area.  Argues both for \"negative atheism\" (i.e. the \"non-belief in the\n",
      "existence of god(s)\") and also for \"positive atheism\" (\"the belief in the\n",
      "non-existence of god(s)\").  Includes great refutations of the most\n",
      "challenging arguments for god; particular attention is paid to refuting\n",
      "contempory theists such as Platinga and Swinburne.\n",
      "541 pages. ISBN 0-87722-642-3 (hardcover; paperback also available)\n",
      "\n",
      "\"The Case Against Christianity\", Temple University Press\n",
      "A comprehensive critique of Christianity, in which he considers\n",
      "the best contemporary defences of Christianity and (ultimately)\n",
      "demonstrates that they are unsupportable and/or incoherent.\n",
      "273 pages. ISBN 0-87722-767-5\n",
      "\n",
      "JAMES TURNER\n",
      "\n",
      "\"Without God, Without Creed\", The Johns Hopkins University Press, Baltimore,\n",
      " MD, USA\n",
      "Subtitled \"The Origins of Unbelief in America\".  Examines the way in which\n",
      "unbelief (whether agnostic or atheistic)  became a mainstream alternative\n",
      "world-view.  Focusses on the period 1770-1900, and while considering France\n",
      "and Britain the emphasis is on American, and particularly New England\n",
      "developments.  \"Neither a religious history of secularization or atheism,\n",
      "Without God, Without Creed is, rather, the intellectual history of the fate\n",
      "of a single idea, the belief that God exists.\" \n",
      "316 pages. ISBN (hardcover) 0-8018-2494-X (paper) 0-8018-3407-4\n",
      "\n",
      "GEORGE SELDES (Editor)\n",
      "\n",
      "\"The great thoughts\", Ballantine Books, New York, USA\n",
      "A \"dictionary of quotations\" of a different kind, concentrating on statements\n",
      "and writings which, explicitly or implicitly, present the person's philosophy\n",
      "and world-view.  Includes obscure (and often suppressed) opinions from many\n",
      "people.  For some popular observations, traces the way in which various\n",
      "people expressed and twisted the idea over the centuries.  Quite a number of\n",
      "the quotations are derived from Cardiff's \"What Great Men Think of Religion\"\n",
      "and Noyes' \"Views of Religion\".\n",
      "490 pages. ISBN (paper) 0-345-29887-X.\n",
      "\n",
      "RICHARD SWINBURNE\n",
      "\n",
      "\"The Existence of God (Revised Edition)\", Clarendon Paperbacks, Oxford\n",
      "This book is the second volume in a trilogy that began with \"The Coherence of\n",
      "Theism\" (1977) and was concluded with \"Faith and Reason\" (1981).  In this\n",
      "work, Swinburne attempts to construct a series of inductive arguments for the\n",
      "existence of God.  His arguments, which are somewhat tendentious and rely\n",
      "upon the imputation of late 20th century western Christian values and\n",
      "aesthetics to a God which is supposedly as simple as can be conceived, were\n",
      "decisively rejected in Mackie's \"The Miracle of Theism\".  In the revised\n",
      "edition of \"The Existence of God\", Swinburne includes an Appendix in which he\n",
      "makes a somewhat incoherent attempt to rebut Mackie.\n",
      "\n",
      "J. L. MACKIE\n",
      "\n",
      "\"The Miracle of Theism\", Oxford\n",
      "This (posthumous) volume contains a comprehensive review of the principal\n",
      "arguments for and against the existence of God.  It ranges from the classical\n",
      "philosophical positions of Descartes, Anselm, Berkeley, Hume et al, through\n",
      "the moral arguments of Newman, Kant and Sidgwick, to the recent restatements\n",
      "of the classical theses by Plantinga and Swinburne.  It also addresses those\n",
      "positions which push the concept of God beyond the realm of the rational,\n",
      "such as those of Kierkegaard, Kung and Philips, as well as \"replacements for\n",
      "God\" such as Lelie's axiarchism.  The book is a delight to read - less\n",
      "formalistic and better written than Martin's works, and refreshingly direct\n",
      "when compared with the hand-waving of Swinburne.\n",
      "\n",
      "JAMES A. HAUGHT\n",
      "\n",
      "\"Holy Horrors: An Illustrated History of Religious Murder and Madness\",\n",
      " Prometheus Books\n",
      "Looks at religious persecution from ancient times to the present day -- and\n",
      "not only by Christians.\n",
      "Library of Congress Catalog Card Number 89-64079. 1990.\n",
      "\n",
      "NORM R. ALLEN, JR.\n",
      "\n",
      "\"African American Humanism: an Anthology\"\n",
      "See the listing for African Americans for Humanism above.\n",
      "\n",
      "GORDON STEIN\n",
      "\n",
      "\"An Anthology of Atheism and Rationalism\", Prometheus Books\n",
      "An anthology covering a wide range of subjects, including 'The Devil, Evil\n",
      "and Morality' and 'The History of Freethought'.  Comprehensive bibliography.\n",
      "\n",
      "EDMUND D. COHEN\n",
      "\n",
      "\"The Mind of The Bible-Believer\", Prometheus Books\n",
      "A study of why people become Christian fundamentalists, and what effect it\n",
      "has on them.\n",
      "\n",
      "                                Net Resources\n",
      "\n",
      "There's a small mail-based archive server at mantis.co.uk which carries\n",
      "archives of old alt.atheism.moderated articles and assorted other files.  For\n",
      "more information, send mail to archive-server@mantis.co.uk saying\n",
      "\n",
      "   help\n",
      "   send atheism/index\n",
      "\n",
      "and it will mail back a reply.\n",
      "\n",
      "\n",
      "mathew\n",
      "\n",
      "\n"
     ]
    }
   ],
   "source": [
    "print(data['content'][0])       # View a sample article"
   ]
  },
  {
   "cell_type": "code",
   "execution_count": 8,
   "id": "e4f5d876faa93e3d",
   "metadata": {
    "ExecuteTime": {
     "end_time": "2025-05-12T20:37:02.715273Z",
     "start_time": "2025-05-12T20:37:02.712394Z"
    },
    "id": "e4f5d876faa93e3d"
   },
   "outputs": [],
   "source": [
    "news_content = data['content']\n",
    "news_labels = data['category']"
   ]
  },
  {
   "cell_type": "markdown",
   "id": "138392ee44616b1c",
   "metadata": {
    "collapsed": false,
    "id": "138392ee44616b1c",
    "jupyter": {
     "outputs_hidden": false
    }
   },
   "source": [
    "# Preprocessing"
   ]
  },
  {
   "cell_type": "markdown",
   "id": "98a210947f23c1f5",
   "metadata": {
    "collapsed": false,
    "id": "98a210947f23c1f5",
    "jupyter": {
     "outputs_hidden": false
    }
   },
   "source": [
    "## Clean Raw Input Data\n",
    "\n",
    "To ensure our text data is ready for machine learning, we apply the following preprocessing steps:\n",
    "\n",
    "- **Expand Contractions**  \n",
    "  Convert common contractions to their full form for consistency.  \n",
    "  _Examples:_\n",
    "  - `\"don't\"` → `\"do not\"`  \n",
    "  - `\"it's\"` → `\"it is\"`\n",
    "\n",
    "- **Lowercase the Text**  \n",
    "  Normalize all text to lowercase to reduce vocabulary size and avoid case-sensitive duplicates.\n",
    "\n",
    "- **Remove Metadata**  \n",
    "  Strip away unnecessary headers, footers, and email signatures that do not contribute to the actual content.\n",
    "\n",
    "- **️Remove Numbers and Punctuation**  \n",
    "  These elements often add noise and are usually not meaningful in text classification tasks.\n",
    "\n",
    "- **Remove Extra Whitespace**  \n",
    "  Clean up unnecessary spaces, tabs, and newline characters to maintain uniformity in the text.\n"
   ]
  },
  {
   "cell_type": "code",
   "execution_count": 9,
   "id": "f75dd1108964cb5f",
   "metadata": {
    "ExecuteTime": {
     "end_time": "2025-05-12T20:37:05.592341Z",
     "start_time": "2025-05-12T20:37:02.807890Z"
    },
    "id": "f75dd1108964cb5f"
   },
   "outputs": [],
   "source": [
    "news_content = news_content.apply(lambda x: contractions.fix(x)) # expand contractions\n",
    "news_content  = news_content.str.lower()"
   ]
  },
  {
   "cell_type": "code",
   "execution_count": 10,
   "id": "a7713c056f47bc43",
   "metadata": {
    "ExecuteTime": {
     "end_time": "2025-05-12T20:37:05.602689Z",
     "start_time": "2025-05-12T20:37:05.599070Z"
    },
    "id": "a7713c056f47bc43"
   },
   "outputs": [],
   "source": [
    "def clean_article(text):\n",
    "    # Remove headers and footers (common email/news metadata)\n",
    "    text = re.sub(r\"(?s)^.*?Lines: \\d+\\s+\", \"\", text)\n",
    "    text = re.sub(r\"(?s)^.*?(?=Archive-name:)\", \"\", text)\n",
    "    text = re.sub(r\"(?s)^\\s*From:.*?\\n\", \"\", text)\n",
    "    text = re.sub(r\"(?s)^.*?Subject:.*?\\n\", \"\", text)\n",
    "    text = re.sub(r\"(?s)^.*?Path:.*?\\n\", \"\", text)\n",
    "    text = re.sub(r\"(?s)^.*?Newsgroups:.*?\\n\", \"\", text)\n",
    "    text = re.sub(r\"(?s)^.*?Message-ID:.*?\\n\", \"\", text)\n",
    "    text = re.sub(r\"(?s)^.*?Organization:.*?\\n\", \"\", text)\n",
    "\n",
    "    # Remove email signatures (e.g., lines starting with '--')\n",
    "    text = re.sub(r\"--\\s*\\n.*\", \"\", text, flags=re.DOTALL)\n",
    "\n",
    "    # Remove numbers and punctuation\n",
    "    text = re.sub(r\"[^a-zA-Z\\s]\", \" \", text)\n",
    "\n",
    "    # Remove extra whitespace (tabs, newlines, multiple spaces)\n",
    "    text = re.sub(r\"\\s+\", \" \", text).strip()\n",
    "\n",
    "    return text\n"
   ]
  },
  {
   "cell_type": "code",
   "execution_count": 11,
   "id": "53e11ecd082199e4",
   "metadata": {
    "ExecuteTime": {
     "end_time": "2025-05-12T20:37:09.984680Z",
     "start_time": "2025-05-12T20:37:05.632960Z"
    },
    "id": "53e11ecd082199e4"
   },
   "outputs": [],
   "source": [
    "news_content = news_content.apply(clean_article)"
   ]
  },
  {
   "cell_type": "code",
   "execution_count": 12,
   "id": "ea3eeb1612499517",
   "metadata": {
    "ExecuteTime": {
     "end_time": "2025-05-12T20:37:09.995508Z",
     "start_time": "2025-05-12T20:37:09.992942Z"
    },
    "id": "ea3eeb1612499517"
   },
   "outputs": [],
   "source": [
    "#news_content[0] # sample output to ensure cleaning was applied\n"
   ]
  },
  {
   "cell_type": "markdown",
   "id": "492b108b",
   "metadata": {
    "id": "492b108b"
   },
   "source": [
    "# Tokenization and stopwords removal"
   ]
  },
  {
   "cell_type": "markdown",
   "id": "8e1ff580",
   "metadata": {
    "id": "8e1ff580"
   },
   "source": [
    "- **Tokenize Text**    \n",
    "  Break each cleaned text into individual words (tokens) using NLTK's word_tokenize. This enables more granular analysis and further NLP processing.\n",
    "  \n",
    "  _Examples:_\n",
    "  - `\"the quick brown fox\"` → `[\"the\", \"quick\", \"brown\", \"fox\"]`\n",
    "\n",
    "- **Remove Stopwords**\n",
    "  Eliminate common English stopwords (e.g., \"the\", \"is\", \"and\") using NLTK’s predefined list. These words typically carry less semantic meaning and can introduce noise in text classification tasks.\n",
    "\n",
    "  _Examples:_\n",
    "  - `[\"the\", \"quick\", \"brown\", \"fox\"]` → `[\"quick\", \"brown\", \"fox\"]`"
   ]
  },
  {
   "cell_type": "code",
   "execution_count": 13,
   "id": "7970674a",
   "metadata": {
    "ExecuteTime": {
     "end_time": "2025-05-12T20:37:19.913937Z",
     "start_time": "2025-05-12T20:37:10.010131Z"
    },
    "id": "7970674a"
   },
   "outputs": [],
   "source": [
    "stop_words = set(stopwords.words('english'))\n",
    "\n",
    "def tokenize_and_remove_stopwords(text):\n",
    "    tokens = word_tokenize(text)\n",
    "    filtered_tokens = [word for word in tokens if word not in stop_words]\n",
    "    return filtered_tokens\n",
    "\n",
    "# Apply to the series\n",
    "news_tokens = news_content.apply(tokenize_and_remove_stopwords)\n"
   ]
  },
  {
   "cell_type": "markdown",
   "id": "f800d62808b2069",
   "metadata": {},
   "source": [
    "# Lemmatization"
   ]
  },
  {
   "cell_type": "markdown",
   "id": "ee0e09a463a57f2b",
   "metadata": {},
   "source": [
    "Reduce inflected or variant word forms to their **dictionary headword** form.\n",
    "\n",
    "Examples:\n",
    "\n",
    "• am, are, is → be\n",
    "\n",
    "• car, cars, car's, cars’ → car"
   ]
  },
  {
   "cell_type": "code",
   "execution_count": 14,
   "id": "967d6aac505722c7",
   "metadata": {
    "ExecuteTime": {
     "end_time": "2025-05-12T20:37:19.926509Z",
     "start_time": "2025-05-12T20:37:19.920088Z"
    }
   },
   "outputs": [
    {
     "name": "stdout",
     "output_type": "stream",
     "text": [
      "0        [xref, cantaloupe, srv, cs, cmu, edu, alt, ath...\n",
      "1        [xref, cantaloupe, srv, cs, cmu, edu, alt, ath...\n",
      "2        [newsgroups, alt, atheism, path, cantaloupe, s...\n",
      "3        [xref, cantaloupe, srv, cs, cmu, edu, alt, ath...\n",
      "4        [xref, cantaloupe, srv, cs, cmu, edu, alt, ath...\n",
      "                               ...                        \n",
      "19992    [xref, cantaloupe, srv, cs, cmu, edu, alt, ath...\n",
      "19993    [xref, cantaloupe, srv, cs, cmu, edu, alt, ath...\n",
      "19994    [xref, cantaloupe, srv, cs, cmu, edu, talk, re...\n",
      "19995    [xref, cantaloupe, srv, cs, cmu, edu, talk, re...\n",
      "19996    [xref, cantaloupe, srv, cs, cmu, edu, talk, ab...\n",
      "Name: content, Length: 19997, dtype: object\n"
     ]
    }
   ],
   "source": [
    "print(news_tokens)"
   ]
  },
  {
   "cell_type": "code",
   "execution_count": 15,
   "id": "b1a06fa919598140",
   "metadata": {
    "ExecuteTime": {
     "end_time": "2025-05-12T20:37:19.969767Z",
     "start_time": "2025-05-12T20:37:19.966123Z"
    }
   },
   "outputs": [],
   "source": [
    "# # Convert Series to DataFrame\n",
    "# df = news_tokens.to_frame(name = 'tokens')\n",
    "#\n",
    "# # POS tag conversion\n",
    "# def get_wordnet_pos(tag):\n",
    "#     if tag.startswith('J'):\n",
    "#         return wordnet.ADJ\n",
    "#     elif tag.startswith('V'):\n",
    "#         return wordnet.VERB\n",
    "#     elif tag.startswith('N'):\n",
    "#         return wordnet.NOUN\n",
    "#     elif tag.startswith('R'):\n",
    "#         return wordnet.ADV\n",
    "#     else:\n",
    "#         return wordnet.NOUN\n",
    "#\n",
    "# lemmatizer = WordNetLemmatizer()\n",
    "#\n",
    "# # Lemmatize one row of tokens\n",
    "# def lemmatize_tokens(tokens):\n",
    "#     tagged = pos_tag(tokens)\n",
    "#     return [lemmatizer.lemmatize(word, get_wordnet_pos(pos)) for word, pos in tagged]\n",
    "#\n",
    "# # Apply to all rows\n",
    "# df['lemmatized'] = df['tokens'].apply(lemmatize_tokens)\n",
    "#\n",
    "# # Show result\n",
    "# print(df[['tokens', 'lemmatized']])\n"
   ]
  },
  {
   "cell_type": "code",
   "execution_count": 16,
   "id": "3ec9218affadb407",
   "metadata": {
    "ExecuteTime": {
     "end_time": "2025-05-12T20:44:12.367567Z",
     "start_time": "2025-05-12T20:37:19.999625Z"
    }
   },
   "outputs": [
    {
     "name": "stdout",
     "output_type": "stream",
     "text": [
      "                                                  tokens  \\\n",
      "0      [xref, cantaloupe, srv, cs, cmu, edu, alt, ath...   \n",
      "1      [xref, cantaloupe, srv, cs, cmu, edu, alt, ath...   \n",
      "2      [newsgroups, alt, atheism, path, cantaloupe, s...   \n",
      "3      [xref, cantaloupe, srv, cs, cmu, edu, alt, ath...   \n",
      "4      [xref, cantaloupe, srv, cs, cmu, edu, alt, ath...   \n",
      "...                                                  ...   \n",
      "19992  [xref, cantaloupe, srv, cs, cmu, edu, alt, ath...   \n",
      "19993  [xref, cantaloupe, srv, cs, cmu, edu, alt, ath...   \n",
      "19994  [xref, cantaloupe, srv, cs, cmu, edu, talk, re...   \n",
      "19995  [xref, cantaloupe, srv, cs, cmu, edu, talk, re...   \n",
      "19996  [xref, cantaloupe, srv, cs, cmu, edu, talk, ab...   \n",
      "\n",
      "                                              lemmatized  \n",
      "0      [xref, cantaloupe, srv, cs, cmu, edu, alt, ath...  \n",
      "1      [xref, cantaloupe, srv, cs, cmu, edu, alt, ath...  \n",
      "2      [newsgroup, alt, atheism, path, cantaloupe, sr...  \n",
      "3      [xref, cantaloupe, srv, cs, cmu, edu, alt, ath...  \n",
      "4      [xref, cantaloupe, srv, cs, cmu, edu, alt, ath...  \n",
      "...                                                  ...  \n",
      "19992  [xref, cantaloupe, srv, cs, cmu, edu, alt, ath...  \n",
      "19993  [xref, cantaloupe, srv, cs, cmu, edu, alt, ath...  \n",
      "19994  [xref, cantaloupe, srv, cs, cmu, edu, talk, re...  \n",
      "19995  [xref, cantaloupe, srv, cs, cmu, edu, talk, re...  \n",
      "19996  [xref, cantaloupe, srv, cs, cmu, edu, talk, ab...  \n",
      "\n",
      "[19997 rows x 2 columns]\n"
     ]
    }
   ],
   "source": [
    "# Load spaCy model (only run once)\n",
    "nlp = spacy.load(\"en_core_web_sm\")\n",
    "\n",
    "# Convert Series to DataFrame\n",
    "df = news_tokens.to_frame(name = 'tokens')\n",
    "\n",
    "# Lemmatize using spaCy\n",
    "def spacy_lemmatize(tokens):\n",
    "    doc = nlp(\" \".join(tokens))\n",
    "    return [token.lemma_ for token in doc]\n",
    "\n",
    "df['lemmatized'] = df['tokens'].apply(spacy_lemmatize)\n",
    "print(df[['tokens', 'lemmatized']])"
   ]
  },
  {
   "cell_type": "code",
   "execution_count": 17,
   "id": "20c9a78c27f92b6a",
   "metadata": {
    "ExecuteTime": {
     "end_time": "2025-05-12T20:44:12.431124Z",
     "start_time": "2025-05-12T20:44:12.428277Z"
    }
   },
   "outputs": [],
   "source": [
    "news_lemmas = df['lemmatized']"
   ]
  },
  {
   "cell_type": "markdown",
   "id": "w95z3YprGG4O",
   "metadata": {
    "id": "w95z3YprGG4O"
   },
   "source": [
    "## TF–IDF Vectorization"
   ]
  },
  {
   "cell_type": "markdown",
   "id": "xkQXf2mtWoy1",
   "metadata": {
    "id": "xkQXf2mtWoy1"
   },
   "source": [
    "Transform raw text data into numerical features.TF–IDF captures the importance of words across documents by balancing their frequency within a document."
   ]
  },
  {
   "cell_type": "markdown",
   "id": "b3tjA9o8KFdu",
   "metadata": {
    "id": "b3tjA9o8KFdu"
   },
   "source": [
    " - Reconstruct Tokenized Text"
   ]
  },
  {
   "cell_type": "code",
   "execution_count": 18,
   "id": "iDGoAiNLGi56",
   "metadata": {
    "ExecuteTime": {
     "end_time": "2025-05-12T20:44:12.584843Z",
     "start_time": "2025-05-12T20:44:12.484088Z"
    },
    "id": "iDGoAiNLGi56"
   },
   "outputs": [],
   "source": [
    "cleaned_text = news_lemmas.apply(lambda tokens: \" \".join(tokens))"
   ]
  },
  {
   "cell_type": "markdown",
   "id": "A6LvsG68KMR9",
   "metadata": {
    "id": "A6LvsG68KMR9"
   },
   "source": [
    "- Initialize the vectorizer"
   ]
  },
  {
   "cell_type": "code",
   "execution_count": 19,
   "id": "OHrPS4z9KbTE",
   "metadata": {
    "ExecuteTime": {
     "end_time": "2025-05-12T20:44:12.592998Z",
     "start_time": "2025-05-12T20:44:12.589059Z"
    },
    "id": "OHrPS4z9KbTE"
   },
   "outputs": [],
   "source": [
    "vectorizer = TfidfVectorizer(\n",
    "    # ignore very rare words\n",
    "    min_df=5,\n",
    "    # ignore very common words\n",
    "    max_df=0.8,\n",
    "    # include unigrams and bigrams -> Unigrams are capture the frequency of individual words,Bigrams capture the relationship between two consecutive words, which can be useful for understanding the context and meaning of words in a sentence.\n",
    "    ngram_range=(1,2),\n",
    ")\n",
    "\n"
   ]
  },
  {
   "cell_type": "code",
   "execution_count": 20,
   "id": "F9BJxnQNKgqh",
   "metadata": {
    "ExecuteTime": {
     "end_time": "2025-05-12T20:44:12.607828Z",
     "start_time": "2025-05-12T20:44:12.605487Z"
    },
    "id": "F9BJxnQNKgqh"
   },
   "outputs": [],
   "source": [
    "#vectorizer = TfidfVectorizer()"
   ]
  },
  {
   "cell_type": "markdown",
   "id": "JpRi0YzsLK3-",
   "metadata": {
    "id": "JpRi0YzsLK3-"
   },
   "source": [
    "- transform into a TF–IDF matrix"
   ]
  },
  {
   "cell_type": "code",
   "execution_count": 21,
   "id": "g6dZ4gF6KedV",
   "metadata": {
    "ExecuteTime": {
     "end_time": "2025-05-12T20:44:17.746161Z",
     "start_time": "2025-05-12T20:44:12.621870Z"
    },
    "id": "g6dZ4gF6KedV"
   },
   "outputs": [],
   "source": [
    "tfidf_matrix = vectorizer.fit_transform(cleaned_text)\n"
   ]
  },
  {
   "cell_type": "code",
   "execution_count": 22,
   "id": "-6rNW-xuLP_t",
   "metadata": {
    "ExecuteTime": {
     "end_time": "2025-05-12T20:44:17.857165Z",
     "start_time": "2025-05-12T20:44:17.758045Z"
    },
    "colab": {
     "base_uri": "https://localhost:8080/"
    },
    "id": "-6rNW-xuLP_t",
    "outputId": "61a45bfc-c9fc-483f-ae59-54cab0e3b144"
   },
   "outputs": [
    {
     "name": "stdout",
     "output_type": "stream",
     "text": [
      "TF–IDF matrix shape: (19997, 115605)\n"
     ]
    }
   ],
   "source": [
    "print(\"TF–IDF matrix shape:\", tfidf_matrix.shape)\n",
    "\n",
    "feature_names = vectorizer.get_feature_names_out()"
   ]
  },
  {
   "cell_type": "code",
   "execution_count": 23,
   "id": "92949565ee586e18",
   "metadata": {
    "ExecuteTime": {
     "end_time": "2025-05-12T20:44:17.876619Z",
     "start_time": "2025-05-12T20:44:17.867520Z"
    }
   },
   "outputs": [
    {
     "name": "stdout",
     "output_type": "stream",
     "text": [
      "Top words in this document:\n",
      "atheism: 0.2886\n",
      "fish: 0.2642\n",
      "mantis: 0.2225\n",
      "alt atheism: 0.2031\n",
      "alt: 0.1971\n",
      "resource: 0.1613\n",
      "news answer: 0.1541\n",
      "atheist: 0.1526\n",
      "answer: 0.1474\n",
      "evolution: 0.1398\n"
     ]
    }
   ],
   "source": [
    "# Assuming you have the vectorizer object\n",
    "\n",
    "# Get top 10 important words in this document\n",
    "sorted_indices = tfidf_matrix[0][0].toarray().argsort()[0][-10:][::-1]\n",
    "top_words = [(feature_names[i], tfidf_matrix[0][0][0,i]) for i in sorted_indices]\n",
    "\n",
    "print(\"Top words in this document:\")\n",
    "for word, score in top_words:\n",
    "    print(f\"{word}: {score:.4f}\")"
   ]
  },
  {
   "cell_type": "markdown",
   "id": "NYvmn0ysXr5G",
   "metadata": {
    "id": "NYvmn0ysXr5G"
   },
   "source": [
    "## Word Embedding using Word2Vec"
   ]
  },
  {
   "cell_type": "markdown",
   "id": "GK1bJSPgYVl2",
   "metadata": {
    "id": "GK1bJSPgYVl2"
   },
   "source": [
    "Convert words into dense, continuous-valued vectors that capture semantic relationships. Unlike TF–IDF, which treats each term independently, Word2Vec learns word representations so that words appearing in similar contexts end up with similar vectors."
   ]
  },
  {
   "cell_type": "markdown",
   "id": "7vnjEfGcZn-D",
   "metadata": {
    "id": "7vnjEfGcZn-D"
   },
   "source": [
    "How it works: Word2Vec slides a window over each token list and learns to predict a target word from its neighbors (or vice versa)."
   ]
  },
  {
   "cell_type": "code",
   "execution_count": 24,
   "id": "ucNS7WCUXyG2",
   "metadata": {
    "ExecuteTime": {
     "end_time": "2025-05-12T20:44:17.921671Z",
     "start_time": "2025-05-12T20:44:17.918467Z"
    },
    "id": "ucNS7WCUXyG2"
   },
   "outputs": [],
   "source": [
    "# # 7. Train Word2Vec model\n",
    "# w2v_model = Word2Vec(\n",
    "#     sentences=news_tokens,\n",
    "#     vector_size=100,  # dimensionality\n",
    "#     window=5,\n",
    "#     min_count=5,      # ignore words with freq < 5\n",
    "#     workers=4,        # Number of CPU cores used\n",
    "#     seed=42\n",
    "# )\n",
    "# w2v_model.save(\"word2vec.model\")"
   ]
  },
  {
   "cell_type": "markdown",
   "id": "eS9rP89_X5yo",
   "metadata": {
    "id": "eS9rP89_X5yo"
   },
   "source": [
    "-  Build document embeddings by averaging word vectors"
   ]
  },
  {
   "cell_type": "code",
   "execution_count": 25,
   "id": "1YstSjCOX6k6",
   "metadata": {
    "ExecuteTime": {
     "end_time": "2025-05-12T20:44:17.953112Z",
     "start_time": "2025-05-12T20:44:17.949839Z"
    },
    "id": "1YstSjCOX6k6"
   },
   "outputs": [],
   "source": [
    "# def document_vector(tokens):\n",
    "#     vecs = [w2v_model.wv[word] for word in tokens if word in w2v_model.wv]\n",
    "#     if not vecs:\n",
    "#         return np.zeros(w2v_model.vector_size)\n",
    "#     return np.mean(vecs, axis=0)"
   ]
  },
  {
   "cell_type": "code",
   "execution_count": 26,
   "id": "5AxVows9YCn8",
   "metadata": {
    "ExecuteTime": {
     "end_time": "2025-05-12T20:44:17.968385Z",
     "start_time": "2025-05-12T20:44:17.966422Z"
    },
    "id": "5AxVows9YCn8"
   },
   "outputs": [],
   "source": [
    "# import numpy as np\n",
    "\n",
    "# embeddings = np.vstack(news_tokens.apply(document_vector).values)\n",
    "# df_embeddings = pd.DataFrame(\n",
    "#     embeddings,\n",
    "#     columns=[f\"dim_{i}\" for i in range(w2v_model.vector_size)]\n",
    "# )"
   ]
  },
  {
   "cell_type": "code",
   "execution_count": 27,
   "id": "Q9GfB4RLYET6",
   "metadata": {
    "ExecuteTime": {
     "end_time": "2025-05-12T20:44:17.994241Z",
     "start_time": "2025-05-12T20:44:17.991949Z"
    },
    "colab": {
     "base_uri": "https://localhost:8080/"
    },
    "id": "Q9GfB4RLYET6",
    "outputId": "2acbf45a-ceb9-4274-aaf6-2a6eba22e552"
   },
   "outputs": [],
   "source": [
    "# df_embeddings.to_parquet('doc_embeddings.parquet', engine='pyarrow')\n",
    "# print(\"Document embeddings saved; shape:\", df_embeddings.shape)"
   ]
  },
  {
   "cell_type": "markdown",
   "id": "cFc7z9RaQb3k",
   "metadata": {
    "id": "cFc7z9RaQb3k"
   },
   "source": [
    "# Train-Test split\n"
   ]
  },
  {
   "cell_type": "markdown",
   "id": "z-mFFAoqW9CS",
   "metadata": {
    "id": "z-mFFAoqW9CS"
   },
   "source": [
    "- Split data into train (80%) and test (20%)"
   ]
  },
  {
   "cell_type": "code",
   "execution_count": 28,
   "id": "x9Nv8hGVQn01",
   "metadata": {
    "ExecuteTime": {
     "end_time": "2025-05-12T20:44:18.038924Z",
     "start_time": "2025-05-12T20:44:18.004214Z"
    },
    "id": "x9Nv8hGVQn01"
   },
   "outputs": [],
   "source": [
    "X_train, X_test, y_train, y_test = train_test_split(\n",
    "    tfidf_matrix,\n",
    "    news_labels,\n",
    "    test_size = 0.20,        # 20% for test\n",
    "    random_state = 42,\n",
    "    stratify = news_labels\n",
    ")\n",
    "\n"
   ]
  },
  {
   "cell_type": "markdown",
   "id": "5-9Ad1RgQ0sb",
   "metadata": {
    "id": "5-9Ad1RgQ0sb"
   },
   "source": []
  },
  {
   "cell_type": "code",
   "execution_count": 29,
   "id": "Jy2pZanMQ7tK",
   "metadata": {
    "ExecuteTime": {
     "end_time": "2025-05-12T20:44:18.117345Z",
     "start_time": "2025-05-12T20:44:18.112855Z"
    },
    "colab": {
     "base_uri": "https://localhost:8080/"
    },
    "id": "Jy2pZanMQ7tK",
    "outputId": "e739bca2-1179-499f-ed5a-5e3019091b2c"
   },
   "outputs": [
    {
     "name": "stdout",
     "output_type": "stream",
     "text": [
      "Train  → X_train: (15997, 115605),  y_train: (15997,)\n",
      "Test   → X_test:  (4000, 115605),   y_test:  (4000,)\n"
     ]
    }
   ],
   "source": [
    "print(f\"Train  → X_train: {X_train.shape},  y_train: {y_train.shape}\")\n",
    "print(f\"Test   → X_test:  {X_test.shape},   y_test:  {y_test.shape}\")"
   ]
  },
  {
   "cell_type": "markdown",
   "id": "120dffbe",
   "metadata": {},
   "source": [
    "# Modeling\n"
   ]
  },
  {
   "cell_type": "code",
   "execution_count": 30,
   "id": "90d4c30ea4aa0a0c",
   "metadata": {
    "ExecuteTime": {
     "end_time": "2025-05-12T20:44:18.136967Z",
     "start_time": "2025-05-12T20:44:18.134071Z"
    }
   },
   "outputs": [],
   "source": [
    "models = {}"
   ]
  },
  {
   "cell_type": "markdown",
   "id": "8d4b3c10",
   "metadata": {},
   "source": [
    "## Naive Bayes"
   ]
  },
  {
   "cell_type": "markdown",
   "id": "9d5b8224",
   "metadata": {},
   "source": [
    "* GridSearch on the best hyperparameter values"
   ]
  },
  {
   "cell_type": "code",
   "execution_count": 31,
   "id": "1f3c7df9",
   "metadata": {
    "ExecuteTime": {
     "end_time": "2025-05-12T20:44:22.821142Z",
     "start_time": "2025-05-12T20:44:18.164521Z"
    }
   },
   "outputs": [
    {
     "data": {
      "text/html": [
       "<style>#sk-container-id-1 {\n",
       "  /* Definition of color scheme common for light and dark mode */\n",
       "  --sklearn-color-text: #000;\n",
       "  --sklearn-color-text-muted: #666;\n",
       "  --sklearn-color-line: gray;\n",
       "  /* Definition of color scheme for unfitted estimators */\n",
       "  --sklearn-color-unfitted-level-0: #fff5e6;\n",
       "  --sklearn-color-unfitted-level-1: #f6e4d2;\n",
       "  --sklearn-color-unfitted-level-2: #ffe0b3;\n",
       "  --sklearn-color-unfitted-level-3: chocolate;\n",
       "  /* Definition of color scheme for fitted estimators */\n",
       "  --sklearn-color-fitted-level-0: #f0f8ff;\n",
       "  --sklearn-color-fitted-level-1: #d4ebff;\n",
       "  --sklearn-color-fitted-level-2: #b3dbfd;\n",
       "  --sklearn-color-fitted-level-3: cornflowerblue;\n",
       "\n",
       "  /* Specific color for light theme */\n",
       "  --sklearn-color-text-on-default-background: var(--sg-text-color, var(--theme-code-foreground, var(--jp-content-font-color1, black)));\n",
       "  --sklearn-color-background: var(--sg-background-color, var(--theme-background, var(--jp-layout-color0, white)));\n",
       "  --sklearn-color-border-box: var(--sg-text-color, var(--theme-code-foreground, var(--jp-content-font-color1, black)));\n",
       "  --sklearn-color-icon: #696969;\n",
       "\n",
       "  @media (prefers-color-scheme: dark) {\n",
       "    /* Redefinition of color scheme for dark theme */\n",
       "    --sklearn-color-text-on-default-background: var(--sg-text-color, var(--theme-code-foreground, var(--jp-content-font-color1, white)));\n",
       "    --sklearn-color-background: var(--sg-background-color, var(--theme-background, var(--jp-layout-color0, #111)));\n",
       "    --sklearn-color-border-box: var(--sg-text-color, var(--theme-code-foreground, var(--jp-content-font-color1, white)));\n",
       "    --sklearn-color-icon: #878787;\n",
       "  }\n",
       "}\n",
       "\n",
       "#sk-container-id-1 {\n",
       "  color: var(--sklearn-color-text);\n",
       "}\n",
       "\n",
       "#sk-container-id-1 pre {\n",
       "  padding: 0;\n",
       "}\n",
       "\n",
       "#sk-container-id-1 input.sk-hidden--visually {\n",
       "  border: 0;\n",
       "  clip: rect(1px 1px 1px 1px);\n",
       "  clip: rect(1px, 1px, 1px, 1px);\n",
       "  height: 1px;\n",
       "  margin: -1px;\n",
       "  overflow: hidden;\n",
       "  padding: 0;\n",
       "  position: absolute;\n",
       "  width: 1px;\n",
       "}\n",
       "\n",
       "#sk-container-id-1 div.sk-dashed-wrapped {\n",
       "  border: 1px dashed var(--sklearn-color-line);\n",
       "  margin: 0 0.4em 0.5em 0.4em;\n",
       "  box-sizing: border-box;\n",
       "  padding-bottom: 0.4em;\n",
       "  background-color: var(--sklearn-color-background);\n",
       "}\n",
       "\n",
       "#sk-container-id-1 div.sk-container {\n",
       "  /* jupyter's `normalize.less` sets `[hidden] { display: none; }`\n",
       "     but bootstrap.min.css set `[hidden] { display: none !important; }`\n",
       "     so we also need the `!important` here to be able to override the\n",
       "     default hidden behavior on the sphinx rendered scikit-learn.org.\n",
       "     See: https://github.com/scikit-learn/scikit-learn/issues/21755 */\n",
       "  display: inline-block !important;\n",
       "  position: relative;\n",
       "}\n",
       "\n",
       "#sk-container-id-1 div.sk-text-repr-fallback {\n",
       "  display: none;\n",
       "}\n",
       "\n",
       "div.sk-parallel-item,\n",
       "div.sk-serial,\n",
       "div.sk-item {\n",
       "  /* draw centered vertical line to link estimators */\n",
       "  background-image: linear-gradient(var(--sklearn-color-text-on-default-background), var(--sklearn-color-text-on-default-background));\n",
       "  background-size: 2px 100%;\n",
       "  background-repeat: no-repeat;\n",
       "  background-position: center center;\n",
       "}\n",
       "\n",
       "/* Parallel-specific style estimator block */\n",
       "\n",
       "#sk-container-id-1 div.sk-parallel-item::after {\n",
       "  content: \"\";\n",
       "  width: 100%;\n",
       "  border-bottom: 2px solid var(--sklearn-color-text-on-default-background);\n",
       "  flex-grow: 1;\n",
       "}\n",
       "\n",
       "#sk-container-id-1 div.sk-parallel {\n",
       "  display: flex;\n",
       "  align-items: stretch;\n",
       "  justify-content: center;\n",
       "  background-color: var(--sklearn-color-background);\n",
       "  position: relative;\n",
       "}\n",
       "\n",
       "#sk-container-id-1 div.sk-parallel-item {\n",
       "  display: flex;\n",
       "  flex-direction: column;\n",
       "}\n",
       "\n",
       "#sk-container-id-1 div.sk-parallel-item:first-child::after {\n",
       "  align-self: flex-end;\n",
       "  width: 50%;\n",
       "}\n",
       "\n",
       "#sk-container-id-1 div.sk-parallel-item:last-child::after {\n",
       "  align-self: flex-start;\n",
       "  width: 50%;\n",
       "}\n",
       "\n",
       "#sk-container-id-1 div.sk-parallel-item:only-child::after {\n",
       "  width: 0;\n",
       "}\n",
       "\n",
       "/* Serial-specific style estimator block */\n",
       "\n",
       "#sk-container-id-1 div.sk-serial {\n",
       "  display: flex;\n",
       "  flex-direction: column;\n",
       "  align-items: center;\n",
       "  background-color: var(--sklearn-color-background);\n",
       "  padding-right: 1em;\n",
       "  padding-left: 1em;\n",
       "}\n",
       "\n",
       "\n",
       "/* Toggleable style: style used for estimator/Pipeline/ColumnTransformer box that is\n",
       "clickable and can be expanded/collapsed.\n",
       "- Pipeline and ColumnTransformer use this feature and define the default style\n",
       "- Estimators will overwrite some part of the style using the `sk-estimator` class\n",
       "*/\n",
       "\n",
       "/* Pipeline and ColumnTransformer style (default) */\n",
       "\n",
       "#sk-container-id-1 div.sk-toggleable {\n",
       "  /* Default theme specific background. It is overwritten whether we have a\n",
       "  specific estimator or a Pipeline/ColumnTransformer */\n",
       "  background-color: var(--sklearn-color-background);\n",
       "}\n",
       "\n",
       "/* Toggleable label */\n",
       "#sk-container-id-1 label.sk-toggleable__label {\n",
       "  cursor: pointer;\n",
       "  display: flex;\n",
       "  width: 100%;\n",
       "  margin-bottom: 0;\n",
       "  padding: 0.5em;\n",
       "  box-sizing: border-box;\n",
       "  text-align: center;\n",
       "  align-items: start;\n",
       "  justify-content: space-between;\n",
       "  gap: 0.5em;\n",
       "}\n",
       "\n",
       "#sk-container-id-1 label.sk-toggleable__label .caption {\n",
       "  font-size: 0.6rem;\n",
       "  font-weight: lighter;\n",
       "  color: var(--sklearn-color-text-muted);\n",
       "}\n",
       "\n",
       "#sk-container-id-1 label.sk-toggleable__label-arrow:before {\n",
       "  /* Arrow on the left of the label */\n",
       "  content: \"▸\";\n",
       "  float: left;\n",
       "  margin-right: 0.25em;\n",
       "  color: var(--sklearn-color-icon);\n",
       "}\n",
       "\n",
       "#sk-container-id-1 label.sk-toggleable__label-arrow:hover:before {\n",
       "  color: var(--sklearn-color-text);\n",
       "}\n",
       "\n",
       "/* Toggleable content - dropdown */\n",
       "\n",
       "#sk-container-id-1 div.sk-toggleable__content {\n",
       "  max-height: 0;\n",
       "  max-width: 0;\n",
       "  overflow: hidden;\n",
       "  text-align: left;\n",
       "  /* unfitted */\n",
       "  background-color: var(--sklearn-color-unfitted-level-0);\n",
       "}\n",
       "\n",
       "#sk-container-id-1 div.sk-toggleable__content.fitted {\n",
       "  /* fitted */\n",
       "  background-color: var(--sklearn-color-fitted-level-0);\n",
       "}\n",
       "\n",
       "#sk-container-id-1 div.sk-toggleable__content pre {\n",
       "  margin: 0.2em;\n",
       "  border-radius: 0.25em;\n",
       "  color: var(--sklearn-color-text);\n",
       "  /* unfitted */\n",
       "  background-color: var(--sklearn-color-unfitted-level-0);\n",
       "}\n",
       "\n",
       "#sk-container-id-1 div.sk-toggleable__content.fitted pre {\n",
       "  /* unfitted */\n",
       "  background-color: var(--sklearn-color-fitted-level-0);\n",
       "}\n",
       "\n",
       "#sk-container-id-1 input.sk-toggleable__control:checked~div.sk-toggleable__content {\n",
       "  /* Expand drop-down */\n",
       "  max-height: 200px;\n",
       "  max-width: 100%;\n",
       "  overflow: auto;\n",
       "}\n",
       "\n",
       "#sk-container-id-1 input.sk-toggleable__control:checked~label.sk-toggleable__label-arrow:before {\n",
       "  content: \"▾\";\n",
       "}\n",
       "\n",
       "/* Pipeline/ColumnTransformer-specific style */\n",
       "\n",
       "#sk-container-id-1 div.sk-label input.sk-toggleable__control:checked~label.sk-toggleable__label {\n",
       "  color: var(--sklearn-color-text);\n",
       "  background-color: var(--sklearn-color-unfitted-level-2);\n",
       "}\n",
       "\n",
       "#sk-container-id-1 div.sk-label.fitted input.sk-toggleable__control:checked~label.sk-toggleable__label {\n",
       "  background-color: var(--sklearn-color-fitted-level-2);\n",
       "}\n",
       "\n",
       "/* Estimator-specific style */\n",
       "\n",
       "/* Colorize estimator box */\n",
       "#sk-container-id-1 div.sk-estimator input.sk-toggleable__control:checked~label.sk-toggleable__label {\n",
       "  /* unfitted */\n",
       "  background-color: var(--sklearn-color-unfitted-level-2);\n",
       "}\n",
       "\n",
       "#sk-container-id-1 div.sk-estimator.fitted input.sk-toggleable__control:checked~label.sk-toggleable__label {\n",
       "  /* fitted */\n",
       "  background-color: var(--sklearn-color-fitted-level-2);\n",
       "}\n",
       "\n",
       "#sk-container-id-1 div.sk-label label.sk-toggleable__label,\n",
       "#sk-container-id-1 div.sk-label label {\n",
       "  /* The background is the default theme color */\n",
       "  color: var(--sklearn-color-text-on-default-background);\n",
       "}\n",
       "\n",
       "/* On hover, darken the color of the background */\n",
       "#sk-container-id-1 div.sk-label:hover label.sk-toggleable__label {\n",
       "  color: var(--sklearn-color-text);\n",
       "  background-color: var(--sklearn-color-unfitted-level-2);\n",
       "}\n",
       "\n",
       "/* Label box, darken color on hover, fitted */\n",
       "#sk-container-id-1 div.sk-label.fitted:hover label.sk-toggleable__label.fitted {\n",
       "  color: var(--sklearn-color-text);\n",
       "  background-color: var(--sklearn-color-fitted-level-2);\n",
       "}\n",
       "\n",
       "/* Estimator label */\n",
       "\n",
       "#sk-container-id-1 div.sk-label label {\n",
       "  font-family: monospace;\n",
       "  font-weight: bold;\n",
       "  display: inline-block;\n",
       "  line-height: 1.2em;\n",
       "}\n",
       "\n",
       "#sk-container-id-1 div.sk-label-container {\n",
       "  text-align: center;\n",
       "}\n",
       "\n",
       "/* Estimator-specific */\n",
       "#sk-container-id-1 div.sk-estimator {\n",
       "  font-family: monospace;\n",
       "  border: 1px dotted var(--sklearn-color-border-box);\n",
       "  border-radius: 0.25em;\n",
       "  box-sizing: border-box;\n",
       "  margin-bottom: 0.5em;\n",
       "  /* unfitted */\n",
       "  background-color: var(--sklearn-color-unfitted-level-0);\n",
       "}\n",
       "\n",
       "#sk-container-id-1 div.sk-estimator.fitted {\n",
       "  /* fitted */\n",
       "  background-color: var(--sklearn-color-fitted-level-0);\n",
       "}\n",
       "\n",
       "/* on hover */\n",
       "#sk-container-id-1 div.sk-estimator:hover {\n",
       "  /* unfitted */\n",
       "  background-color: var(--sklearn-color-unfitted-level-2);\n",
       "}\n",
       "\n",
       "#sk-container-id-1 div.sk-estimator.fitted:hover {\n",
       "  /* fitted */\n",
       "  background-color: var(--sklearn-color-fitted-level-2);\n",
       "}\n",
       "\n",
       "/* Specification for estimator info (e.g. \"i\" and \"?\") */\n",
       "\n",
       "/* Common style for \"i\" and \"?\" */\n",
       "\n",
       ".sk-estimator-doc-link,\n",
       "a:link.sk-estimator-doc-link,\n",
       "a:visited.sk-estimator-doc-link {\n",
       "  float: right;\n",
       "  font-size: smaller;\n",
       "  line-height: 1em;\n",
       "  font-family: monospace;\n",
       "  background-color: var(--sklearn-color-background);\n",
       "  border-radius: 1em;\n",
       "  height: 1em;\n",
       "  width: 1em;\n",
       "  text-decoration: none !important;\n",
       "  margin-left: 0.5em;\n",
       "  text-align: center;\n",
       "  /* unfitted */\n",
       "  border: var(--sklearn-color-unfitted-level-1) 1pt solid;\n",
       "  color: var(--sklearn-color-unfitted-level-1);\n",
       "}\n",
       "\n",
       ".sk-estimator-doc-link.fitted,\n",
       "a:link.sk-estimator-doc-link.fitted,\n",
       "a:visited.sk-estimator-doc-link.fitted {\n",
       "  /* fitted */\n",
       "  border: var(--sklearn-color-fitted-level-1) 1pt solid;\n",
       "  color: var(--sklearn-color-fitted-level-1);\n",
       "}\n",
       "\n",
       "/* On hover */\n",
       "div.sk-estimator:hover .sk-estimator-doc-link:hover,\n",
       ".sk-estimator-doc-link:hover,\n",
       "div.sk-label-container:hover .sk-estimator-doc-link:hover,\n",
       ".sk-estimator-doc-link:hover {\n",
       "  /* unfitted */\n",
       "  background-color: var(--sklearn-color-unfitted-level-3);\n",
       "  color: var(--sklearn-color-background);\n",
       "  text-decoration: none;\n",
       "}\n",
       "\n",
       "div.sk-estimator.fitted:hover .sk-estimator-doc-link.fitted:hover,\n",
       ".sk-estimator-doc-link.fitted:hover,\n",
       "div.sk-label-container:hover .sk-estimator-doc-link.fitted:hover,\n",
       ".sk-estimator-doc-link.fitted:hover {\n",
       "  /* fitted */\n",
       "  background-color: var(--sklearn-color-fitted-level-3);\n",
       "  color: var(--sklearn-color-background);\n",
       "  text-decoration: none;\n",
       "}\n",
       "\n",
       "/* Span, style for the box shown on hovering the info icon */\n",
       ".sk-estimator-doc-link span {\n",
       "  display: none;\n",
       "  z-index: 9999;\n",
       "  position: relative;\n",
       "  font-weight: normal;\n",
       "  right: .2ex;\n",
       "  padding: .5ex;\n",
       "  margin: .5ex;\n",
       "  width: min-content;\n",
       "  min-width: 20ex;\n",
       "  max-width: 50ex;\n",
       "  color: var(--sklearn-color-text);\n",
       "  box-shadow: 2pt 2pt 4pt #999;\n",
       "  /* unfitted */\n",
       "  background: var(--sklearn-color-unfitted-level-0);\n",
       "  border: .5pt solid var(--sklearn-color-unfitted-level-3);\n",
       "}\n",
       "\n",
       ".sk-estimator-doc-link.fitted span {\n",
       "  /* fitted */\n",
       "  background: var(--sklearn-color-fitted-level-0);\n",
       "  border: var(--sklearn-color-fitted-level-3);\n",
       "}\n",
       "\n",
       ".sk-estimator-doc-link:hover span {\n",
       "  display: block;\n",
       "}\n",
       "\n",
       "/* \"?\"-specific style due to the `<a>` HTML tag */\n",
       "\n",
       "#sk-container-id-1 a.estimator_doc_link {\n",
       "  float: right;\n",
       "  font-size: 1rem;\n",
       "  line-height: 1em;\n",
       "  font-family: monospace;\n",
       "  background-color: var(--sklearn-color-background);\n",
       "  border-radius: 1rem;\n",
       "  height: 1rem;\n",
       "  width: 1rem;\n",
       "  text-decoration: none;\n",
       "  /* unfitted */\n",
       "  color: var(--sklearn-color-unfitted-level-1);\n",
       "  border: var(--sklearn-color-unfitted-level-1) 1pt solid;\n",
       "}\n",
       "\n",
       "#sk-container-id-1 a.estimator_doc_link.fitted {\n",
       "  /* fitted */\n",
       "  border: var(--sklearn-color-fitted-level-1) 1pt solid;\n",
       "  color: var(--sklearn-color-fitted-level-1);\n",
       "}\n",
       "\n",
       "/* On hover */\n",
       "#sk-container-id-1 a.estimator_doc_link:hover {\n",
       "  /* unfitted */\n",
       "  background-color: var(--sklearn-color-unfitted-level-3);\n",
       "  color: var(--sklearn-color-background);\n",
       "  text-decoration: none;\n",
       "}\n",
       "\n",
       "#sk-container-id-1 a.estimator_doc_link.fitted:hover {\n",
       "  /* fitted */\n",
       "  background-color: var(--sklearn-color-fitted-level-3);\n",
       "}\n",
       "</style><div id=\"sk-container-id-1\" class=\"sk-top-container\"><div class=\"sk-text-repr-fallback\"><pre>GridSearchCV(cv=5, estimator=MultinomialNB(),\n",
       "             param_grid={&#x27;alpha&#x27;: [0.01, 0.1, 0.5, 1.0],\n",
       "                         &#x27;fit_prior&#x27;: [True, False]},\n",
       "             scoring=&#x27;accuracy&#x27;)</pre><b>In a Jupyter environment, please rerun this cell to show the HTML representation or trust the notebook. <br />On GitHub, the HTML representation is unable to render, please try loading this page with nbviewer.org.</b></div><div class=\"sk-container\" hidden><div class=\"sk-item sk-dashed-wrapped\"><div class=\"sk-label-container\"><div class=\"sk-label fitted sk-toggleable\"><input class=\"sk-toggleable__control sk-hidden--visually\" id=\"sk-estimator-id-1\" type=\"checkbox\" ><label for=\"sk-estimator-id-1\" class=\"sk-toggleable__label fitted sk-toggleable__label-arrow\"><div><div>GridSearchCV</div></div><div><a class=\"sk-estimator-doc-link fitted\" rel=\"noreferrer\" target=\"_blank\" href=\"https://scikit-learn.org/1.6/modules/generated/sklearn.model_selection.GridSearchCV.html\">?<span>Documentation for GridSearchCV</span></a><span class=\"sk-estimator-doc-link fitted\">i<span>Fitted</span></span></div></label><div class=\"sk-toggleable__content fitted\"><pre>GridSearchCV(cv=5, estimator=MultinomialNB(),\n",
       "             param_grid={&#x27;alpha&#x27;: [0.01, 0.1, 0.5, 1.0],\n",
       "                         &#x27;fit_prior&#x27;: [True, False]},\n",
       "             scoring=&#x27;accuracy&#x27;)</pre></div> </div></div><div class=\"sk-parallel\"><div class=\"sk-parallel-item\"><div class=\"sk-item\"><div class=\"sk-label-container\"><div class=\"sk-label fitted sk-toggleable\"><input class=\"sk-toggleable__control sk-hidden--visually\" id=\"sk-estimator-id-2\" type=\"checkbox\" ><label for=\"sk-estimator-id-2\" class=\"sk-toggleable__label fitted sk-toggleable__label-arrow\"><div><div>best_estimator_: MultinomialNB</div></div></label><div class=\"sk-toggleable__content fitted\"><pre>MultinomialNB()</pre></div> </div></div><div class=\"sk-serial\"><div class=\"sk-item\"><div class=\"sk-estimator fitted sk-toggleable\"><input class=\"sk-toggleable__control sk-hidden--visually\" id=\"sk-estimator-id-3\" type=\"checkbox\" ><label for=\"sk-estimator-id-3\" class=\"sk-toggleable__label fitted sk-toggleable__label-arrow\"><div><div>MultinomialNB</div></div><div><a class=\"sk-estimator-doc-link fitted\" rel=\"noreferrer\" target=\"_blank\" href=\"https://scikit-learn.org/1.6/modules/generated/sklearn.naive_bayes.MultinomialNB.html\">?<span>Documentation for MultinomialNB</span></a></div></label><div class=\"sk-toggleable__content fitted\"><pre>MultinomialNB()</pre></div> </div></div></div></div></div></div></div></div></div>"
      ],
      "text/plain": [
       "GridSearchCV(cv=5, estimator=MultinomialNB(),\n",
       "             param_grid={'alpha': [0.01, 0.1, 0.5, 1.0],\n",
       "                         'fit_prior': [True, False]},\n",
       "             scoring='accuracy')"
      ]
     },
     "execution_count": 31,
     "metadata": {},
     "output_type": "execute_result"
    }
   ],
   "source": [
    "hyper_parameters_naive = {\n",
    "    'alpha': [0.01, 0.1, 0.5, 1.0],\n",
    "    'fit_prior': [True, False]\n",
    "}\n",
    "\n",
    "naive_model = GridSearchCV(MultinomialNB(), hyper_parameters_naive, cv=5, scoring='accuracy')\n",
    "naive_model.fit(X_train, y_train)\n"
   ]
  },
  {
   "cell_type": "markdown",
   "id": "6f7abc75",
   "metadata": {},
   "source": [
    "* Plot GridSearchCV results using Seaborn's heatmap"
   ]
  },
  {
   "cell_type": "code",
   "execution_count": 32,
   "id": "69f0d660",
   "metadata": {
    "ExecuteTime": {
     "end_time": "2025-05-12T20:44:23.194967Z",
     "start_time": "2025-05-12T20:44:22.842349Z"
    }
   },
   "outputs": [
    {
     "data": {
      "image/png": "[encoded data removed]",
      "text/plain": [
       "<Figure size 800x600 with 2 Axes>"
      ]
     },
     "metadata": {},
     "output_type": "display_data"
    }
   ],
   "source": [
    "# Convert to DataFrame\n",
    "results_df = pd.DataFrame(naive_model.cv_results_)\n",
    "\n",
    "# Create a pivot table for plotting\n",
    "pivot_table = results_df.pivot(index='param_alpha', columns='param_fit_prior', values='mean_test_score')\n",
    "\n",
    "# Plot heatmap\n",
    "plt.figure(figsize=(8, 6))\n",
    "sns.heatmap(pivot_table, annot=True, fmt=\".4f\", cmap=\"YlGnBu\")\n",
    "plt.title(\"Grid Search Accuracy for MultinomialNB\")\n",
    "plt.xlabel(\"fit_prior\")\n",
    "plt.ylabel(\"alpha\")\n",
    "plt.show()"
   ]
  },
  {
   "cell_type": "markdown",
   "id": "85bd78f1",
   "metadata": {},
   "source": [
    "* Trial-Error on the best hyperparameter values"
   ]
  },
  {
   "cell_type": "code",
   "execution_count": 33,
   "id": "3e855d94",
   "metadata": {
    "ExecuteTime": {
     "end_time": "2025-05-12T20:44:24.320661Z",
     "start_time": "2025-05-12T20:44:23.211457Z"
    }
   },
   "outputs": [],
   "source": [
    "# Range of the values in log-space\n",
    "alpha_values = [0.01, 0.1, 0.5, 1.0]\n",
    "fit_prior_values = [True, False]\n",
    "\n",
    "results = []\n",
    "\n",
    "for alpha in alpha_values:\n",
    "    for fit_prior in fit_prior_values:\n",
    "        model = MultinomialNB(alpha=alpha, fit_prior=fit_prior)\n",
    "        model.fit(X_train, y_train)\n",
    "        y_pred = model.predict(X_test)\n",
    "        acc = accuracy_score(y_test, y_pred)\n",
    "        results.append({\n",
    "            'alpha': alpha,\n",
    "            'fit_prior': fit_prior,\n",
    "            'accuracy': acc\n",
    "        })"
   ]
  },
  {
   "cell_type": "markdown",
   "id": "89e2122f",
   "metadata": {},
   "source": [
    "* Plot Trial-Error results using Seaborn's heatmap"
   ]
  },
  {
   "cell_type": "code",
   "execution_count": 34,
   "id": "6e20dd65",
   "metadata": {
    "ExecuteTime": {
     "end_time": "2025-05-12T20:44:24.469113Z",
     "start_time": "2025-05-12T20:44:24.339279Z"
    }
   },
   "outputs": [
    {
     "data": {
      "image/png": "[encoded data removed]",
      "text/plain": [
       "<Figure size 800x600 with 2 Axes>"
      ]
     },
     "metadata": {},
     "output_type": "display_data"
    }
   ],
   "source": [
    "# Convert to DataFrame\n",
    "results_df = pd.DataFrame(results)\n",
    "\n",
    "# Pivot for heatmap format\n",
    "pivot = results_df.pivot(index='alpha', columns='fit_prior', values='accuracy')\n",
    "\n",
    "# Plot heatmap\n",
    "plt.figure(figsize=(8, 6))\n",
    "sns.heatmap(pivot, annot=True, fmt=\".4f\", cmap=\"YlGnBu\")\n",
    "plt.title(\"Trial-Error Accuracy for MultinomialNB\")\n",
    "plt.xlabel(\"fit_prior\")\n",
    "plt.ylabel(\"alpha\")\n",
    "plt.show()"
   ]
  },
  {
   "cell_type": "markdown",
   "id": "fc8a2153",
   "metadata": {},
   "source": [
    "Looking at the plots we can see that the best hyperparameters are alpha = 1 and any value of fit_prior"
   ]
  },
  {
   "cell_type": "markdown",
   "id": "77aedbb7",
   "metadata": {},
   "source": [
    "* Training model with the best hyperparameters"
   ]
  },
  {
   "cell_type": "code",
   "execution_count": 35,
   "id": "f204aafe",
   "metadata": {
    "ExecuteTime": {
     "end_time": "2025-05-12T20:44:24.689335Z",
     "start_time": "2025-05-12T20:44:24.484965Z"
    }
   },
   "outputs": [],
   "source": [
    "best_model_naive = MultinomialNB(alpha=1, fit_prior=True)\n",
    "best_model_naive.fit(X_train, y_train)\n",
    "y_train_pred = best_model_naive.predict(X_train)\n",
    "y_test_pred  = best_model_naive.predict(X_test)\n",
    "models[\"Naive Bayes\"] = best_model_naive"
   ]
  },
  {
   "cell_type": "markdown",
   "id": "b8e2843f",
   "metadata": {},
   "source": [
    "* Plotiing confusion matrix using Seaborn's heatmap"
   ]
  },
  {
   "cell_type": "code",
   "execution_count": 36,
   "id": "67ba8d81",
   "metadata": {
    "ExecuteTime": {
     "end_time": "2025-05-12T20:44:25.770486Z",
     "start_time": "2025-05-12T20:44:24.706922Z"
    }
   },
   "outputs": [
    {
     "data": {
      "image/png": "[encoded data removed]",
      "text/plain": [
       "<Figure size 1200x800 with 2 Axes>"
      ]
     },
     "metadata": {},
     "output_type": "display_data"
    }
   ],
   "source": [
    "# Raw confusion matrix\n",
    "cm = confusion_matrix(y_test, y_test_pred)\n",
    "fig, ax = plt.subplots(figsize=(12, 8))\n",
    "sns.heatmap(\n",
    "    cm,\n",
    "    annot=True,\n",
    "    fmt='d',                    \n",
    "    cmap='Oranges',\n",
    "    annot_kws={\"size\": 8},\n",
    "    ax=ax\n",
    ")\n",
    "ax.set_xlabel(\"Predicted label\", fontsize=12)\n",
    "ax.set_ylabel(\"True label\", fontsize=12)\n",
    "ax.set_title(\"Confusion Matrix (Raw)\", fontsize=16)\n",
    "ax.tick_params(axis='both', which='major', labelsize=12)\n",
    "plt.tight_layout()\n",
    "plt.show()"
   ]
  },
  {
   "cell_type": "markdown",
   "id": "d66393d4",
   "metadata": {},
   "source": [
    "* Classification metrics for test and training"
   ]
  },
  {
   "cell_type": "code",
   "execution_count": 37,
   "id": "03b19724",
   "metadata": {
    "ExecuteTime": {
     "end_time": "2025-05-12T20:44:25.922373Z",
     "start_time": "2025-05-12T20:44:25.788867Z"
    }
   },
   "outputs": [
    {
     "name": "stdout",
     "output_type": "stream",
     "text": [
      "       Accuracy      F1  Precision  Recall\n",
      "Split                                     \n",
      "Train    0.9443  0.9438     0.9441  0.9443\n",
      "Test     0.9155  0.9147     0.9146  0.9155\n"
     ]
    }
   ],
   "source": [
    "rows = []\n",
    "for split_name, y_true, y_pred in [\n",
    "    (\"Train\", y_train, y_train_pred),\n",
    "    (\"Test\",  y_test,  y_test_pred)\n",
    "]:\n",
    "    rows.append({\n",
    "        \"Split\":      split_name,\n",
    "        \"Accuracy\":   accuracy_score(y_true, y_pred),\n",
    "        \"F1\": f1_score(y_true, y_pred, average=\"macro\"),\n",
    "        \"Precision\":  precision_score(y_true, y_pred, average=\"macro\"),\n",
    "        \"Recall\":     recall_score(y_true, y_pred, average=\"macro\"),\n",
    "    })\n",
    "\n",
    "df_metrics = pd.DataFrame(rows).set_index(\"Split\").round(4)\n",
    "print(df_metrics)"
   ]
  },
  {
   "cell_type": "markdown",
   "id": "4afeaaf9",
   "metadata": {},
   "source": [
    "## Random Forest"
   ]
  },
  {
   "cell_type": "markdown",
   "id": "e7403a45",
   "metadata": {},
   "source": [
    "* GridSearch on the best hyperparameter values"
   ]
  },
  {
   "cell_type": "code",
   "execution_count": 38,
   "id": "2e5da4ef",
   "metadata": {
    "ExecuteTime": {
     "start_time": "2025-05-12T20:44:25.944756Z"
    },
    "jupyter": {
     "is_executing": true
    }
   },
   "outputs": [
    {
     "data": {
      "text/html": [
       "<style>#sk-container-id-2 {\n",
       "  /* Definition of color scheme common for light and dark mode */\n",
       "  --sklearn-color-text: #000;\n",
       "  --sklearn-color-text-muted: #666;\n",
       "  --sklearn-color-line: gray;\n",
       "  /* Definition of color scheme for unfitted estimators */\n",
       "  --sklearn-color-unfitted-level-0: #fff5e6;\n",
       "  --sklearn-color-unfitted-level-1: #f6e4d2;\n",
       "  --sklearn-color-unfitted-level-2: #ffe0b3;\n",
       "  --sklearn-color-unfitted-level-3: chocolate;\n",
       "  /* Definition of color scheme for fitted estimators */\n",
       "  --sklearn-color-fitted-level-0: #f0f8ff;\n",
       "  --sklearn-color-fitted-level-1: #d4ebff;\n",
       "  --sklearn-color-fitted-level-2: #b3dbfd;\n",
       "  --sklearn-color-fitted-level-3: cornflowerblue;\n",
       "\n",
       "  /* Specific color for light theme */\n",
       "  --sklearn-color-text-on-default-background: var(--sg-text-color, var(--theme-code-foreground, var(--jp-content-font-color1, black)));\n",
       "  --sklearn-color-background: var(--sg-background-color, var(--theme-background, var(--jp-layout-color0, white)));\n",
       "  --sklearn-color-border-box: var(--sg-text-color, var(--theme-code-foreground, var(--jp-content-font-color1, black)));\n",
       "  --sklearn-color-icon: #696969;\n",
       "\n",
       "  @media (prefers-color-scheme: dark) {\n",
       "    /* Redefinition of color scheme for dark theme */\n",
       "    --sklearn-color-text-on-default-background: var(--sg-text-color, var(--theme-code-foreground, var(--jp-content-font-color1, white)));\n",
       "    --sklearn-color-background: var(--sg-background-color, var(--theme-background, var(--jp-layout-color0, #111)));\n",
       "    --sklearn-color-border-box: var(--sg-text-color, var(--theme-code-foreground, var(--jp-content-font-color1, white)));\n",
       "    --sklearn-color-icon: #878787;\n",
       "  }\n",
       "}\n",
       "\n",
       "#sk-container-id-2 {\n",
       "  color: var(--sklearn-color-text);\n",
       "}\n",
       "\n",
       "#sk-container-id-2 pre {\n",
       "  padding: 0;\n",
       "}\n",
       "\n",
       "#sk-container-id-2 input.sk-hidden--visually {\n",
       "  border: 0;\n",
       "  clip: rect(1px 1px 1px 1px);\n",
       "  clip: rect(1px, 1px, 1px, 1px);\n",
       "  height: 1px;\n",
       "  margin: -1px;\n",
       "  overflow: hidden;\n",
       "  padding: 0;\n",
       "  position: absolute;\n",
       "  width: 1px;\n",
       "}\n",
       "\n",
       "#sk-container-id-2 div.sk-dashed-wrapped {\n",
       "  border: 1px dashed var(--sklearn-color-line);\n",
       "  margin: 0 0.4em 0.5em 0.4em;\n",
       "  box-sizing: border-box;\n",
       "  padding-bottom: 0.4em;\n",
       "  background-color: var(--sklearn-color-background);\n",
       "}\n",
       "\n",
       "#sk-container-id-2 div.sk-container {\n",
       "  /* jupyter's `normalize.less` sets `[hidden] { display: none; }`\n",
       "     but bootstrap.min.css set `[hidden] { display: none !important; }`\n",
       "     so we also need the `!important` here to be able to override the\n",
       "     default hidden behavior on the sphinx rendered scikit-learn.org.\n",
       "     See: https://github.com/scikit-learn/scikit-learn/issues/21755 */\n",
       "  display: inline-block !important;\n",
       "  position: relative;\n",
       "}\n",
       "\n",
       "#sk-container-id-2 div.sk-text-repr-fallback {\n",
       "  display: none;\n",
       "}\n",
       "\n",
       "div.sk-parallel-item,\n",
       "div.sk-serial,\n",
       "div.sk-item {\n",
       "  /* draw centered vertical line to link estimators */\n",
       "  background-image: linear-gradient(var(--sklearn-color-text-on-default-background), var(--sklearn-color-text-on-default-background));\n",
       "  background-size: 2px 100%;\n",
       "  background-repeat: no-repeat;\n",
       "  background-position: center center;\n",
       "}\n",
       "\n",
       "/* Parallel-specific style estimator block */\n",
       "\n",
       "#sk-container-id-2 div.sk-parallel-item::after {\n",
       "  content: \"\";\n",
       "  width: 100%;\n",
       "  border-bottom: 2px solid var(--sklearn-color-text-on-default-background);\n",
       "  flex-grow: 1;\n",
       "}\n",
       "\n",
       "#sk-container-id-2 div.sk-parallel {\n",
       "  display: flex;\n",
       "  align-items: stretch;\n",
       "  justify-content: center;\n",
       "  background-color: var(--sklearn-color-background);\n",
       "  position: relative;\n",
       "}\n",
       "\n",
       "#sk-container-id-2 div.sk-parallel-item {\n",
       "  display: flex;\n",
       "  flex-direction: column;\n",
       "}\n",
       "\n",
       "#sk-container-id-2 div.sk-parallel-item:first-child::after {\n",
       "  align-self: flex-end;\n",
       "  width: 50%;\n",
       "}\n",
       "\n",
       "#sk-container-id-2 div.sk-parallel-item:last-child::after {\n",
       "  align-self: flex-start;\n",
       "  width: 50%;\n",
       "}\n",
       "\n",
       "#sk-container-id-2 div.sk-parallel-item:only-child::after {\n",
       "  width: 0;\n",
       "}\n",
       "\n",
       "/* Serial-specific style estimator block */\n",
       "\n",
       "#sk-container-id-2 div.sk-serial {\n",
       "  display: flex;\n",
       "  flex-direction: column;\n",
       "  align-items: center;\n",
       "  background-color: var(--sklearn-color-background);\n",
       "  padding-right: 1em;\n",
       "  padding-left: 1em;\n",
       "}\n",
       "\n",
       "\n",
       "/* Toggleable style: style used for estimator/Pipeline/ColumnTransformer box that is\n",
       "clickable and can be expanded/collapsed.\n",
       "- Pipeline and ColumnTransformer use this feature and define the default style\n",
       "- Estimators will overwrite some part of the style using the `sk-estimator` class\n",
       "*/\n",
       "\n",
       "/* Pipeline and ColumnTransformer style (default) */\n",
       "\n",
       "#sk-container-id-2 div.sk-toggleable {\n",
       "  /* Default theme specific background. It is overwritten whether we have a\n",
       "  specific estimator or a Pipeline/ColumnTransformer */\n",
       "  background-color: var(--sklearn-color-background);\n",
       "}\n",
       "\n",
       "/* Toggleable label */\n",
       "#sk-container-id-2 label.sk-toggleable__label {\n",
       "  cursor: pointer;\n",
       "  display: flex;\n",
       "  width: 100%;\n",
       "  margin-bottom: 0;\n",
       "  padding: 0.5em;\n",
       "  box-sizing: border-box;\n",
       "  text-align: center;\n",
       "  align-items: start;\n",
       "  justify-content: space-between;\n",
       "  gap: 0.5em;\n",
       "}\n",
       "\n",
       "#sk-container-id-2 label.sk-toggleable__label .caption {\n",
       "  font-size: 0.6rem;\n",
       "  font-weight: lighter;\n",
       "  color: var(--sklearn-color-text-muted);\n",
       "}\n",
       "\n",
       "#sk-container-id-2 label.sk-toggleable__label-arrow:before {\n",
       "  /* Arrow on the left of the label */\n",
       "  content: \"▸\";\n",
       "  float: left;\n",
       "  margin-right: 0.25em;\n",
       "  color: var(--sklearn-color-icon);\n",
       "}\n",
       "\n",
       "#sk-container-id-2 label.sk-toggleable__label-arrow:hover:before {\n",
       "  color: var(--sklearn-color-text);\n",
       "}\n",
       "\n",
       "/* Toggleable content - dropdown */\n",
       "\n",
       "#sk-container-id-2 div.sk-toggleable__content {\n",
       "  max-height: 0;\n",
       "  max-width: 0;\n",
       "  overflow: hidden;\n",
       "  text-align: left;\n",
       "  /* unfitted */\n",
       "  background-color: var(--sklearn-color-unfitted-level-0);\n",
       "}\n",
       "\n",
       "#sk-container-id-2 div.sk-toggleable__content.fitted {\n",
       "  /* fitted */\n",
       "  background-color: var(--sklearn-color-fitted-level-0);\n",
       "}\n",
       "\n",
       "#sk-container-id-2 div.sk-toggleable__content pre {\n",
       "  margin: 0.2em;\n",
       "  border-radius: 0.25em;\n",
       "  color: var(--sklearn-color-text);\n",
       "  /* unfitted */\n",
       "  background-color: var(--sklearn-color-unfitted-level-0);\n",
       "}\n",
       "\n",
       "#sk-container-id-2 div.sk-toggleable__content.fitted pre {\n",
       "  /* unfitted */\n",
       "  background-color: var(--sklearn-color-fitted-level-0);\n",
       "}\n",
       "\n",
       "#sk-container-id-2 input.sk-toggleable__control:checked~div.sk-toggleable__content {\n",
       "  /* Expand drop-down */\n",
       "  max-height: 200px;\n",
       "  max-width: 100%;\n",
       "  overflow: auto;\n",
       "}\n",
       "\n",
       "#sk-container-id-2 input.sk-toggleable__control:checked~label.sk-toggleable__label-arrow:before {\n",
       "  content: \"▾\";\n",
       "}\n",
       "\n",
       "/* Pipeline/ColumnTransformer-specific style */\n",
       "\n",
       "#sk-container-id-2 div.sk-label input.sk-toggleable__control:checked~label.sk-toggleable__label {\n",
       "  color: var(--sklearn-color-text);\n",
       "  background-color: var(--sklearn-color-unfitted-level-2);\n",
       "}\n",
       "\n",
       "#sk-container-id-2 div.sk-label.fitted input.sk-toggleable__control:checked~label.sk-toggleable__label {\n",
       "  background-color: var(--sklearn-color-fitted-level-2);\n",
       "}\n",
       "\n",
       "/* Estimator-specific style */\n",
       "\n",
       "/* Colorize estimator box */\n",
       "#sk-container-id-2 div.sk-estimator input.sk-toggleable__control:checked~label.sk-toggleable__label {\n",
       "  /* unfitted */\n",
       "  background-color: var(--sklearn-color-unfitted-level-2);\n",
       "}\n",
       "\n",
       "#sk-container-id-2 div.sk-estimator.fitted input.sk-toggleable__control:checked~label.sk-toggleable__label {\n",
       "  /* fitted */\n",
       "  background-color: var(--sklearn-color-fitted-level-2);\n",
       "}\n",
       "\n",
       "#sk-container-id-2 div.sk-label label.sk-toggleable__label,\n",
       "#sk-container-id-2 div.sk-label label {\n",
       "  /* The background is the default theme color */\n",
       "  color: var(--sklearn-color-text-on-default-background);\n",
       "}\n",
       "\n",
       "/* On hover, darken the color of the background */\n",
       "#sk-container-id-2 div.sk-label:hover label.sk-toggleable__label {\n",
       "  color: var(--sklearn-color-text);\n",
       "  background-color: var(--sklearn-color-unfitted-level-2);\n",
       "}\n",
       "\n",
       "/* Label box, darken color on hover, fitted */\n",
       "#sk-container-id-2 div.sk-label.fitted:hover label.sk-toggleable__label.fitted {\n",
       "  color: var(--sklearn-color-text);\n",
       "  background-color: var(--sklearn-color-fitted-level-2);\n",
       "}\n",
       "\n",
       "/* Estimator label */\n",
       "\n",
       "#sk-container-id-2 div.sk-label label {\n",
       "  font-family: monospace;\n",
       "  font-weight: bold;\n",
       "  display: inline-block;\n",
       "  line-height: 1.2em;\n",
       "}\n",
       "\n",
       "#sk-container-id-2 div.sk-label-container {\n",
       "  text-align: center;\n",
       "}\n",
       "\n",
       "/* Estimator-specific */\n",
       "#sk-container-id-2 div.sk-estimator {\n",
       "  font-family: monospace;\n",
       "  border: 1px dotted var(--sklearn-color-border-box);\n",
       "  border-radius: 0.25em;\n",
       "  box-sizing: border-box;\n",
       "  margin-bottom: 0.5em;\n",
       "  /* unfitted */\n",
       "  background-color: var(--sklearn-color-unfitted-level-0);\n",
       "}\n",
       "\n",
       "#sk-container-id-2 div.sk-estimator.fitted {\n",
       "  /* fitted */\n",
       "  background-color: var(--sklearn-color-fitted-level-0);\n",
       "}\n",
       "\n",
       "/* on hover */\n",
       "#sk-container-id-2 div.sk-estimator:hover {\n",
       "  /* unfitted */\n",
       "  background-color: var(--sklearn-color-unfitted-level-2);\n",
       "}\n",
       "\n",
       "#sk-container-id-2 div.sk-estimator.fitted:hover {\n",
       "  /* fitted */\n",
       "  background-color: var(--sklearn-color-fitted-level-2);\n",
       "}\n",
       "\n",
       "/* Specification for estimator info (e.g. \"i\" and \"?\") */\n",
       "\n",
       "/* Common style for \"i\" and \"?\" */\n",
       "\n",
       ".sk-estimator-doc-link,\n",
       "a:link.sk-estimator-doc-link,\n",
       "a:visited.sk-estimator-doc-link {\n",
       "  float: right;\n",
       "  font-size: smaller;\n",
       "  line-height: 1em;\n",
       "  font-family: monospace;\n",
       "  background-color: var(--sklearn-color-background);\n",
       "  border-radius: 1em;\n",
       "  height: 1em;\n",
       "  width: 1em;\n",
       "  text-decoration: none !important;\n",
       "  margin-left: 0.5em;\n",
       "  text-align: center;\n",
       "  /* unfitted */\n",
       "  border: var(--sklearn-color-unfitted-level-1) 1pt solid;\n",
       "  color: var(--sklearn-color-unfitted-level-1);\n",
       "}\n",
       "\n",
       ".sk-estimator-doc-link.fitted,\n",
       "a:link.sk-estimator-doc-link.fitted,\n",
       "a:visited.sk-estimator-doc-link.fitted {\n",
       "  /* fitted */\n",
       "  border: var(--sklearn-color-fitted-level-1) 1pt solid;\n",
       "  color: var(--sklearn-color-fitted-level-1);\n",
       "}\n",
       "\n",
       "/* On hover */\n",
       "div.sk-estimator:hover .sk-estimator-doc-link:hover,\n",
       ".sk-estimator-doc-link:hover,\n",
       "div.sk-label-container:hover .sk-estimator-doc-link:hover,\n",
       ".sk-estimator-doc-link:hover {\n",
       "  /* unfitted */\n",
       "  background-color: var(--sklearn-color-unfitted-level-3);\n",
       "  color: var(--sklearn-color-background);\n",
       "  text-decoration: none;\n",
       "}\n",
       "\n",
       "div.sk-estimator.fitted:hover .sk-estimator-doc-link.fitted:hover,\n",
       ".sk-estimator-doc-link.fitted:hover,\n",
       "div.sk-label-container:hover .sk-estimator-doc-link.fitted:hover,\n",
       ".sk-estimator-doc-link.fitted:hover {\n",
       "  /* fitted */\n",
       "  background-color: var(--sklearn-color-fitted-level-3);\n",
       "  color: var(--sklearn-color-background);\n",
       "  text-decoration: none;\n",
       "}\n",
       "\n",
       "/* Span, style for the box shown on hovering the info icon */\n",
       ".sk-estimator-doc-link span {\n",
       "  display: none;\n",
       "  z-index: 9999;\n",
       "  position: relative;\n",
       "  font-weight: normal;\n",
       "  right: .2ex;\n",
       "  padding: .5ex;\n",
       "  margin: .5ex;\n",
       "  width: min-content;\n",
       "  min-width: 20ex;\n",
       "  max-width: 50ex;\n",
       "  color: var(--sklearn-color-text);\n",
       "  box-shadow: 2pt 2pt 4pt #999;\n",
       "  /* unfitted */\n",
       "  background: var(--sklearn-color-unfitted-level-0);\n",
       "  border: .5pt solid var(--sklearn-color-unfitted-level-3);\n",
       "}\n",
       "\n",
       ".sk-estimator-doc-link.fitted span {\n",
       "  /* fitted */\n",
       "  background: var(--sklearn-color-fitted-level-0);\n",
       "  border: var(--sklearn-color-fitted-level-3);\n",
       "}\n",
       "\n",
       ".sk-estimator-doc-link:hover span {\n",
       "  display: block;\n",
       "}\n",
       "\n",
       "/* \"?\"-specific style due to the `<a>` HTML tag */\n",
       "\n",
       "#sk-container-id-2 a.estimator_doc_link {\n",
       "  float: right;\n",
       "  font-size: 1rem;\n",
       "  line-height: 1em;\n",
       "  font-family: monospace;\n",
       "  background-color: var(--sklearn-color-background);\n",
       "  border-radius: 1rem;\n",
       "  height: 1rem;\n",
       "  width: 1rem;\n",
       "  text-decoration: none;\n",
       "  /* unfitted */\n",
       "  color: var(--sklearn-color-unfitted-level-1);\n",
       "  border: var(--sklearn-color-unfitted-level-1) 1pt solid;\n",
       "}\n",
       "\n",
       "#sk-container-id-2 a.estimator_doc_link.fitted {\n",
       "  /* fitted */\n",
       "  border: var(--sklearn-color-fitted-level-1) 1pt solid;\n",
       "  color: var(--sklearn-color-fitted-level-1);\n",
       "}\n",
       "\n",
       "/* On hover */\n",
       "#sk-container-id-2 a.estimator_doc_link:hover {\n",
       "  /* unfitted */\n",
       "  background-color: var(--sklearn-color-unfitted-level-3);\n",
       "  color: var(--sklearn-color-background);\n",
       "  text-decoration: none;\n",
       "}\n",
       "\n",
       "#sk-container-id-2 a.estimator_doc_link.fitted:hover {\n",
       "  /* fitted */\n",
       "  background-color: var(--sklearn-color-fitted-level-3);\n",
       "}\n",
       "</style><div id=\"sk-container-id-2\" class=\"sk-top-container\"><div class=\"sk-text-repr-fallback\"><pre>GridSearchCV(cv=5, estimator=RandomForestClassifier(random_state=42), n_jobs=-1,\n",
       "             param_grid={&#x27;max_depth&#x27;: [None, 10, 20],\n",
       "                         &#x27;n_estimators&#x27;: [100, 200]},\n",
       "             scoring=&#x27;accuracy&#x27;)</pre><b>In a Jupyter environment, please rerun this cell to show the HTML representation or trust the notebook. <br />On GitHub, the HTML representation is unable to render, please try loading this page with nbviewer.org.</b></div><div class=\"sk-container\" hidden><div class=\"sk-item sk-dashed-wrapped\"><div class=\"sk-label-container\"><div class=\"sk-label fitted sk-toggleable\"><input class=\"sk-toggleable__control sk-hidden--visually\" id=\"sk-estimator-id-4\" type=\"checkbox\" ><label for=\"sk-estimator-id-4\" class=\"sk-toggleable__label fitted sk-toggleable__label-arrow\"><div><div>GridSearchCV</div></div><div><a class=\"sk-estimator-doc-link fitted\" rel=\"noreferrer\" target=\"_blank\" href=\"https://scikit-learn.org/1.6/modules/generated/sklearn.model_selection.GridSearchCV.html\">?<span>Documentation for GridSearchCV</span></a><span class=\"sk-estimator-doc-link fitted\">i<span>Fitted</span></span></div></label><div class=\"sk-toggleable__content fitted\"><pre>GridSearchCV(cv=5, estimator=RandomForestClassifier(random_state=42), n_jobs=-1,\n",
       "             param_grid={&#x27;max_depth&#x27;: [None, 10, 20],\n",
       "                         &#x27;n_estimators&#x27;: [100, 200]},\n",
       "             scoring=&#x27;accuracy&#x27;)</pre></div> </div></div><div class=\"sk-parallel\"><div class=\"sk-parallel-item\"><div class=\"sk-item\"><div class=\"sk-label-container\"><div class=\"sk-label fitted sk-toggleable\"><input class=\"sk-toggleable__control sk-hidden--visually\" id=\"sk-estimator-id-5\" type=\"checkbox\" ><label for=\"sk-estimator-id-5\" class=\"sk-toggleable__label fitted sk-toggleable__label-arrow\"><div><div>best_estimator_: RandomForestClassifier</div></div></label><div class=\"sk-toggleable__content fitted\"><pre>RandomForestClassifier(max_depth=10, n_estimators=200, random_state=42)</pre></div> </div></div><div class=\"sk-serial\"><div class=\"sk-item\"><div class=\"sk-estimator fitted sk-toggleable\"><input class=\"sk-toggleable__control sk-hidden--visually\" id=\"sk-estimator-id-6\" type=\"checkbox\" ><label for=\"sk-estimator-id-6\" class=\"sk-toggleable__label fitted sk-toggleable__label-arrow\"><div><div>RandomForestClassifier</div></div><div><a class=\"sk-estimator-doc-link fitted\" rel=\"noreferrer\" target=\"_blank\" href=\"https://scikit-learn.org/1.6/modules/generated/sklearn.ensemble.RandomForestClassifier.html\">?<span>Documentation for RandomForestClassifier</span></a></div></label><div class=\"sk-toggleable__content fitted\"><pre>RandomForestClassifier(max_depth=10, n_estimators=200, random_state=42)</pre></div> </div></div></div></div></div></div></div></div></div>"
      ],
      "text/plain": [
       "GridSearchCV(cv=5, estimator=RandomForestClassifier(random_state=42), n_jobs=-1,\n",
       "             param_grid={'max_depth': [None, 10, 20],\n",
       "                         'n_estimators': [100, 200]},\n",
       "             scoring='accuracy')"
      ]
     },
     "execution_count": 38,
     "metadata": {},
     "output_type": "execute_result"
    }
   ],
   "source": [
    "hyper_parameters_rf = {\n",
    "    'n_estimators': [100, 200],\n",
    "    'max_depth': [None, 10, 20],\n",
    "}\n",
    "\n",
    "rf = RandomForestClassifier(random_state=42)\n",
    "\n",
    "# Set up GridSearchCV\n",
    "rf_model = GridSearchCV(\n",
    "    estimator=rf,\n",
    "    param_grid=hyper_parameters_rf,\n",
    "    cv=5, \n",
    "    scoring='accuracy',\n",
    "    n_jobs=-1,\n",
    ")\n",
    "\n",
    "rf_model.fit(X_train, y_train)"
   ]
  },
  {
   "cell_type": "markdown",
   "id": "040b4a31",
   "metadata": {},
   "source": [
    "* Plot GridSearchCV results using Seaborn's heatmap"
   ]
  },
  {
   "cell_type": "code",
   "execution_count": 39,
   "id": "a5bd30fa",
   "metadata": {},
   "outputs": [
    {
     "data": {
      "image/png": "[encoded data removed]",
      "text/plain": [
       "<Figure size 800x600 with 2 Axes>"
      ]
     },
     "metadata": {},
     "output_type": "display_data"
    }
   ],
   "source": [
    "# Convert to DataFrame\n",
    "results_df = pd.DataFrame(rf_model.cv_results_)\n",
    "# Deal with none value\n",
    "results_df['param_max_depth'] = results_df['param_max_depth'].astype(str)\n",
    "\n",
    "# Create a pivot table for plotting\n",
    "pivot_table = results_df.pivot(index='param_n_estimators', columns='param_max_depth', values='mean_test_score')\n",
    "\n",
    "# Plot heatmap\n",
    "plt.figure(figsize=(8, 6))\n",
    "sns.heatmap(pivot_table, annot=True, fmt=\".4f\", cmap=\"YlGnBu\")\n",
    "plt.title(\"Grid Search Accuracy for RandomForestClassifier\")\n",
    "plt.xlabel(\"max_depth\")\n",
    "plt.ylabel(\"n_estimators\")\n",
    "plt.show()"
   ]
  },
  {
   "cell_type": "markdown",
   "id": "3b145d3a",
   "metadata": {},
   "source": [
    "* Trial-Error on the best hyperparameter values"
   ]
  },
  {
   "cell_type": "code",
   "execution_count": 40,
   "id": "1d2a251d",
   "metadata": {
    "ExecuteTime": {
     "end_time": "2025-05-08T17:27:32.610760Z",
     "start_time": "2025-05-08T17:20:16.625052Z"
    }
   },
   "outputs": [],
   "source": [
    "# Range of the values in log-space\n",
    "n_estimators_values = [100, 200]\n",
    "max_depth_values = [None, 10, 20]\n",
    "\n",
    "def train_and_score(n_estimator, max_depth, X_train, y_train, X_test, y_test):\n",
    "\n",
    "    rf = RandomForestClassifier(\n",
    "        n_estimators=n_estimator, \n",
    "        max_depth=max_depth, \n",
    "        random_state=42\n",
    "    )\n",
    "    rf.fit(X_train, y_train)\n",
    "    acc = accuracy_score(y_test, rf.predict(X_test))\n",
    "    return {\n",
    "        'n_estimators': n_estimator,\n",
    "        'max_depth':    max_depth,\n",
    "        'accuracy':     acc\n",
    "    }\n",
    "\n",
    "results = Parallel(n_jobs=-1)(\n",
    "    delayed(train_and_score)(n, d, X_train, y_train, X_test, y_test)\n",
    "    for n in n_estimators_values\n",
    "    for d in max_depth_values\n",
    ")"
   ]
  },
  {
   "cell_type": "markdown",
   "id": "0fd5a55a",
   "metadata": {},
   "source": [
    "* Plot Trial-Error results using Seaborn's heatmap"
   ]
  },
  {
   "cell_type": "code",
   "execution_count": 41,
   "id": "835f0a19",
   "metadata": {
    "ExecuteTime": {
     "end_time": "2025-05-08T17:31:58.493966Z",
     "start_time": "2025-05-08T17:31:58.327221Z"
    }
   },
   "outputs": [
    {
     "data": {
      "image/png": "[encoded data removed]",
      "text/plain": [
       "<Figure size 800x600 with 2 Axes>"
      ]
     },
     "metadata": {},
     "output_type": "display_data"
    }
   ],
   "source": [
    "# Convert to DataFrame\n",
    "results_df = pd.DataFrame(results)\n",
    "\n",
    "# Pivot for heatmap format\n",
    "pivot = results_df.pivot(index='n_estimators', columns='max_depth', values='accuracy')\n",
    "\n",
    "# Plot heatmap\n",
    "plt.figure(figsize=(8, 6))\n",
    "sns.heatmap(pivot, annot=True, fmt=\".4f\", cmap=\"YlGnBu\")\n",
    "plt.title(\"Trial-Error Accuracy for RandomForestClassifier\")\n",
    "plt.xlabel(\"max_depth\")\n",
    "plt.ylabel(\"n_estimators\")\n",
    "plt.show()"
   ]
  },
  {
   "cell_type": "markdown",
   "id": "0cc13fbe",
   "metadata": {},
   "source": [
    "Looking at the plots we can see that the best hyperparameters are n_estimators = 200 and max_depth = 10"
   ]
  },
  {
   "cell_type": "markdown",
   "id": "0ec24bb8",
   "metadata": {},
   "source": [
    "* Training model with the best hyperparameters"
   ]
  },
  {
   "cell_type": "code",
   "execution_count": 42,
   "id": "b4e2da6a",
   "metadata": {
    "ExecuteTime": {
     "end_time": "2025-05-08T17:32:17.650294Z",
     "start_time": "2025-05-08T17:32:01.197805Z"
    }
   },
   "outputs": [],
   "source": [
    "best_model_rf = RandomForestClassifier(n_estimators=200, max_depth=10, random_state=42)\n",
    "best_model_rf.fit(X_train, y_train)\n",
    "y_train_pred = best_model_rf.predict(X_train)\n",
    "y_test_pred  = best_model_rf.predict(X_test)\n",
    "models[\"Random Forest\"] = best_model_rf"
   ]
  },
  {
   "cell_type": "markdown",
   "id": "a1d2fdee",
   "metadata": {},
   "source": [
    "* Plotiing confusion matrix using Seaborn's heatmap"
   ]
  },
  {
   "cell_type": "code",
   "execution_count": 43,
   "id": "7f1d3836",
   "metadata": {
    "ExecuteTime": {
     "end_time": "2025-05-08T17:32:18.982373Z",
     "start_time": "2025-05-08T17:32:17.650294Z"
    }
   },
   "outputs": [
    {
     "data": {
      "image/png": "[encoded data removed]",
      "text/plain": [
       "<Figure size 1200x800 with 2 Axes>"
      ]
     },
     "metadata": {},
     "output_type": "display_data"
    }
   ],
   "source": [
    "# Raw confusion matrix\n",
    "cm = confusion_matrix(y_test, y_test_pred)\n",
    "fig, ax = plt.subplots(figsize=(12, 8))\n",
    "sns.heatmap(\n",
    "    cm,\n",
    "    annot=True,\n",
    "    fmt='d',                    \n",
    "    cmap='Oranges',\n",
    "    annot_kws={\"size\": 8},\n",
    "    ax=ax\n",
    ")\n",
    "ax.set_xlabel(\"Predicted label\", fontsize=12)\n",
    "ax.set_ylabel(\"True label\", fontsize=12)\n",
    "ax.set_title(\"Confusion Matrix (Raw)\", fontsize=16)\n",
    "ax.tick_params(axis='both', which='major', labelsize=12)\n",
    "plt.tight_layout()\n",
    "plt.show()"
   ]
  },
  {
   "cell_type": "markdown",
   "id": "c919e92e",
   "metadata": {},
   "source": [
    "* Classification metrics for test and training"
   ]
  },
  {
   "cell_type": "code",
   "execution_count": 44,
   "id": "1bd1030f",
   "metadata": {
    "ExecuteTime": {
     "end_time": "2025-05-08T17:32:19.125632Z",
     "start_time": "2025-05-08T17:32:18.998817Z"
    }
   },
   "outputs": [
    {
     "name": "stdout",
     "output_type": "stream",
     "text": [
      "       Accuracy      F1  Precision  Recall\n",
      "Split                                     \n",
      "Train    0.9727  0.9730     0.9758  0.9727\n",
      "Test     0.9632  0.9637     0.9660  0.9632\n"
     ]
    }
   ],
   "source": [
    "rows = []\n",
    "for split_name, y_true, y_pred in [\n",
    "    (\"Train\", y_train, y_train_pred),\n",
    "    (\"Test\",  y_test,  y_test_pred)\n",
    "]:\n",
    "    rows.append({\n",
    "        \"Split\":      split_name,\n",
    "        \"Accuracy\":   accuracy_score(y_true, y_pred),\n",
    "        \"F1\": f1_score(y_true, y_pred, average=\"macro\"),\n",
    "        \"Precision\":  precision_score(y_true, y_pred, average=\"macro\"),\n",
    "        \"Recall\":     recall_score(y_true, y_pred, average=\"macro\"),\n",
    "    })\n",
    "\n",
    "df_metrics = pd.DataFrame(rows).set_index(\"Split\").round(4)\n",
    "print(df_metrics)"
   ]
  },
  {
   "cell_type": "markdown",
   "id": "2f71333bde9d7d74",
   "metadata": {},
   "source": [
    "# SVM"
   ]
  },
  {
   "cell_type": "markdown",
   "id": "97ac75e290efcee3",
   "metadata": {},
   "source": [
    "**SVM Hyperparameter Optimization via Grid Search**"
   ]
  },
  {
   "cell_type": "code",
   "execution_count": 45,
   "id": "79c3d23489adb7ca",
   "metadata": {
    "ExecuteTime": {
     "end_time": "2025-05-08T17:33:13.994546Z",
     "start_time": "2025-05-08T17:32:19.141074Z"
    }
   },
   "outputs": [
    {
     "data": {
      "text/html": [
       "<style>#sk-container-id-3 {\n",
       "  /* Definition of color scheme common for light and dark mode */\n",
       "  --sklearn-color-text: #000;\n",
       "  --sklearn-color-text-muted: #666;\n",
       "  --sklearn-color-line: gray;\n",
       "  /* Definition of color scheme for unfitted estimators */\n",
       "  --sklearn-color-unfitted-level-0: #fff5e6;\n",
       "  --sklearn-color-unfitted-level-1: #f6e4d2;\n",
       "  --sklearn-color-unfitted-level-2: #ffe0b3;\n",
       "  --sklearn-color-unfitted-level-3: chocolate;\n",
       "  /* Definition of color scheme for fitted estimators */\n",
       "  --sklearn-color-fitted-level-0: #f0f8ff;\n",
       "  --sklearn-color-fitted-level-1: #d4ebff;\n",
       "  --sklearn-color-fitted-level-2: #b3dbfd;\n",
       "  --sklearn-color-fitted-level-3: cornflowerblue;\n",
       "\n",
       "  /* Specific color for light theme */\n",
       "  --sklearn-color-text-on-default-background: var(--sg-text-color, var(--theme-code-foreground, var(--jp-content-font-color1, black)));\n",
       "  --sklearn-color-background: var(--sg-background-color, var(--theme-background, var(--jp-layout-color0, white)));\n",
       "  --sklearn-color-border-box: var(--sg-text-color, var(--theme-code-foreground, var(--jp-content-font-color1, black)));\n",
       "  --sklearn-color-icon: #696969;\n",
       "\n",
       "  @media (prefers-color-scheme: dark) {\n",
       "    /* Redefinition of color scheme for dark theme */\n",
       "    --sklearn-color-text-on-default-background: var(--sg-text-color, var(--theme-code-foreground, var(--jp-content-font-color1, white)));\n",
       "    --sklearn-color-background: var(--sg-background-color, var(--theme-background, var(--jp-layout-color0, #111)));\n",
       "    --sklearn-color-border-box: var(--sg-text-color, var(--theme-code-foreground, var(--jp-content-font-color1, white)));\n",
       "    --sklearn-color-icon: #878787;\n",
       "  }\n",
       "}\n",
       "\n",
       "#sk-container-id-3 {\n",
       "  color: var(--sklearn-color-text);\n",
       "}\n",
       "\n",
       "#sk-container-id-3 pre {\n",
       "  padding: 0;\n",
       "}\n",
       "\n",
       "#sk-container-id-3 input.sk-hidden--visually {\n",
       "  border: 0;\n",
       "  clip: rect(1px 1px 1px 1px);\n",
       "  clip: rect(1px, 1px, 1px, 1px);\n",
       "  height: 1px;\n",
       "  margin: -1px;\n",
       "  overflow: hidden;\n",
       "  padding: 0;\n",
       "  position: absolute;\n",
       "  width: 1px;\n",
       "}\n",
       "\n",
       "#sk-container-id-3 div.sk-dashed-wrapped {\n",
       "  border: 1px dashed var(--sklearn-color-line);\n",
       "  margin: 0 0.4em 0.5em 0.4em;\n",
       "  box-sizing: border-box;\n",
       "  padding-bottom: 0.4em;\n",
       "  background-color: var(--sklearn-color-background);\n",
       "}\n",
       "\n",
       "#sk-container-id-3 div.sk-container {\n",
       "  /* jupyter's `normalize.less` sets `[hidden] { display: none; }`\n",
       "     but bootstrap.min.css set `[hidden] { display: none !important; }`\n",
       "     so we also need the `!important` here to be able to override the\n",
       "     default hidden behavior on the sphinx rendered scikit-learn.org.\n",
       "     See: https://github.com/scikit-learn/scikit-learn/issues/21755 */\n",
       "  display: inline-block !important;\n",
       "  position: relative;\n",
       "}\n",
       "\n",
       "#sk-container-id-3 div.sk-text-repr-fallback {\n",
       "  display: none;\n",
       "}\n",
       "\n",
       "div.sk-parallel-item,\n",
       "div.sk-serial,\n",
       "div.sk-item {\n",
       "  /* draw centered vertical line to link estimators */\n",
       "  background-image: linear-gradient(var(--sklearn-color-text-on-default-background), var(--sklearn-color-text-on-default-background));\n",
       "  background-size: 2px 100%;\n",
       "  background-repeat: no-repeat;\n",
       "  background-position: center center;\n",
       "}\n",
       "\n",
       "/* Parallel-specific style estimator block */\n",
       "\n",
       "#sk-container-id-3 div.sk-parallel-item::after {\n",
       "  content: \"\";\n",
       "  width: 100%;\n",
       "  border-bottom: 2px solid var(--sklearn-color-text-on-default-background);\n",
       "  flex-grow: 1;\n",
       "}\n",
       "\n",
       "#sk-container-id-3 div.sk-parallel {\n",
       "  display: flex;\n",
       "  align-items: stretch;\n",
       "  justify-content: center;\n",
       "  background-color: var(--sklearn-color-background);\n",
       "  position: relative;\n",
       "}\n",
       "\n",
       "#sk-container-id-3 div.sk-parallel-item {\n",
       "  display: flex;\n",
       "  flex-direction: column;\n",
       "}\n",
       "\n",
       "#sk-container-id-3 div.sk-parallel-item:first-child::after {\n",
       "  align-self: flex-end;\n",
       "  width: 50%;\n",
       "}\n",
       "\n",
       "#sk-container-id-3 div.sk-parallel-item:last-child::after {\n",
       "  align-self: flex-start;\n",
       "  width: 50%;\n",
       "}\n",
       "\n",
       "#sk-container-id-3 div.sk-parallel-item:only-child::after {\n",
       "  width: 0;\n",
       "}\n",
       "\n",
       "/* Serial-specific style estimator block */\n",
       "\n",
       "#sk-container-id-3 div.sk-serial {\n",
       "  display: flex;\n",
       "  flex-direction: column;\n",
       "  align-items: center;\n",
       "  background-color: var(--sklearn-color-background);\n",
       "  padding-right: 1em;\n",
       "  padding-left: 1em;\n",
       "}\n",
       "\n",
       "\n",
       "/* Toggleable style: style used for estimator/Pipeline/ColumnTransformer box that is\n",
       "clickable and can be expanded/collapsed.\n",
       "- Pipeline and ColumnTransformer use this feature and define the default style\n",
       "- Estimators will overwrite some part of the style using the `sk-estimator` class\n",
       "*/\n",
       "\n",
       "/* Pipeline and ColumnTransformer style (default) */\n",
       "\n",
       "#sk-container-id-3 div.sk-toggleable {\n",
       "  /* Default theme specific background. It is overwritten whether we have a\n",
       "  specific estimator or a Pipeline/ColumnTransformer */\n",
       "  background-color: var(--sklearn-color-background);\n",
       "}\n",
       "\n",
       "/* Toggleable label */\n",
       "#sk-container-id-3 label.sk-toggleable__label {\n",
       "  cursor: pointer;\n",
       "  display: flex;\n",
       "  width: 100%;\n",
       "  margin-bottom: 0;\n",
       "  padding: 0.5em;\n",
       "  box-sizing: border-box;\n",
       "  text-align: center;\n",
       "  align-items: start;\n",
       "  justify-content: space-between;\n",
       "  gap: 0.5em;\n",
       "}\n",
       "\n",
       "#sk-container-id-3 label.sk-toggleable__label .caption {\n",
       "  font-size: 0.6rem;\n",
       "  font-weight: lighter;\n",
       "  color: var(--sklearn-color-text-muted);\n",
       "}\n",
       "\n",
       "#sk-container-id-3 label.sk-toggleable__label-arrow:before {\n",
       "  /* Arrow on the left of the label */\n",
       "  content: \"▸\";\n",
       "  float: left;\n",
       "  margin-right: 0.25em;\n",
       "  color: var(--sklearn-color-icon);\n",
       "}\n",
       "\n",
       "#sk-container-id-3 label.sk-toggleable__label-arrow:hover:before {\n",
       "  color: var(--sklearn-color-text);\n",
       "}\n",
       "\n",
       "/* Toggleable content - dropdown */\n",
       "\n",
       "#sk-container-id-3 div.sk-toggleable__content {\n",
       "  max-height: 0;\n",
       "  max-width: 0;\n",
       "  overflow: hidden;\n",
       "  text-align: left;\n",
       "  /* unfitted */\n",
       "  background-color: var(--sklearn-color-unfitted-level-0);\n",
       "}\n",
       "\n",
       "#sk-container-id-3 div.sk-toggleable__content.fitted {\n",
       "  /* fitted */\n",
       "  background-color: var(--sklearn-color-fitted-level-0);\n",
       "}\n",
       "\n",
       "#sk-container-id-3 div.sk-toggleable__content pre {\n",
       "  margin: 0.2em;\n",
       "  border-radius: 0.25em;\n",
       "  color: var(--sklearn-color-text);\n",
       "  /* unfitted */\n",
       "  background-color: var(--sklearn-color-unfitted-level-0);\n",
       "}\n",
       "\n",
       "#sk-container-id-3 div.sk-toggleable__content.fitted pre {\n",
       "  /* unfitted */\n",
       "  background-color: var(--sklearn-color-fitted-level-0);\n",
       "}\n",
       "\n",
       "#sk-container-id-3 input.sk-toggleable__control:checked~div.sk-toggleable__content {\n",
       "  /* Expand drop-down */\n",
       "  max-height: 200px;\n",
       "  max-width: 100%;\n",
       "  overflow: auto;\n",
       "}\n",
       "\n",
       "#sk-container-id-3 input.sk-toggleable__control:checked~label.sk-toggleable__label-arrow:before {\n",
       "  content: \"▾\";\n",
       "}\n",
       "\n",
       "/* Pipeline/ColumnTransformer-specific style */\n",
       "\n",
       "#sk-container-id-3 div.sk-label input.sk-toggleable__control:checked~label.sk-toggleable__label {\n",
       "  color: var(--sklearn-color-text);\n",
       "  background-color: var(--sklearn-color-unfitted-level-2);\n",
       "}\n",
       "\n",
       "#sk-container-id-3 div.sk-label.fitted input.sk-toggleable__control:checked~label.sk-toggleable__label {\n",
       "  background-color: var(--sklearn-color-fitted-level-2);\n",
       "}\n",
       "\n",
       "/* Estimator-specific style */\n",
       "\n",
       "/* Colorize estimator box */\n",
       "#sk-container-id-3 div.sk-estimator input.sk-toggleable__control:checked~label.sk-toggleable__label {\n",
       "  /* unfitted */\n",
       "  background-color: var(--sklearn-color-unfitted-level-2);\n",
       "}\n",
       "\n",
       "#sk-container-id-3 div.sk-estimator.fitted input.sk-toggleable__control:checked~label.sk-toggleable__label {\n",
       "  /* fitted */\n",
       "  background-color: var(--sklearn-color-fitted-level-2);\n",
       "}\n",
       "\n",
       "#sk-container-id-3 div.sk-label label.sk-toggleable__label,\n",
       "#sk-container-id-3 div.sk-label label {\n",
       "  /* The background is the default theme color */\n",
       "  color: var(--sklearn-color-text-on-default-background);\n",
       "}\n",
       "\n",
       "/* On hover, darken the color of the background */\n",
       "#sk-container-id-3 div.sk-label:hover label.sk-toggleable__label {\n",
       "  color: var(--sklearn-color-text);\n",
       "  background-color: var(--sklearn-color-unfitted-level-2);\n",
       "}\n",
       "\n",
       "/* Label box, darken color on hover, fitted */\n",
       "#sk-container-id-3 div.sk-label.fitted:hover label.sk-toggleable__label.fitted {\n",
       "  color: var(--sklearn-color-text);\n",
       "  background-color: var(--sklearn-color-fitted-level-2);\n",
       "}\n",
       "\n",
       "/* Estimator label */\n",
       "\n",
       "#sk-container-id-3 div.sk-label label {\n",
       "  font-family: monospace;\n",
       "  font-weight: bold;\n",
       "  display: inline-block;\n",
       "  line-height: 1.2em;\n",
       "}\n",
       "\n",
       "#sk-container-id-3 div.sk-label-container {\n",
       "  text-align: center;\n",
       "}\n",
       "\n",
       "/* Estimator-specific */\n",
       "#sk-container-id-3 div.sk-estimator {\n",
       "  font-family: monospace;\n",
       "  border: 1px dotted var(--sklearn-color-border-box);\n",
       "  border-radius: 0.25em;\n",
       "  box-sizing: border-box;\n",
       "  margin-bottom: 0.5em;\n",
       "  /* unfitted */\n",
       "  background-color: var(--sklearn-color-unfitted-level-0);\n",
       "}\n",
       "\n",
       "#sk-container-id-3 div.sk-estimator.fitted {\n",
       "  /* fitted */\n",
       "  background-color: var(--sklearn-color-fitted-level-0);\n",
       "}\n",
       "\n",
       "/* on hover */\n",
       "#sk-container-id-3 div.sk-estimator:hover {\n",
       "  /* unfitted */\n",
       "  background-color: var(--sklearn-color-unfitted-level-2);\n",
       "}\n",
       "\n",
       "#sk-container-id-3 div.sk-estimator.fitted:hover {\n",
       "  /* fitted */\n",
       "  background-color: var(--sklearn-color-fitted-level-2);\n",
       "}\n",
       "\n",
       "/* Specification for estimator info (e.g. \"i\" and \"?\") */\n",
       "\n",
       "/* Common style for \"i\" and \"?\" */\n",
       "\n",
       ".sk-estimator-doc-link,\n",
       "a:link.sk-estimator-doc-link,\n",
       "a:visited.sk-estimator-doc-link {\n",
       "  float: right;\n",
       "  font-size: smaller;\n",
       "  line-height: 1em;\n",
       "  font-family: monospace;\n",
       "  background-color: var(--sklearn-color-background);\n",
       "  border-radius: 1em;\n",
       "  height: 1em;\n",
       "  width: 1em;\n",
       "  text-decoration: none !important;\n",
       "  margin-left: 0.5em;\n",
       "  text-align: center;\n",
       "  /* unfitted */\n",
       "  border: var(--sklearn-color-unfitted-level-1) 1pt solid;\n",
       "  color: var(--sklearn-color-unfitted-level-1);\n",
       "}\n",
       "\n",
       ".sk-estimator-doc-link.fitted,\n",
       "a:link.sk-estimator-doc-link.fitted,\n",
       "a:visited.sk-estimator-doc-link.fitted {\n",
       "  /* fitted */\n",
       "  border: var(--sklearn-color-fitted-level-1) 1pt solid;\n",
       "  color: var(--sklearn-color-fitted-level-1);\n",
       "}\n",
       "\n",
       "/* On hover */\n",
       "div.sk-estimator:hover .sk-estimator-doc-link:hover,\n",
       ".sk-estimator-doc-link:hover,\n",
       "div.sk-label-container:hover .sk-estimator-doc-link:hover,\n",
       ".sk-estimator-doc-link:hover {\n",
       "  /* unfitted */\n",
       "  background-color: var(--sklearn-color-unfitted-level-3);\n",
       "  color: var(--sklearn-color-background);\n",
       "  text-decoration: none;\n",
       "}\n",
       "\n",
       "div.sk-estimator.fitted:hover .sk-estimator-doc-link.fitted:hover,\n",
       ".sk-estimator-doc-link.fitted:hover,\n",
       "div.sk-label-container:hover .sk-estimator-doc-link.fitted:hover,\n",
       ".sk-estimator-doc-link.fitted:hover {\n",
       "  /* fitted */\n",
       "  background-color: var(--sklearn-color-fitted-level-3);\n",
       "  color: var(--sklearn-color-background);\n",
       "  text-decoration: none;\n",
       "}\n",
       "\n",
       "/* Span, style for the box shown on hovering the info icon */\n",
       ".sk-estimator-doc-link span {\n",
       "  display: none;\n",
       "  z-index: 9999;\n",
       "  position: relative;\n",
       "  font-weight: normal;\n",
       "  right: .2ex;\n",
       "  padding: .5ex;\n",
       "  margin: .5ex;\n",
       "  width: min-content;\n",
       "  min-width: 20ex;\n",
       "  max-width: 50ex;\n",
       "  color: var(--sklearn-color-text);\n",
       "  box-shadow: 2pt 2pt 4pt #999;\n",
       "  /* unfitted */\n",
       "  background: var(--sklearn-color-unfitted-level-0);\n",
       "  border: .5pt solid var(--sklearn-color-unfitted-level-3);\n",
       "}\n",
       "\n",
       ".sk-estimator-doc-link.fitted span {\n",
       "  /* fitted */\n",
       "  background: var(--sklearn-color-fitted-level-0);\n",
       "  border: var(--sklearn-color-fitted-level-3);\n",
       "}\n",
       "\n",
       ".sk-estimator-doc-link:hover span {\n",
       "  display: block;\n",
       "}\n",
       "\n",
       "/* \"?\"-specific style due to the `<a>` HTML tag */\n",
       "\n",
       "#sk-container-id-3 a.estimator_doc_link {\n",
       "  float: right;\n",
       "  font-size: 1rem;\n",
       "  line-height: 1em;\n",
       "  font-family: monospace;\n",
       "  background-color: var(--sklearn-color-background);\n",
       "  border-radius: 1rem;\n",
       "  height: 1rem;\n",
       "  width: 1rem;\n",
       "  text-decoration: none;\n",
       "  /* unfitted */\n",
       "  color: var(--sklearn-color-unfitted-level-1);\n",
       "  border: var(--sklearn-color-unfitted-level-1) 1pt solid;\n",
       "}\n",
       "\n",
       "#sk-container-id-3 a.estimator_doc_link.fitted {\n",
       "  /* fitted */\n",
       "  border: var(--sklearn-color-fitted-level-1) 1pt solid;\n",
       "  color: var(--sklearn-color-fitted-level-1);\n",
       "}\n",
       "\n",
       "/* On hover */\n",
       "#sk-container-id-3 a.estimator_doc_link:hover {\n",
       "  /* unfitted */\n",
       "  background-color: var(--sklearn-color-unfitted-level-3);\n",
       "  color: var(--sklearn-color-background);\n",
       "  text-decoration: none;\n",
       "}\n",
       "\n",
       "#sk-container-id-3 a.estimator_doc_link.fitted:hover {\n",
       "  /* fitted */\n",
       "  background-color: var(--sklearn-color-fitted-level-3);\n",
       "}\n",
       "</style><div id=\"sk-container-id-3\" class=\"sk-top-container\"><div class=\"sk-text-repr-fallback\"><pre>GridSearchCV(cv=5, estimator=LinearSVC(dual=False, random_state=42), n_jobs=-1,\n",
       "             param_grid={&#x27;C&#x27;: [0.01, 0.1, 1, 10], &#x27;class_weight&#x27;: [None],\n",
       "                         &#x27;loss&#x27;: [&#x27;squared_hinge&#x27;], &#x27;penalty&#x27;: [&#x27;l2&#x27;]},\n",
       "             scoring=&#x27;accuracy&#x27;)</pre><b>In a Jupyter environment, please rerun this cell to show the HTML representation or trust the notebook. <br />On GitHub, the HTML representation is unable to render, please try loading this page with nbviewer.org.</b></div><div class=\"sk-container\" hidden><div class=\"sk-item sk-dashed-wrapped\"><div class=\"sk-label-container\"><div class=\"sk-label fitted sk-toggleable\"><input class=\"sk-toggleable__control sk-hidden--visually\" id=\"sk-estimator-id-7\" type=\"checkbox\" ><label for=\"sk-estimator-id-7\" class=\"sk-toggleable__label fitted sk-toggleable__label-arrow\"><div><div>GridSearchCV</div></div><div><a class=\"sk-estimator-doc-link fitted\" rel=\"noreferrer\" target=\"_blank\" href=\"https://scikit-learn.org/1.6/modules/generated/sklearn.model_selection.GridSearchCV.html\">?<span>Documentation for GridSearchCV</span></a><span class=\"sk-estimator-doc-link fitted\">i<span>Fitted</span></span></div></label><div class=\"sk-toggleable__content fitted\"><pre>GridSearchCV(cv=5, estimator=LinearSVC(dual=False, random_state=42), n_jobs=-1,\n",
       "             param_grid={&#x27;C&#x27;: [0.01, 0.1, 1, 10], &#x27;class_weight&#x27;: [None],\n",
       "                         &#x27;loss&#x27;: [&#x27;squared_hinge&#x27;], &#x27;penalty&#x27;: [&#x27;l2&#x27;]},\n",
       "             scoring=&#x27;accuracy&#x27;)</pre></div> </div></div><div class=\"sk-parallel\"><div class=\"sk-parallel-item\"><div class=\"sk-item\"><div class=\"sk-label-container\"><div class=\"sk-label fitted sk-toggleable\"><input class=\"sk-toggleable__control sk-hidden--visually\" id=\"sk-estimator-id-8\" type=\"checkbox\" ><label for=\"sk-estimator-id-8\" class=\"sk-toggleable__label fitted sk-toggleable__label-arrow\"><div><div>best_estimator_: LinearSVC</div></div></label><div class=\"sk-toggleable__content fitted\"><pre>LinearSVC(C=0.1, dual=False, random_state=42)</pre></div> </div></div><div class=\"sk-serial\"><div class=\"sk-item\"><div class=\"sk-estimator fitted sk-toggleable\"><input class=\"sk-toggleable__control sk-hidden--visually\" id=\"sk-estimator-id-9\" type=\"checkbox\" ><label for=\"sk-estimator-id-9\" class=\"sk-toggleable__label fitted sk-toggleable__label-arrow\"><div><div>LinearSVC</div></div><div><a class=\"sk-estimator-doc-link fitted\" rel=\"noreferrer\" target=\"_blank\" href=\"https://scikit-learn.org/1.6/modules/generated/sklearn.svm.LinearSVC.html\">?<span>Documentation for LinearSVC</span></a></div></label><div class=\"sk-toggleable__content fitted\"><pre>LinearSVC(C=0.1, dual=False, random_state=42)</pre></div> </div></div></div></div></div></div></div></div></div>"
      ],
      "text/plain": [
       "GridSearchCV(cv=5, estimator=LinearSVC(dual=False, random_state=42), n_jobs=-1,\n",
       "             param_grid={'C': [0.01, 0.1, 1, 10], 'class_weight': [None],\n",
       "                         'loss': ['squared_hinge'], 'penalty': ['l2']},\n",
       "             scoring='accuracy')"
      ]
     },
     "execution_count": 45,
     "metadata": {},
     "output_type": "execute_result"
    }
   ],
   "source": [
    "# Initialize LinearSVM\n",
    "svm = LinearSVC(random_state = 42, dual = False)  # dual = False for n_samples > n_features\n",
    "\n",
    "# Hyperparameter grid\n",
    "param_svm = {\n",
    "    'C': [0.01, 0.1, 1, 10],\n",
    "    'penalty': ['l2'],\n",
    "    'loss': ['squared_hinge'],\n",
    "    'class_weight': [None]\n",
    "}\n",
    "\n",
    "svm_model = GridSearchCV(\n",
    "    estimator = svm,\n",
    "    param_grid = param_svm,\n",
    "    cv = 5,\n",
    "    scoring = 'accuracy',\n",
    "    n_jobs = -1\n",
    ")\n",
    "\n",
    "svm_model.fit(X_train, y_train)"
   ]
  },
  {
   "cell_type": "markdown",
   "id": "5b7a1802bb1196b8",
   "metadata": {},
   "source": [
    "**Analyze hyperparameter (C / loss) impact on accuracy**"
   ]
  },
  {
   "cell_type": "code",
   "execution_count": 46,
   "id": "d5dba61c99282c8c",
   "metadata": {
    "ExecuteTime": {
     "end_time": "2025-05-08T17:33:14.427481Z",
     "start_time": "2025-05-08T17:33:14.018075Z"
    }
   },
   "outputs": [
    {
     "data": {
      "image/png": "[encoded data removed]",
      "text/plain": [
       "<Figure size 1000x600 with 1 Axes>"
      ]
     },
     "metadata": {},
     "output_type": "display_data"
    }
   ],
   "source": [
    "# Convert results to DataFrame\n",
    "results_df = pd.DataFrame(svm_model.cv_results_)\n",
    "\n",
    "# Plot accuracy vs. hyperparameters\n",
    "plt.figure(figsize=(10, 6))\n",
    "sns.lineplot(\n",
    "    data = results_df,\n",
    "    x = 'param_C',\n",
    "    y = 'mean_test_score',\n",
    "    hue = 'param_loss',\n",
    "    marker = 'o'\n",
    ")\n",
    "plt.xscale('log')  # Log-scale for C (common in SVM)\n",
    "plt.title(\"Accuracy vs. C and Loss\")\n",
    "plt.xlabel(\"C (Regularization Strength)\")\n",
    "plt.ylabel(\"Mean CV Accuracy\")\n",
    "plt.legend(title=\"Loss Function\")\n",
    "plt.show()"
   ]
  },
  {
   "cell_type": "markdown",
   "id": "33071069d7e49ff9",
   "metadata": {},
   "source": [
    "**Make predictions with the best SVM model**"
   ]
  },
  {
   "cell_type": "code",
   "execution_count": 47,
   "id": "f02c8c5168090c5b",
   "metadata": {
    "ExecuteTime": {
     "end_time": "2025-05-08T17:33:14.529608Z",
     "start_time": "2025-05-08T17:33:14.447466Z"
    }
   },
   "outputs": [],
   "source": [
    "# Predict with best model\n",
    "best_model_svm = svm_model.best_estimator_\n",
    "y_train_pred = best_model_svm.predict(X_train)\n",
    "y_test_pred = best_model_svm.predict(X_test)\n",
    "models[\"SVM\"] = best_model_svm"
   ]
  },
  {
   "cell_type": "markdown",
   "id": "89c6f233a8fcb0e5",
   "metadata": {},
   "source": [
    "**Confusion Matrix**"
   ]
  },
  {
   "cell_type": "code",
   "execution_count": 48,
   "id": "395d68867eefffd8",
   "metadata": {
    "ExecuteTime": {
     "end_time": "2025-05-08T17:33:15.617664Z",
     "start_time": "2025-05-08T17:33:14.555593Z"
    }
   },
   "outputs": [
    {
     "data": {
      "image/png": "[encoded data removed]",
      "text/plain": [
       "<Figure size 1200x800 with 2 Axes>"
      ]
     },
     "metadata": {},
     "output_type": "display_data"
    }
   ],
   "source": [
    "# Non-Normalized (Raw) confusion matrix\n",
    "# Absolute number of predictions\n",
    "cm = confusion_matrix(y_test, y_test_pred)\n",
    "fig, ax = plt.subplots(figsize = (12, 8))\n",
    "sns.heatmap(\n",
    "    cm,\n",
    "    annot = True,\n",
    "    fmt = 'd',\n",
    "    cmap = 'Oranges',\n",
    "    annot_kws = {\"size\": 8},\n",
    "    ax = ax\n",
    ")\n",
    "ax.set_xlabel(\"Predicted label\", fontsize = 12)\n",
    "ax.set_ylabel(\"True label\", fontsize = 12)\n",
    "ax.set_title(\"Confusion Matrix (Raw)\", fontsize = 16)\n",
    "ax.tick_params(axis = 'both', which = 'major', labelsize = 12)\n",
    "plt.tight_layout()\n",
    "plt.show()"
   ]
  },
  {
   "cell_type": "markdown",
   "id": "2ca31a567b9464b7",
   "metadata": {},
   "source": [
    "**Compute performance metrics for train/test splits**"
   ]
  },
  {
   "cell_type": "code",
   "execution_count": 49,
   "id": "8612f3b2b6faa79f",
   "metadata": {
    "ExecuteTime": {
     "end_time": "2025-05-08T17:33:15.772967Z",
     "start_time": "2025-05-08T17:33:15.637376Z"
    }
   },
   "outputs": [
    {
     "name": "stdout",
     "output_type": "stream",
     "text": [
      "       Accuracy      F1  Precision  Recall\n",
      "Split                                     \n",
      "Train    0.9711  0.9711     0.9722  0.9711\n",
      "Test     0.9620  0.9623     0.9632  0.9620\n"
     ]
    }
   ],
   "source": [
    "rows = []\n",
    "for split_name, y_true, y_pred in [\n",
    "    (\"Train\", y_train, y_train_pred),\n",
    "    (\"Test\",  y_test,  y_test_pred)\n",
    "]:\n",
    "    rows.append({\n",
    "        \"Split\":      split_name,\n",
    "        \"Accuracy\":   accuracy_score(y_true, y_pred),\n",
    "        \"F1\": f1_score(y_true, y_pred, average=\"macro\"),\n",
    "        \"Precision\":  precision_score(y_true, y_pred, average=\"macro\"),\n",
    "        \"Recall\":     recall_score(y_true, y_pred, average=\"macro\"),\n",
    "    })\n",
    "\n",
    "df_metrics = pd.DataFrame(rows).set_index(\"Split\").round(4)\n",
    "print(df_metrics)"
   ]
  },
  {
   "cell_type": "markdown",
   "id": "f86967a7-b16b-438f-9e47-9407abb59602",
   "metadata": {},
   "source": [
    "# KNN"
   ]
  },
  {
   "cell_type": "markdown",
   "id": "b32c197e-7daa-4c40-84ee-b97b94ca0a97",
   "metadata": {},
   "source": [
    "**KNN Hyperparameter Optimization via Grid Search**"
   ]
  },
  {
   "cell_type": "code",
   "execution_count": 50,
   "id": "8cf563ba-e536-419d-a0fc-c86fabe29088",
   "metadata": {},
   "outputs": [
    {
     "name": "stdout",
     "output_type": "stream",
     "text": [
      "Best params: {'knn__n_neighbors': 3, 'knn__p': 1, 'knn__weights': 'distance', 'svd__n_components': 100}\n"
     ]
    }
   ],
   "source": [
    "svd = TruncatedSVD(random_state=536)\n",
    "norm = Normalizer()\n",
    "knn = KNeighborsClassifier()\n",
    "pipe = Pipeline([('svd', svd), ('norm', norm), ('knn', knn)])\n",
    "\n",
    "param_grid = {\n",
    "    'svd__n_components': [50, 100, 150],\n",
    "    'knn__n_neighbors': [3, 5, 7],\n",
    "    'knn__weights':     ['uniform','distance'],\n",
    "    'knn__p':           [1, 2],\n",
    "}\n",
    "\n",
    "knn_model = GridSearchCV(\n",
    "        estimator=pipe,\n",
    "        param_grid=param_grid,\n",
    "        cv=3,\n",
    "        scoring='accuracy',\n",
    "        n_jobs=-1,\n",
    "        error_score='raise'\n",
    "    )\n",
    "\n",
    "le = LabelEncoder()\n",
    "y_train_enc = le.fit_transform(y_train)\n",
    "y_test_enc  = le.transform(y_test)\n",
    "\n",
    "knn_model.fit(X_train, y_train_enc)\n",
    "\n",
    "print(\"Best params:\", knn_model.best_params_)"
   ]
  },
  {
   "cell_type": "markdown",
   "id": "3a0b3db7-46ad-4a4e-b18a-ffe3a92103de",
   "metadata": {},
   "source": [
    "**Analyze hyperparameters impact on accuracy**"
   ]
  },
  {
   "cell_type": "code",
   "execution_count": 51,
   "id": "fb8c1d97-8571-413e-87ba-e93a75c5cd7b",
   "metadata": {},
   "outputs": [
    {
     "data": {
      "image/png": "[encoded data removed]",
      "text/plain": [
       "<Figure size 400x300 with 2 Axes>"
      ]
     },
     "metadata": {},
     "output_type": "display_data"
    },
    {
     "data": {
      "image/png": "[encoded data removed]",
      "text/plain": [
       "<Figure size 400x300 with 2 Axes>"
      ]
     },
     "metadata": {},
     "output_type": "display_data"
    },
    {
     "data": {
      "image/png": "[encoded data removed]",
      "text/plain": [
       "<Figure size 400x300 with 2 Axes>"
      ]
     },
     "metadata": {},
     "output_type": "display_data"
    },
    {
     "data": {
      "image/png": "[encoded data removed]",
      "text/plain": [
       "<Figure size 400x300 with 2 Axes>"
      ]
     },
     "metadata": {},
     "output_type": "display_data"
    }
   ],
   "source": [
    "warnings.filterwarnings(\n",
    "    \"ignore\",\n",
    "    message=\".*use_inf_as_na option is deprecated.*\",\n",
    "    category=FutureWarning\n",
    ")\n",
    "\n",
    "# Convert results to DataFrame\n",
    "results_knn = pd.DataFrame(knn_model.cv_results_)\n",
    "\n",
    "# Rename & convert datatypes\n",
    "results_knn = results_knn.rename(columns={\n",
    "    'param_svd__n_components': 'n_comp',\n",
    "    'param_knn__n_neighbors':  'k',\n",
    "    'param_knn__weights':      'weights',\n",
    "    'param_knn__p':            'p'\n",
    "})\n",
    "\n",
    "results_knn['n_comp'] = results_knn['n_comp'].astype(int)\n",
    "results_knn['k'] = results_knn['k'].astype(int)\n",
    "results_knn['p'] = results_knn['p'].astype(int)\n",
    "\n",
    "# g = sns.FacetGrid(\n",
    "#     results_knn,\n",
    "#     col='n_comp',\n",
    "#     hue='weights',\n",
    "#     row='p',\n",
    "#     margin_titles=True,\n",
    "#     height=3,\n",
    "#     sharey=True\n",
    "# )\n",
    "# g.map(\n",
    "#     sns.lineplot, 'k', 'mean_test_score', marker='o', dashes=False\n",
    "# )\n",
    "# g.add_legend(title='weights')\n",
    "# g.set_axis_labels(\"n_neighbors (k)\", \"Mean CV Accuracy\")\n",
    "# g.set_titles(\"SVD dims = {col_name}, p = {row_name}\")\n",
    "# plt.tight_layout()\n",
    "# plt.show()\n",
    "\n",
    "# Heatmaps: one per (weights, p)\n",
    "for w in results_knn['weights'].unique():\n",
    "    for p_val in results_knn['p'].unique():\n",
    "        sub = results_knn[(results_knn['weights']==w) & (results_knn['p']==p_val)]\n",
    "        pivot = sub.pivot_table(\n",
    "            index='n_comp',\n",
    "            columns='k',\n",
    "            values='mean_test_score'\n",
    "        )\n",
    "        plt.figure(figsize=(4,3))\n",
    "        sns.heatmap(\n",
    "            pivot, annot=True, fmt=\".3f\", cmap='viridis',\n",
    "            cbar_kws={'label':'CV Accuracy'}\n",
    "        )\n",
    "        plt.title(f\"weights={w}, p={p_val}\")\n",
    "        plt.xlabel(\"n_neighbors (k)\")\n",
    "        plt.ylabel(\"SVD n_components\")\n",
    "        plt.tight_layout()\n",
    "        plt.show()"
   ]
  },
  {
   "cell_type": "markdown",
   "id": "c40eedb9-0448-460d-beef-401b2e4cf09d",
   "metadata": {},
   "source": [
    "**Make predictions with the best KNN model**"
   ]
  },
  {
   "cell_type": "code",
   "execution_count": 52,
   "id": "7d72635c-bec2-4cda-8043-e689fda56562",
   "metadata": {},
   "outputs": [],
   "source": [
    "# Predict with best model\n",
    "best_model_knn = knn_model.best_estimator_\n",
    "\n",
    "y_train_pred_enc = knn_model.predict(X_train)\n",
    "y_train_pred = le.inverse_transform(y_train_pred_enc)\n",
    "\n",
    "y_test_pred_enc = knn_model.predict(X_test)\n",
    "y_test_pred = le.inverse_transform(y_test_pred_enc)\n",
    "\n",
    "models[\"KNN\"] = best_model_knn"
   ]
  },
  {
   "cell_type": "markdown",
   "id": "0f48760f-bf3f-4d6a-920b-71d3b425d674",
   "metadata": {},
   "source": [
    "**Confusion Matrix**"
   ]
  },
  {
   "cell_type": "code",
   "execution_count": 53,
   "id": "f7b4f548-b27f-4a74-ae8f-ad3142fb38a0",
   "metadata": {},
   "outputs": [
    {
     "data": {
      "image/png": "[encoded data removed]",
      "text/plain": [
       "<Figure size 1200x800 with 2 Axes>"
      ]
     },
     "metadata": {},
     "output_type": "display_data"
    }
   ],
   "source": [
    "for norm, title, cmap, fmt in [\n",
    "    (None, \"KNN Confusion Matrix (raw)\", 'Oranges', 'd'),\n",
    "]:\n",
    "    cm = confusion_matrix(y_test, y_test_pred, normalize=norm)\n",
    "    fig, ax = plt.subplots(figsize = (12, 8))\n",
    "    sns.heatmap(\n",
    "        cm,\n",
    "        annot = True,\n",
    "        fmt = fmt,\n",
    "        cmap = cmap,\n",
    "        annot_kws = {\"size\": 8},\n",
    "        ax = ax\n",
    "    )\n",
    "    plt.title(title, fontsize = 16)\n",
    "    plt.ylabel(\"True label\", fontsize = 12)\n",
    "    ax.set_xlabel(\"Predicted label\", fontsize = 12)\n",
    "    ax.tick_params(axis = 'both', which = 'major', labelsize = 12)\n",
    "    plt.tight_layout()\n",
    "    plt.show()"
   ]
  },
  {
   "cell_type": "markdown",
   "id": "e056a7d7-eae2-4666-8082-96330315862c",
   "metadata": {},
   "source": [
    "**Compute performance metrics for train/test splits**"
   ]
  },
  {
   "cell_type": "code",
   "execution_count": 54,
   "id": "2cefb13b-bf90-45ae-99f3-3ebda3ac231c",
   "metadata": {},
   "outputs": [
    {
     "name": "stdout",
     "output_type": "stream",
     "text": [
      "       Accuracy      F1  Precision  Recall\n",
      "Split                                     \n",
      "Train    0.9788  0.9780     0.9803  0.9788\n",
      "Test     0.8082  0.8085     0.8101  0.8082\n"
     ]
    }
   ],
   "source": [
    "rows = []\n",
    "for split_name, y_true, y_pred in [\n",
    "    (\"Train\", y_train, y_train_pred),\n",
    "    (\"Test\",  y_test,  y_test_pred)\n",
    "]:\n",
    "    rows.append({\n",
    "        \"Split\":      split_name,\n",
    "        \"Accuracy\":   accuracy_score(y_true, y_pred),\n",
    "        \"F1\": f1_score(y_true, y_pred, average=\"macro\", zero_division=0),\n",
    "        \"Precision\":  precision_score(y_true, y_pred, average=\"macro\", zero_division=0),\n",
    "        \"Recall\":     recall_score(y_true, y_pred, average=\"macro\", zero_division=0),\n",
    "    })\n",
    "\n",
    "df_metrics = pd.DataFrame(rows).set_index(\"Split\").round(4)\n",
    "print(df_metrics)"
   ]
  },
  {
   "cell_type": "markdown",
   "id": "c3de180c7ac6e205",
   "metadata": {},
   "source": [
    "## Performance Evaluation"
   ]
  },
  {
   "cell_type": "code",
   "execution_count": 55,
   "id": "39f496f6cbf19210",
   "metadata": {},
   "outputs": [
    {
     "name": "stdout",
     "output_type": "stream",
     "text": [
      "['Naive Bayes', 'Random Forest', 'SVM', 'KNN']\n"
     ]
    },
    {
     "data": {
      "image/png": "[encoded data removed]",
      "text/plain": [
       "<Figure size 640x480 with 1 Axes>"
      ]
     },
     "metadata": {},
     "output_type": "display_data"
    }
   ],
   "source": [
    "accuracies = {}\n",
    "\n",
    "for name, model in models.items():\n",
    "    # Accuracy\n",
    "    if name == \"KNN\": # KNN predicts encoded values, reverse encoding needed\n",
    "        y_pred_enc = knn_model.predict(X_test)\n",
    "        y_pred = le.inverse_transform(y_pred_enc)\n",
    "    else:\n",
    "        y_pred = model.predict(X_test)\n",
    "    accuracies[name] = accuracy_score(y_test, y_pred)\n",
    "\n",
    "# Bar plot: Test Accuracy\n",
    "print(list(accuracies.keys()))\n",
    "model_names = list(accuracies.keys())\n",
    "accuracy_values = [round(acc, 3) for acc in accuracies.values()]\n",
    "\n",
    "cmap = plt.colormaps['viridis']\n",
    "colors = cmap(np.linspace(0, 1, len(model_names)))\n",
    "\n",
    "# Create the plot with colored bars\n",
    "plt.figure()\n",
    "plt.bar(model_names, accuracy_values, color = colors)\n",
    "plt.ylabel('Accuracy')\n",
    "plt.title('Test Accuracy Comparison')\n",
    "plt.show()"
   ]
  },
  {
   "cell_type": "markdown",
   "id": "85bb7959bfe1e17",
   "metadata": {},
   "source": [
    "## Saving the best model"
   ]
  },
  {
   "cell_type": "code",
   "execution_count": 56,
   "id": "fc127366230396d2",
   "metadata": {},
   "outputs": [
    {
     "name": "stdout",
     "output_type": "stream",
     "text": [
      "Saved best model: Random Forest (Accuracy: 0.9633) to saved_models/best_Random Forest_acc_0.9633.pkl\n"
     ]
    }
   ],
   "source": [
    "# Find the best model name (maximum accuracy)\n",
    "best_model_name = max(accuracies, key = lambda name: accuracies[name])\n",
    "\n",
    "# Get the corresponding model from  model dictionary\n",
    "best_model = models[best_model_name]\n",
    "best_accuracy = accuracies[best_model_name]\n",
    "\n",
    "# Save with informative filename\n",
    "filename = f\"saved_models/best_{best_model_name}_acc_{best_accuracy:.4f}.pkl\"\n",
    "joblib.dump(best_model, filename)\n",
    "\n",
    "print(f\"Saved best model: {best_model_name} (Accuracy: {best_accuracy:.4f}) to {filename}\")"
   ]
  },
  {
   "cell_type": "code",
   "execution_count": null,
   "id": "ece4bed9-d8bb-485d-80ef-d5bdb7804a48",
   "metadata": {},
   "outputs": [],
   "source": []
  }
 ],
 "metadata": {
  "colab": {
   "provenance": []
  },
  "kaggle": {
   "accelerator": "none",
   "dataSources": [
    {
     "datasetId": 7379808,
     "sourceId": 11755297,
     "sourceType": "datasetVersion"
    }
   ],
   "dockerImageVersionId": 31012,
   "isGpuEnabled": false,
   "isInternetEnabled": true,
   "language": "python",
   "sourceType": "notebook"
  },
  "kernelspec": {
   "display_name": "Python 3 (ipykernel)",
   "language": "python",
   "name": "python3"
  },
  "language_info": {
   "codemirror_mode": {
    "name": "ipython",
    "version": 3
   },
   "file_extension": ".py",
   "mimetype": "text/x-python",
   "name": "python",
   "nbconvert_exporter": "python",
   "pygments_lexer": "ipython3",
   "version": "3.12.10"
  }
 },
 "nbformat": 4,
 "nbformat_minor": 5
}
