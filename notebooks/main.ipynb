{
  "cells": [
    {
      "cell_type": "markdown",
      "id": "39cb8c5c2d696137",
      "metadata": {
        "collapsed": false,
        "id": "39cb8c5c2d696137"
      },
      "source": [
        "# News Group Classification\n",
        "\n",
        "In this project, we aim to build a **text classification model** that can automatically categorize news articles into their respective topics. This involves applying **Natural Language Processing (NLP)** techniques and training a machine learning model on labeled news data.\n"
      ]
    },
    {
      "cell_type": "markdown",
      "id": "52f0384b8215d245",
      "metadata": {
        "collapsed": false,
        "id": "52f0384b8215d245"
      },
      "source": [
        "# Importing Libraries"
      ]
    },
    {
      "cell_type": "code",
      "execution_count": null,
      "id": "b0a9f10fa159cff3",
      "metadata": {
        "ExecuteTime": {
          "end_time": "2025-04-30T15:14:51.843494500Z",
          "start_time": "2025-04-30T15:14:51.770143800Z"
        },
        "id": "b0a9f10fa159cff3"
      },
      "outputs": [],
      "source": [
        "!pip install contractions\n",
        "!pip install pyarrow\n",
        "!pip install numpy\n",
        "!pip install gensim\n",
        "import pandas as pd\n",
        "import contractions\n",
        "import re\n",
        "import nltk\n",
        "import sklearn\n",
        "from nltk.tokenize import word_tokenize\n",
        "from nltk.corpus import stopwords\n",
        "from sklearn.feature_extraction.text import TfidfVectorizer\n",
        "from sklearn.model_selection import train_test_split\n",
        "from gensim.models import Word2Vec\n",
        "nltk.download('punkt')\n",
        "nltk.download('punkt_tab')\n",
        "nltk.download('stopwords')"
      ]
    },
    {
      "cell_type": "markdown",
      "id": "9a4ea6dcfbc36189",
      "metadata": {
        "collapsed": false,
        "id": "9a4ea6dcfbc36189"
      },
      "source": [
        "# Dataset Overview\n",
        "\n",
        "Our dataset consists of news articles with the following columns:\n",
        "\n",
        "- **category**: The target label indicating the topic of the article (e.g., sports, tech, politics, etc.).\n",
        "- **filename**: The file name or path associated with each article.\n",
        "- **content**: The full text of the news article, which will serve as our main input for training the classification model.\n",
        "\n",
        "We'll use the **`content`** column as the input feature for NLP processing, and the **`category`** column as the target for model training.\n"
      ]
    },
    {
      "cell_type": "code",
      "execution_count": 13,
      "id": "4927ea7bc4ca36b7",
      "metadata": {
        "ExecuteTime": {
          "end_time": "2025-04-30T15:14:52.003186800Z",
          "start_time": "2025-04-30T15:14:51.787585700Z"
        },
        "id": "4927ea7bc4ca36b7"
      },
      "outputs": [],
      "source": [
        "data = pd.read_parquet(\"news_data.parquet\",engine='pyarrow')"
      ]
    },
    {
      "cell_type": "code",
      "source": [
        "data.to_csv('news_data.csv', index=False)"
      ],
      "metadata": {
        "id": "eSt6BkmoMdgJ"
      },
      "id": "eSt6BkmoMdgJ",
      "execution_count": 14,
      "outputs": []
    },
    {
      "cell_type": "code",
      "execution_count": 15,
      "id": "88023ae6a816d565",
      "metadata": {
        "ExecuteTime": {
          "end_time": "2025-04-30T15:14:52.005309200Z",
          "start_time": "2025-04-30T15:14:51.991802200Z"
        },
        "colab": {
          "base_uri": "https://localhost:8080/"
        },
        "id": "88023ae6a816d565",
        "outputId": "e065259d-b534-4e95-954c-aa0f4ab51377"
      },
      "outputs": [
        {
          "output_type": "stream",
          "name": "stdout",
          "text": [
            "      category filename                                            content\n",
            "0  alt.atheism    49960  Xref: cantaloupe.srv.cs.cmu.edu alt.atheism:49...\n",
            "1  alt.atheism    51060  Xref: cantaloupe.srv.cs.cmu.edu alt.atheism:51...\n",
            "2  alt.atheism    51119  Newsgroups: alt.atheism\\nPath: cantaloupe.srv....\n",
            "3  alt.atheism    51120  Xref: cantaloupe.srv.cs.cmu.edu alt.atheism:51...\n",
            "4  alt.atheism    51121  Xref: cantaloupe.srv.cs.cmu.edu alt.atheism:51...\n"
          ]
        }
      ],
      "source": [
        "print(data.head())"
      ]
    },
    {
      "cell_type": "code",
      "execution_count": 16,
      "id": "c51ad795e9588c35",
      "metadata": {
        "ExecuteTime": {
          "end_time": "2025-04-30T15:14:52.010655700Z",
          "start_time": "2025-04-30T15:14:51.998527400Z"
        },
        "colab": {
          "base_uri": "https://localhost:8080/"
        },
        "id": "c51ad795e9588c35",
        "outputId": "3a482ca5-b1b3-44cd-e048-bf6233cd69dd"
      },
      "outputs": [
        {
          "output_type": "stream",
          "name": "stdout",
          "text": [
            "(19997, 3)\n"
          ]
        }
      ],
      "source": [
        "print(data.shape)               # Rows and columns"
      ]
    },
    {
      "cell_type": "code",
      "execution_count": 17,
      "id": "a2cd18104335013e",
      "metadata": {
        "ExecuteTime": {
          "end_time": "2025-04-30T15:14:52.026557Z",
          "start_time": "2025-04-30T15:14:52.007457700Z"
        },
        "colab": {
          "base_uri": "https://localhost:8080/"
        },
        "id": "a2cd18104335013e",
        "outputId": "5086619d-5ea8-45ee-fdb6-816479c38416"
      },
      "outputs": [
        {
          "output_type": "stream",
          "name": "stdout",
          "text": [
            "category\n",
            "alt.atheism                 1000\n",
            "comp.graphics               1000\n",
            "talk.politics.misc          1000\n",
            "talk.politics.mideast       1000\n",
            "talk.politics.guns          1000\n",
            "sci.space                   1000\n",
            "sci.med                     1000\n",
            "sci.electronics             1000\n",
            "sci.crypt                   1000\n",
            "rec.sport.hockey            1000\n",
            "rec.sport.baseball          1000\n",
            "rec.motorcycles             1000\n",
            "rec.autos                   1000\n",
            "misc.forsale                1000\n",
            "comp.windows.x              1000\n",
            "comp.sys.mac.hardware       1000\n",
            "comp.sys.ibm.pc.hardware    1000\n",
            "comp.os.ms-windows.misc     1000\n",
            "talk.religion.misc          1000\n",
            "soc.religion.christian       997\n",
            "Name: count, dtype: int64\n"
          ]
        }
      ],
      "source": [
        "print(data['category'].value_counts())  # How many articles per category"
      ]
    },
    {
      "cell_type": "code",
      "execution_count": 18,
      "id": "8ec181a8059311e5",
      "metadata": {
        "ExecuteTime": {
          "end_time": "2025-04-30T15:14:52.028769100Z",
          "start_time": "2025-04-30T15:14:52.016325300Z"
        },
        "colab": {
          "base_uri": "https://localhost:8080/"
        },
        "id": "8ec181a8059311e5",
        "outputId": "9255fc0d-3e60-4780-9ee3-aafa8e2ff527",
        "collapsed": true
      },
      "outputs": [
        {
          "output_type": "stream",
          "name": "stdout",
          "text": [
            "Xref: cantaloupe.srv.cs.cmu.edu alt.atheism:49960 alt.atheism.moderated:713 news.answers:7054 alt.answers:126\n",
            "Path: cantaloupe.srv.cs.cmu.edu!crabapple.srv.cs.cmu.edu!bb3.andrew.cmu.edu!news.sei.cmu.edu!cis.ohio-state.edu!magnus.acs.ohio-state.edu!usenet.ins.cwru.edu!agate!spool.mu.edu!uunet!pipex!ibmpcug!mantis!mathew\n",
            "From: mathew <mathew@mantis.co.uk>\n",
            "Newsgroups: alt.atheism,alt.atheism.moderated,news.answers,alt.answers\n",
            "Subject: Alt.Atheism FAQ: Atheist Resources\n",
            "Summary: Books, addresses, music -- anything related to atheism\n",
            "Keywords: FAQ, atheism, books, music, fiction, addresses, contacts\n",
            "Message-ID: <19930329115719@mantis.co.uk>\n",
            "Date: Mon, 29 Mar 1993 11:57:19 GMT\n",
            "Expires: Thu, 29 Apr 1993 11:57:19 GMT\n",
            "Followup-To: alt.atheism\n",
            "Distribution: world\n",
            "Organization: Mantis Consultants, Cambridge. UK.\n",
            "Approved: news-answers-request@mit.edu\n",
            "Supersedes: <19930301143317@mantis.co.uk>\n",
            "Lines: 290\n",
            "\n",
            "Archive-name: atheism/resources\n",
            "Alt-atheism-archive-name: resources\n",
            "Last-modified: 11 December 1992\n",
            "Version: 1.0\n",
            "\n",
            "                              Atheist Resources\n",
            "\n",
            "                      Addresses of Atheist Organizations\n",
            "\n",
            "                                     USA\n",
            "\n",
            "FREEDOM FROM RELIGION FOUNDATION\n",
            "\n",
            "Darwin fish bumper stickers and assorted other atheist paraphernalia are\n",
            "available from the Freedom From Religion Foundation in the US.\n",
            "\n",
            "Write to:  FFRF, P.O. Box 750, Madison, WI 53701.\n",
            "Telephone: (608) 256-8900\n",
            "\n",
            "EVOLUTION DESIGNS\n",
            "\n",
            "Evolution Designs sell the \"Darwin fish\".  It's a fish symbol, like the ones\n",
            "Christians stick on their cars, but with feet and the word \"Darwin\" written\n",
            "inside.  The deluxe moulded 3D plastic fish is $4.95 postpaid in the US.\n",
            "\n",
            "Write to:  Evolution Designs, 7119 Laurel Canyon #4, North Hollywood,\n",
            "           CA 91605.\n",
            "\n",
            "People in the San Francisco Bay area can get Darwin Fish from Lynn Gold --\n",
            "try mailing <figmo@netcom.com>.  For net people who go to Lynn directly, the\n",
            "price is $4.95 per fish.\n",
            "\n",
            "AMERICAN ATHEIST PRESS\n",
            "\n",
            "AAP publish various atheist books -- critiques of the Bible, lists of\n",
            "Biblical contradictions, and so on.  One such book is:\n",
            "\n",
            "\"The Bible Handbook\" by W.P. Ball and G.W. Foote.  American Atheist Press.\n",
            "372 pp.  ISBN 0-910309-26-4, 2nd edition, 1986.  Bible contradictions,\n",
            "absurdities, atrocities, immoralities... contains Ball, Foote: \"The Bible\n",
            "Contradicts Itself\", AAP.  Based on the King James version of the Bible.\n",
            "\n",
            "Write to:  American Atheist Press, P.O. Box 140195, Austin, TX 78714-0195.\n",
            "      or:  7215 Cameron Road, Austin, TX 78752-2973.\n",
            "Telephone: (512) 458-1244\n",
            "Fax:       (512) 467-9525\n",
            "\n",
            "PROMETHEUS BOOKS\n",
            "\n",
            "Sell books including Haught's \"Holy Horrors\" (see below).\n",
            "\n",
            "Write to:  700 East Amherst Street, Buffalo, New York 14215.\n",
            "Telephone: (716) 837-2475.\n",
            "\n",
            "An alternate address (which may be newer or older) is:\n",
            "Prometheus Books, 59 Glenn Drive, Buffalo, NY 14228-2197.\n",
            "\n",
            "AFRICAN-AMERICANS FOR HUMANISM\n",
            "\n",
            "An organization promoting black secular humanism and uncovering the history of\n",
            "black freethought.  They publish a quarterly newsletter, AAH EXAMINER.\n",
            "\n",
            "Write to:  Norm R. Allen, Jr., African Americans for Humanism, P.O. Box 664,\n",
            "           Buffalo, NY 14226.\n",
            "\n",
            "                                United Kingdom\n",
            "\n",
            "Rationalist Press Association          National Secular Society\n",
            "88 Islington High Street               702 Holloway Road\n",
            "London N1 8EW                          London N19 3NL\n",
            "071 226 7251                           071 272 1266\n",
            "\n",
            "British Humanist Association           South Place Ethical Society\n",
            "14 Lamb's Conduit Passage              Conway Hall\n",
            "London WC1R 4RH                        Red Lion Square\n",
            "071 430 0908                           London WC1R 4RL\n",
            "fax 071 430 1271                       071 831 7723\n",
            "\n",
            "The National Secular Society publish \"The Freethinker\", a monthly magazine\n",
            "founded in 1881.\n",
            "\n",
            "                                   Germany\n",
            "\n",
            "IBKA e.V.\n",
            "Internationaler Bund der Konfessionslosen und Atheisten\n",
            "Postfach 880, D-1000 Berlin 41. Germany.\n",
            "\n",
            "IBKA publish a journal:\n",
            "MIZ. (Materialien und Informationen zur Zeit. Politisches\n",
            "Journal der Konfessionslosesn und Atheisten. Hrsg. IBKA e.V.)\n",
            "MIZ-Vertrieb, Postfach 880, D-1000 Berlin 41. Germany.\n",
            "\n",
            "For atheist books, write to:\n",
            "\n",
            "IBDK, Internationaler B\"ucherdienst der Konfessionslosen\n",
            "Postfach 3005, D-3000 Hannover 1. Germany.\n",
            "Telephone: 0511/211216\n",
            "\n",
            "\n",
            "                               Books -- Fiction\n",
            "\n",
            "THOMAS M. DISCH\n",
            "\n",
            "\"The Santa Claus Compromise\"\n",
            "Short story.  The ultimate proof that Santa exists.  All characters and \n",
            "events are fictitious.  Any similarity to living or dead gods -- uh, well...\n",
            "\n",
            "WALTER M. MILLER, JR\n",
            "\n",
            "\"A Canticle for Leibowitz\"\n",
            "One gem in this post atomic doomsday novel is the monks who spent their lives\n",
            "copying blueprints from \"Saint Leibowitz\", filling the sheets of paper with\n",
            "ink and leaving white lines and letters.\n",
            "\n",
            "EDGAR PANGBORN\n",
            "\n",
            "\"Davy\"\n",
            "Post atomic doomsday novel set in clerical states.  The church, for example,\n",
            "forbids that anyone \"produce, describe or use any substance containing...\n",
            "atoms\". \n",
            "\n",
            "PHILIP K. DICK\n",
            "\n",
            "Philip K. Dick Dick wrote many philosophical and thought-provoking short \n",
            "stories and novels.  His stories are bizarre at times, but very approachable.\n",
            "He wrote mainly SF, but he wrote about people, truth and religion rather than\n",
            "technology.  Although he often believed that he had met some sort of God, he\n",
            "remained sceptical.  Amongst his novels, the following are of some relevance:\n",
            "\n",
            "\"Galactic Pot-Healer\"\n",
            "A fallible alien deity summons a group of Earth craftsmen and women to a\n",
            "remote planet to raise a giant cathedral from beneath the oceans.  When the\n",
            "deity begins to demand faith from the earthers, pot-healer Joe Fernwright is\n",
            "unable to comply.  A polished, ironic and amusing novel.\n",
            "\n",
            "\"A Maze of Death\"\n",
            "Noteworthy for its description of a technology-based religion.\n",
            "\n",
            "\"VALIS\"\n",
            "The schizophrenic hero searches for the hidden mysteries of Gnostic\n",
            "Christianity after reality is fired into his brain by a pink laser beam of\n",
            "unknown but possibly divine origin.  He is accompanied by his dogmatic and\n",
            "dismissively atheist friend and assorted other odd characters.\n",
            "\n",
            "\"The Divine Invasion\"\n",
            "God invades Earth by making a young woman pregnant as she returns from\n",
            "another star system.  Unfortunately she is terminally ill, and must be\n",
            "assisted by a dead man whose brain is wired to 24-hour easy listening music.\n",
            "\n",
            "MARGARET ATWOOD\n",
            "\n",
            "\"The Handmaid's Tale\"\n",
            "A story based on the premise that the US Congress is mysteriously\n",
            "assassinated, and fundamentalists quickly take charge of the nation to set it\n",
            "\"right\" again.  The book is the diary of a woman's life as she tries to live\n",
            "under the new Christian theocracy.  Women's right to own property is revoked,\n",
            "and their bank accounts are closed; sinful luxuries are outlawed, and the\n",
            "radio is only used for readings from the Bible.  Crimes are punished\n",
            "retroactively: doctors who performed legal abortions in the \"old world\" are\n",
            "hunted down and hanged.  Atwood's writing style is difficult to get used to\n",
            "at first, but the tale grows more and more chilling as it goes on.\n",
            "\n",
            "VARIOUS AUTHORS\n",
            "\n",
            "\"The Bible\"\n",
            "This somewhat dull and rambling work has often been criticized.  However, it\n",
            "is probably worth reading, if only so that you'll know what all the fuss is\n",
            "about.  It exists in many different versions, so make sure you get the one\n",
            "true version.\n",
            "\n",
            "                             Books -- Non-fiction\n",
            "\n",
            "PETER DE ROSA\n",
            "\n",
            "\"Vicars of Christ\", Bantam Press, 1988\n",
            "Although de Rosa seems to be Christian or even Catholic this is a very\n",
            "enlighting history of papal immoralities, adulteries, fallacies etc.\n",
            "(German translation: \"Gottes erste Diener. Die dunkle Seite des Papsttums\",\n",
            "Droemer-Knaur, 1989)\n",
            "\n",
            "MICHAEL MARTIN\n",
            "\n",
            "\"Atheism: A Philosophical Justification\", Temple University Press,\n",
            " Philadelphia, USA.\n",
            "A detailed and scholarly justification of atheism.  Contains an outstanding\n",
            "appendix defining terminology and usage in this (necessarily) tendentious\n",
            "area.  Argues both for \"negative atheism\" (i.e. the \"non-belief in the\n",
            "existence of god(s)\") and also for \"positive atheism\" (\"the belief in the\n",
            "non-existence of god(s)\").  Includes great refutations of the most\n",
            "challenging arguments for god; particular attention is paid to refuting\n",
            "contempory theists such as Platinga and Swinburne.\n",
            "541 pages. ISBN 0-87722-642-3 (hardcover; paperback also available)\n",
            "\n",
            "\"The Case Against Christianity\", Temple University Press\n",
            "A comprehensive critique of Christianity, in which he considers\n",
            "the best contemporary defences of Christianity and (ultimately)\n",
            "demonstrates that they are unsupportable and/or incoherent.\n",
            "273 pages. ISBN 0-87722-767-5\n",
            "\n",
            "JAMES TURNER\n",
            "\n",
            "\"Without God, Without Creed\", The Johns Hopkins University Press, Baltimore,\n",
            " MD, USA\n",
            "Subtitled \"The Origins of Unbelief in America\".  Examines the way in which\n",
            "unbelief (whether agnostic or atheistic)  became a mainstream alternative\n",
            "world-view.  Focusses on the period 1770-1900, and while considering France\n",
            "and Britain the emphasis is on American, and particularly New England\n",
            "developments.  \"Neither a religious history of secularization or atheism,\n",
            "Without God, Without Creed is, rather, the intellectual history of the fate\n",
            "of a single idea, the belief that God exists.\" \n",
            "316 pages. ISBN (hardcover) 0-8018-2494-X (paper) 0-8018-3407-4\n",
            "\n",
            "GEORGE SELDES (Editor)\n",
            "\n",
            "\"The great thoughts\", Ballantine Books, New York, USA\n",
            "A \"dictionary of quotations\" of a different kind, concentrating on statements\n",
            "and writings which, explicitly or implicitly, present the person's philosophy\n",
            "and world-view.  Includes obscure (and often suppressed) opinions from many\n",
            "people.  For some popular observations, traces the way in which various\n",
            "people expressed and twisted the idea over the centuries.  Quite a number of\n",
            "the quotations are derived from Cardiff's \"What Great Men Think of Religion\"\n",
            "and Noyes' \"Views of Religion\".\n",
            "490 pages. ISBN (paper) 0-345-29887-X.\n",
            "\n",
            "RICHARD SWINBURNE\n",
            "\n",
            "\"The Existence of God (Revised Edition)\", Clarendon Paperbacks, Oxford\n",
            "This book is the second volume in a trilogy that began with \"The Coherence of\n",
            "Theism\" (1977) and was concluded with \"Faith and Reason\" (1981).  In this\n",
            "work, Swinburne attempts to construct a series of inductive arguments for the\n",
            "existence of God.  His arguments, which are somewhat tendentious and rely\n",
            "upon the imputation of late 20th century western Christian values and\n",
            "aesthetics to a God which is supposedly as simple as can be conceived, were\n",
            "decisively rejected in Mackie's \"The Miracle of Theism\".  In the revised\n",
            "edition of \"The Existence of God\", Swinburne includes an Appendix in which he\n",
            "makes a somewhat incoherent attempt to rebut Mackie.\n",
            "\n",
            "J. L. MACKIE\n",
            "\n",
            "\"The Miracle of Theism\", Oxford\n",
            "This (posthumous) volume contains a comprehensive review of the principal\n",
            "arguments for and against the existence of God.  It ranges from the classical\n",
            "philosophical positions of Descartes, Anselm, Berkeley, Hume et al, through\n",
            "the moral arguments of Newman, Kant and Sidgwick, to the recent restatements\n",
            "of the classical theses by Plantinga and Swinburne.  It also addresses those\n",
            "positions which push the concept of God beyond the realm of the rational,\n",
            "such as those of Kierkegaard, Kung and Philips, as well as \"replacements for\n",
            "God\" such as Lelie's axiarchism.  The book is a delight to read - less\n",
            "formalistic and better written than Martin's works, and refreshingly direct\n",
            "when compared with the hand-waving of Swinburne.\n",
            "\n",
            "JAMES A. HAUGHT\n",
            "\n",
            "\"Holy Horrors: An Illustrated History of Religious Murder and Madness\",\n",
            " Prometheus Books\n",
            "Looks at religious persecution from ancient times to the present day -- and\n",
            "not only by Christians.\n",
            "Library of Congress Catalog Card Number 89-64079. 1990.\n",
            "\n",
            "NORM R. ALLEN, JR.\n",
            "\n",
            "\"African American Humanism: an Anthology\"\n",
            "See the listing for African Americans for Humanism above.\n",
            "\n",
            "GORDON STEIN\n",
            "\n",
            "\"An Anthology of Atheism and Rationalism\", Prometheus Books\n",
            "An anthology covering a wide range of subjects, including 'The Devil, Evil\n",
            "and Morality' and 'The History of Freethought'.  Comprehensive bibliography.\n",
            "\n",
            "EDMUND D. COHEN\n",
            "\n",
            "\"The Mind of The Bible-Believer\", Prometheus Books\n",
            "A study of why people become Christian fundamentalists, and what effect it\n",
            "has on them.\n",
            "\n",
            "                                Net Resources\n",
            "\n",
            "There's a small mail-based archive server at mantis.co.uk which carries\n",
            "archives of old alt.atheism.moderated articles and assorted other files.  For\n",
            "more information, send mail to archive-server@mantis.co.uk saying\n",
            "\n",
            "   help\n",
            "   send atheism/index\n",
            "\n",
            "and it will mail back a reply.\n",
            "\n",
            "\n",
            "mathew\n",
            "\n",
            "\n"
          ]
        }
      ],
      "source": [
        "print(data['content'][0])       # View a sample article"
      ]
    },
    {
      "cell_type": "code",
      "execution_count": 19,
      "id": "e4f5d876faa93e3d",
      "metadata": {
        "ExecuteTime": {
          "end_time": "2025-04-30T15:14:52.116059200Z",
          "start_time": "2025-04-30T15:14:52.022243700Z"
        },
        "id": "e4f5d876faa93e3d"
      },
      "outputs": [],
      "source": [
        "news_content = data['content']\n",
        "news_labels = data['category']"
      ]
    },
    {
      "cell_type": "markdown",
      "id": "138392ee44616b1c",
      "metadata": {
        "collapsed": false,
        "id": "138392ee44616b1c"
      },
      "source": [
        "# Preprocessing"
      ]
    },
    {
      "cell_type": "markdown",
      "id": "98a210947f23c1f5",
      "metadata": {
        "collapsed": false,
        "id": "98a210947f23c1f5"
      },
      "source": [
        "## Clean Raw Input Data\n",
        "\n",
        "To ensure our text data is ready for machine learning, we apply the following preprocessing steps:\n",
        "\n",
        "- **Expand Contractions**  \n",
        "  Convert common contractions to their full form for consistency.  \n",
        "  _Examples:_\n",
        "  - `\"don't\"` → `\"do not\"`  \n",
        "  - `\"it's\"` → `\"it is\"`\n",
        "\n",
        "- **Lowercase the Text**  \n",
        "  Normalize all text to lowercase to reduce vocabulary size and avoid case-sensitive duplicates.\n",
        "\n",
        "- **Remove Metadata**  \n",
        "  Strip away unnecessary headers, footers, and email signatures that do not contribute to the actual content.\n",
        "\n",
        "- **️Remove Numbers and Punctuation**  \n",
        "  These elements often add noise and are usually not meaningful in text classification tasks.\n",
        "\n",
        "- **Remove Extra Whitespace**  \n",
        "  Clean up unnecessary spaces, tabs, and newline characters to maintain uniformity in the text.\n"
      ]
    },
    {
      "cell_type": "code",
      "execution_count": 20,
      "id": "f75dd1108964cb5f",
      "metadata": {
        "ExecuteTime": {
          "end_time": "2025-04-30T15:14:54.270856Z",
          "start_time": "2025-04-30T15:14:52.040048200Z"
        },
        "id": "f75dd1108964cb5f"
      },
      "outputs": [],
      "source": [
        "news_content = news_content.apply(lambda x: contractions.fix(x)) # expand contractions\n",
        "news_content  = news_content.str.lower()"
      ]
    },
    {
      "cell_type": "code",
      "execution_count": 21,
      "id": "a7713c056f47bc43",
      "metadata": {
        "ExecuteTime": {
          "end_time": "2025-04-30T15:14:54.288880800Z",
          "start_time": "2025-04-30T15:14:54.272942200Z"
        },
        "id": "a7713c056f47bc43"
      },
      "outputs": [],
      "source": [
        "def clean_article(text):\n",
        "    # Remove headers and footers (common email/news metadata)\n",
        "    text = re.sub(r\"(?s)^.*?Lines: \\d+\\s+\", \"\", text)\n",
        "    text = re.sub(r\"(?s)^.*?(?=Archive-name:)\", \"\", text)\n",
        "    text = re.sub(r\"(?s)^\\s*From:.*?\\n\", \"\", text)\n",
        "    text = re.sub(r\"(?s)^.*?Subject:.*?\\n\", \"\", text)\n",
        "    text = re.sub(r\"(?s)^.*?Path:.*?\\n\", \"\", text)\n",
        "    text = re.sub(r\"(?s)^.*?Newsgroups:.*?\\n\", \"\", text)\n",
        "    text = re.sub(r\"(?s)^.*?Message-ID:.*?\\n\", \"\", text)\n",
        "    text = re.sub(r\"(?s)^.*?Organization:.*?\\n\", \"\", text)\n",
        "\n",
        "    # Remove email signatures (e.g., lines starting with '--')\n",
        "    text = re.sub(r\"--\\s*\\n.*\", \"\", text, flags=re.DOTALL)\n",
        "\n",
        "    # Remove numbers and punctuation\n",
        "    text = re.sub(r\"[^a-zA-Z\\s]\", \" \", text)\n",
        "\n",
        "    # Remove extra whitespace (tabs, newlines, multiple spaces)\n",
        "    text = re.sub(r\"\\s+\", \" \", text).strip()\n",
        "\n",
        "    return text\n"
      ]
    },
    {
      "cell_type": "code",
      "execution_count": 22,
      "id": "53e11ecd082199e4",
      "metadata": {
        "ExecuteTime": {
          "end_time": "2025-04-30T15:15:00.855032Z",
          "start_time": "2025-04-30T15:14:54.291237600Z"
        },
        "id": "53e11ecd082199e4"
      },
      "outputs": [],
      "source": [
        "news_content = news_content.apply(clean_article)"
      ]
    },
    {
      "cell_type": "code",
      "execution_count": 23,
      "id": "ea3eeb1612499517",
      "metadata": {
        "ExecuteTime": {
          "end_time": "2025-04-30T15:15:00.865897200Z",
          "start_time": "2025-04-30T15:15:00.859547300Z"
        },
        "id": "ea3eeb1612499517"
      },
      "outputs": [],
      "source": [
        "#news_content[0] # sample output to ensure cleaning was applied\n"
      ]
    },
    {
      "cell_type": "markdown",
      "id": "492b108b",
      "metadata": {
        "id": "492b108b"
      },
      "source": [
        "# Tokenization and stopwords removal"
      ]
    },
    {
      "cell_type": "markdown",
      "id": "8e1ff580",
      "metadata": {
        "id": "8e1ff580"
      },
      "source": [
        "- **Tokenize Text**    \n",
        "  Break each cleaned text into individual words (tokens) using NLTK's word_tokenize. This enables more granular analysis and further NLP processing.\n",
        "  \n",
        "  _Examples:_\n",
        "  - `\"the quick brown fox\"` → `[\"the\", \"quick\", \"brown\", \"fox\"]`\n",
        "\n",
        "- **Remove Stopwords**\n",
        "  Eliminate common English stopwords (e.g., \"the\", \"is\", \"and\") using NLTK’s predefined list. These words typically carry less semantic meaning and can introduce noise in text classification tasks.\n",
        "\n",
        "  _Examples:_\n",
        "  - `[\"the\", \"quick\", \"brown\", \"fox\"]` → `[\"quick\", \"brown\", \"fox\"]`"
      ]
    },
    {
      "cell_type": "code",
      "execution_count": 24,
      "id": "7970674a",
      "metadata": {
        "id": "7970674a"
      },
      "outputs": [],
      "source": [
        "stop_words = set(stopwords.words('english'))\n",
        "\n",
        "def tokenize_and_remove_stopwords(text):\n",
        "    tokens = word_tokenize(text)\n",
        "    filtered_tokens = [word for word in tokens if word not in stop_words]\n",
        "    return filtered_tokens\n",
        "\n",
        "# Apply to the series\n",
        "news_tokens = news_content.apply(tokenize_and_remove_stopwords)\n"
      ]
    },
    {
      "cell_type": "markdown",
      "source": [
        "## TF–IDF Vectorization"
      ],
      "metadata": {
        "id": "w95z3YprGG4O"
      },
      "id": "w95z3YprGG4O"
    },
    {
      "cell_type": "markdown",
      "source": [
        "Transform raw text data into numerical features.TF–IDF captures the importance of words across documents by balancing their frequency within a document."
      ],
      "metadata": {
        "id": "xkQXf2mtWoy1"
      },
      "id": "xkQXf2mtWoy1"
    },
    {
      "cell_type": "markdown",
      "source": [
        " - Reconstruct Tokenized Text"
      ],
      "metadata": {
        "id": "b3tjA9o8KFdu"
      },
      "id": "b3tjA9o8KFdu"
    },
    {
      "cell_type": "code",
      "source": [
        "cleaned_text = news_tokens.apply(lambda tokens: \" \".join(tokens))"
      ],
      "metadata": {
        "id": "iDGoAiNLGi56"
      },
      "id": "iDGoAiNLGi56",
      "execution_count": 25,
      "outputs": []
    },
    {
      "cell_type": "markdown",
      "source": [
        "- Initialize the vectorizer"
      ],
      "metadata": {
        "id": "A6LvsG68KMR9"
      },
      "id": "A6LvsG68KMR9"
    },
    {
      "cell_type": "code",
      "source": [
        "vectorizer = TfidfVectorizer(\n",
        "    # ignore very rare words\n",
        "    min_df=5,\n",
        "    # ignore very common words\n",
        "    max_df=0.8,\n",
        "    # include unigrams and bigrams -> Unigrams are capture the frequency of individual words,Bigrams capture the relationship between two consecutive words, which can be useful for understanding the context and meaning of words in a sentence.\n",
        "    ngram_range=(1,2),\n",
        ")\n",
        "\n"
      ],
      "metadata": {
        "id": "OHrPS4z9KbTE"
      },
      "id": "OHrPS4z9KbTE",
      "execution_count": 26,
      "outputs": []
    },
    {
      "cell_type": "code",
      "source": [
        "#vectorizer = TfidfVectorizer()"
      ],
      "metadata": {
        "id": "F9BJxnQNKgqh"
      },
      "id": "F9BJxnQNKgqh",
      "execution_count": 27,
      "outputs": []
    },
    {
      "cell_type": "markdown",
      "source": [
        "- transform into a TF–IDF matrix"
      ],
      "metadata": {
        "id": "JpRi0YzsLK3-"
      },
      "id": "JpRi0YzsLK3-"
    },
    {
      "cell_type": "code",
      "source": [
        "tfidf_matrix = vectorizer.fit_transform(cleaned_text)\n"
      ],
      "metadata": {
        "id": "g6dZ4gF6KedV"
      },
      "id": "g6dZ4gF6KedV",
      "execution_count": 28,
      "outputs": []
    },
    {
      "cell_type": "code",
      "source": [
        "print(\"TF–IDF matrix shape:\", tfidf_matrix.shape)\n",
        "\n",
        "feature_names = vectorizer.get_feature_names_out()"
      ],
      "metadata": {
        "colab": {
          "base_uri": "https://localhost:8080/"
        },
        "id": "-6rNW-xuLP_t",
        "outputId": "61a45bfc-c9fc-483f-ae59-54cab0e3b144"
      },
      "id": "-6rNW-xuLP_t",
      "execution_count": 29,
      "outputs": [
        {
          "output_type": "stream",
          "name": "stdout",
          "text": [
            "TF–IDF matrix shape: (19997, 111908)\n"
          ]
        }
      ]
    },
    {
      "cell_type": "markdown",
      "source": [
        "## Word Embedding using Word2Vec"
      ],
      "metadata": {
        "id": "NYvmn0ysXr5G"
      },
      "id": "NYvmn0ysXr5G"
    },
    {
      "cell_type": "markdown",
      "source": [
        "Convert words into dense, continuous-valued vectors that capture semantic relationships. Unlike TF–IDF, which treats each term independently, Word2Vec learns word representations so that words appearing in similar contexts end up with similar vectors."
      ],
      "metadata": {
        "id": "GK1bJSPgYVl2"
      },
      "id": "GK1bJSPgYVl2"
    },
    {
      "cell_type": "markdown",
      "source": [
        "How it works: Word2Vec slides a window over each token list and learns to predict a target word from its neighbors (or vice versa)."
      ],
      "metadata": {
        "id": "7vnjEfGcZn-D"
      },
      "id": "7vnjEfGcZn-D"
    },
    {
      "cell_type": "code",
      "source": [
        "# 7. Train Word2Vec model\n",
        "w2v_model = Word2Vec(\n",
        "    sentences=news_tokens,\n",
        "    vector_size=100,  # dimensionality\n",
        "    window=5,\n",
        "    min_count=5,      # ignore words with freq < 5\n",
        "    workers=4,        # Number of CPU cores used\n",
        "    seed=42\n",
        ")\n",
        "w2v_model.save(\"word2vec.model\")"
      ],
      "metadata": {
        "id": "ucNS7WCUXyG2"
      },
      "id": "ucNS7WCUXyG2",
      "execution_count": 30,
      "outputs": []
    },
    {
      "cell_type": "markdown",
      "source": [
        "-  Build document embeddings by averaging word vectors"
      ],
      "metadata": {
        "id": "eS9rP89_X5yo"
      },
      "id": "eS9rP89_X5yo"
    },
    {
      "cell_type": "code",
      "source": [
        "def document_vector(tokens):\n",
        "    vecs = [w2v_model.wv[word] for word in tokens if word in w2v_model.wv]\n",
        "    if not vecs:\n",
        "        return np.zeros(w2v_model.vector_size)\n",
        "    return np.mean(vecs, axis=0)"
      ],
      "metadata": {
        "id": "1YstSjCOX6k6"
      },
      "id": "1YstSjCOX6k6",
      "execution_count": 31,
      "outputs": []
    },
    {
      "cell_type": "code",
      "source": [
        "import numpy as np\n",
        "\n",
        "embeddings = np.vstack(news_tokens.apply(document_vector).values)\n",
        "df_embeddings = pd.DataFrame(\n",
        "    embeddings,\n",
        "    columns=[f\"dim_{i}\" for i in range(w2v_model.vector_size)]\n",
        ")"
      ],
      "metadata": {
        "id": "5AxVows9YCn8"
      },
      "id": "5AxVows9YCn8",
      "execution_count": 33,
      "outputs": []
    },
    {
      "cell_type": "code",
      "source": [
        "df_embeddings.to_parquet('doc_embeddings.parquet', engine='pyarrow')\n",
        "print(\"Document embeddings saved; shape:\", df_embeddings.shape)"
      ],
      "metadata": {
        "id": "Q9GfB4RLYET6",
        "colab": {
          "base_uri": "https://localhost:8080/"
        },
        "outputId": "2acbf45a-ceb9-4274-aaf6-2a6eba22e552"
      },
      "id": "Q9GfB4RLYET6",
      "execution_count": 34,
      "outputs": [
        {
          "output_type": "stream",
          "name": "stdout",
          "text": [
            "Document embeddings saved; shape: (19997, 100)\n"
          ]
        }
      ]
    },
    {
      "cell_type": "markdown",
      "source": [
        "# Train-Validation-Test split\n"
      ],
      "metadata": {
        "id": "cFc7z9RaQb3k"
      },
      "id": "cFc7z9RaQb3k"
    },
    {
      "cell_type": "markdown",
      "source": [
        "Split the dataset into three subsets to enable effective model training, validation, and testing. This ensures unbiased evaluation and prevents overfitting."
      ],
      "metadata": {
        "id": "z-mFFAoqW9CS"
      },
      "id": "z-mFFAoqW9CS"
    },
    {
      "cell_type": "markdown",
      "source": [
        " -  Split off test (20%)"
      ],
      "metadata": {
        "id": "rH4wJXYVQyrg"
      },
      "id": "rH4wJXYVQyrg"
    },
    {
      "cell_type": "code",
      "source": [
        "X_temp, X_test, y_temp, y_test = train_test_split(\n",
        "    tfidf_matrix,\n",
        "    news_labels,\n",
        "    test_size=0.20,       # 20% → test set\n",
        "    random_state=42,\n",
        "    stratify=news_labels\n",
        ")"
      ],
      "metadata": {
        "id": "x9Nv8hGVQn01"
      },
      "id": "x9Nv8hGVQn01",
      "execution_count": 35,
      "outputs": []
    },
    {
      "cell_type": "markdown",
      "source": [
        "- Split the remaining 80% into train (60%) and validation (20%)"
      ],
      "metadata": {
        "id": "5-9Ad1RgQ0sb"
      },
      "id": "5-9Ad1RgQ0sb"
    },
    {
      "cell_type": "code",
      "source": [
        "X_train, X_val, y_train, y_val = train_test_split(\n",
        "    X_temp,\n",
        "    y_temp,\n",
        "    test_size=0.25,       # 25% of 80% = 20% overall for validation\n",
        "    random_state=42,\n",
        "    stratify=y_temp\n",
        ")"
      ],
      "metadata": {
        "id": "CXFcfe8yQtK8"
      },
      "id": "CXFcfe8yQtK8",
      "execution_count": 36,
      "outputs": []
    },
    {
      "cell_type": "code",
      "source": [
        "print(f\"Train  → X_train: {X_train.shape},  y_train: {y_train.shape}\")\n",
        "print(f\"Val    → X_val:   {X_val.shape},    y_val:   {y_val.shape}\")\n",
        "print(f\"Test   → X_test:  {X_test.shape},   y_test:  {y_test.shape}\")"
      ],
      "metadata": {
        "colab": {
          "base_uri": "https://localhost:8080/"
        },
        "id": "Jy2pZanMQ7tK",
        "outputId": "e739bca2-1179-499f-ed5a-5e3019091b2c"
      },
      "id": "Jy2pZanMQ7tK",
      "execution_count": 37,
      "outputs": [
        {
          "output_type": "stream",
          "name": "stdout",
          "text": [
            "Train  → X_train: (11997, 111908),  y_train: (11997,)\n",
            "Val    → X_val:   (4000, 111908),    y_val:   (4000,)\n",
            "Test   → X_test:  (4000, 111908),   y_test:  (4000,)\n"
          ]
        }
      ]
    }
  ],
  "metadata": {
    "kernelspec": {
      "display_name": "Python 3",
      "language": "python",
      "name": "python3"
    },
    "language_info": {
      "codemirror_mode": {
        "name": "ipython",
        "version": 3
      },
      "file_extension": ".py",
      "mimetype": "text/x-python",
      "name": "python",
      "nbconvert_exporter": "python",
      "pygments_lexer": "ipython3",
      "version": "3.13.3"
    },
    "colab": {
      "provenance": []
    }
  },
  "nbformat": 4,
  "nbformat_minor": 5
}