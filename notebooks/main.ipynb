{
 "cells": [
  {
   "cell_type": "markdown",
   "id": "39cb8c5c2d696137",
   "metadata": {
    "collapsed": false,
    "id": "39cb8c5c2d696137"
   },
   "source": [
    "# News Group Classification\n",
    "\n",
    "In this project, we aim to build a **text classification model** that can automatically categorize news articles into their respective topics. This involves applying **Natural Language Processing (NLP)** techniques and training a machine learning model on labeled news data.\n"
   ]
  },
  {
   "cell_type": "markdown",
   "id": "52f0384b8215d245",
   "metadata": {
    "collapsed": false,
    "id": "52f0384b8215d245"
   },
   "source": [
    "# Importing Libraries"
   ]
  },
  {
   "cell_type": "code",
   "id": "b0a9f10fa159cff3",
   "metadata": {
    "execution": {
     "iopub.execute_input": "2025-05-10T10:17:22.350333Z",
     "iopub.status.busy": "2025-05-10T10:17:22.350005Z",
     "iopub.status.idle": "2025-05-10T10:17:22.359006Z",
     "shell.execute_reply": "2025-05-10T10:17:22.357904Z",
     "shell.execute_reply.started": "2025-05-10T10:17:22.350311Z"
    },
    "id": "b0a9f10fa159cff3",
    "ExecuteTime": {
     "end_time": "2025-05-21T14:01:27.289031Z",
     "start_time": "2025-05-21T14:01:26.420372700Z"
    }
   },
   "source": [
    "import pandas as pd\n",
    "import contractions\n",
    "from matplotlib import pyplot as plt\n",
    "import numpy as np\n",
    "import re\n",
    "import spacy\n",
    "from nltk.tokenize import word_tokenize\n",
    "from nltk.corpus import stopwords\n",
    "from sklearn.feature_extraction.text import TfidfVectorizer\n",
    "from sklearn.model_selection import train_test_split\n",
    "from nltk.stem import WordNetLemmatizer\n",
    "from nltk.corpus import wordnet\n",
    "from nltk import pos_tag\n",
    "from sklearn.model_selection import GridSearchCV\n",
    "from sklearn.naive_bayes import MultinomialNB\n",
    "from sklearn.ensemble import RandomForestClassifier\n",
    "from sklearn.model_selection import cross_val_score\n",
    "import seaborn as sns\n",
    "from sklearn.metrics import accuracy_score, f1_score, precision_score, recall_score\n",
    "from sklearn.metrics import confusion_matrix\n",
    "from sklearn.ensemble import RandomForestClassifier\n",
    "from sklearn.svm import LinearSVC\n",
    "from sklearn.model_selection import GridSearchCV\n",
    "from sklearn.metrics import classification_report\n",
    "from sklearn.utils.parallel import Parallel, delayed\n",
    "from sklearn.svm import LinearSVC\n",
    "from sklearn.metrics import confusion_matrix, ConfusionMatrixDisplay\n",
    "from sklearn.neighbors import KNeighborsClassifier\n",
    "from sklearn.pipeline import Pipeline\n",
    "from sklearn.decomposition import TruncatedSVD\n",
    "from sklearn.preprocessing import Normalizer\n",
    "import warnings\n",
    "\n",
    "# import nltk\n",
    "# nltk.download('punkt')\n",
    "# nltk.download('punkt_tab')\n",
    "# nltk.download('stopwords')"
   ],
   "outputs": [],
   "execution_count": 64
  },
  {
   "cell_type": "markdown",
   "id": "9a4ea6dcfbc36189",
   "metadata": {
    "collapsed": false,
    "id": "9a4ea6dcfbc36189"
   },
   "source": [
    "# Dataset Overview\n",
    "\n",
    "Our dataset consists of news articles with the following columns:\n",
    "\n",
    "- **category**: The target label indicating the topic of the article (e.g., sports, tech, politics, etc.).\n",
    "- **filename**: The file name or path associated with each article.\n",
    "- **content**: The full text of the news article, which will serve as our main input for training the classification model.\n",
    "\n",
    "We'll use the **`content`** column as the input feature for NLP processing, and the **`category`** column as the target for model training.\n"
   ]
  },
  {
   "cell_type": "code",
   "id": "4927ea7bc4ca36b7",
   "metadata": {
    "execution": {
     "iopub.execute_input": "2025-05-10T06:27:37.036545Z",
     "iopub.status.busy": "2025-05-10T06:27:37.036275Z",
     "iopub.status.idle": "2025-05-10T06:27:37.440722Z",
     "shell.execute_reply": "2025-05-10T06:27:37.439935Z",
     "shell.execute_reply.started": "2025-05-10T06:27:37.036526Z"
    },
    "id": "4927ea7bc4ca36b7",
    "ExecuteTime": {
     "end_time": "2025-05-21T14:01:27.555245500Z",
     "start_time": "2025-05-21T14:01:27.291160900Z"
    }
   },
   "source": [
    "data = pd.read_parquet(\"news_data.parquet\",engine='pyarrow')"
   ],
   "outputs": [],
   "execution_count": 65
  },
  {
   "cell_type": "code",
   "id": "eSt6BkmoMdgJ",
   "metadata": {
    "execution": {
     "iopub.execute_input": "2025-05-10T06:27:37.443212Z",
     "iopub.status.busy": "2025-05-10T06:27:37.442924Z",
     "iopub.status.idle": "2025-05-10T06:27:37.447083Z",
     "shell.execute_reply": "2025-05-10T06:27:37.446136Z",
     "shell.execute_reply.started": "2025-05-10T06:27:37.443190Z"
    },
    "id": "eSt6BkmoMdgJ",
    "ExecuteTime": {
     "end_time": "2025-05-21T14:01:27.558997800Z",
     "start_time": "2025-05-21T14:01:27.500697400Z"
    }
   },
   "source": [
    "# data.to_csv('news_data.csv', index=False)"
   ],
   "outputs": [],
   "execution_count": 66
  },
  {
   "cell_type": "code",
   "id": "88023ae6a816d565",
   "metadata": {
    "colab": {
     "base_uri": "https://localhost:8080/"
    },
    "execution": {
     "iopub.execute_input": "2025-05-10T06:27:37.448116Z",
     "iopub.status.busy": "2025-05-10T06:27:37.447901Z",
     "iopub.status.idle": "2025-05-10T06:27:37.474398Z",
     "shell.execute_reply": "2025-05-10T06:27:37.473530Z",
     "shell.execute_reply.started": "2025-05-10T06:27:37.448100Z"
    },
    "id": "88023ae6a816d565",
    "outputId": "e065259d-b534-4e95-954c-aa0f4ab51377",
    "ExecuteTime": {
     "end_time": "2025-05-21T14:01:27.574458600Z",
     "start_time": "2025-05-21T14:01:27.506819Z"
    }
   },
   "source": [
    "print(data.head())"
   ],
   "outputs": [
    {
     "name": "stdout",
     "output_type": "stream",
     "text": [
      "      category filename                                            content\n",
      "0  alt.atheism    49960  Xref: cantaloupe.srv.cs.cmu.edu alt.atheism:49...\n",
      "1  alt.atheism    51060  Xref: cantaloupe.srv.cs.cmu.edu alt.atheism:51...\n",
      "2  alt.atheism    51119  Newsgroups: alt.atheism\\nPath: cantaloupe.srv....\n",
      "3  alt.atheism    51120  Xref: cantaloupe.srv.cs.cmu.edu alt.atheism:51...\n",
      "4  alt.atheism    51121  Xref: cantaloupe.srv.cs.cmu.edu alt.atheism:51...\n"
     ]
    }
   ],
   "execution_count": 67
  },
  {
   "cell_type": "code",
   "id": "c51ad795e9588c35",
   "metadata": {
    "colab": {
     "base_uri": "https://localhost:8080/"
    },
    "execution": {
     "iopub.execute_input": "2025-05-10T06:27:37.475559Z",
     "iopub.status.busy": "2025-05-10T06:27:37.475326Z",
     "iopub.status.idle": "2025-05-10T06:27:37.480594Z",
     "shell.execute_reply": "2025-05-10T06:27:37.479756Z",
     "shell.execute_reply.started": "2025-05-10T06:27:37.475539Z"
    },
    "id": "c51ad795e9588c35",
    "outputId": "3a482ca5-b1b3-44cd-e048-bf6233cd69dd",
    "ExecuteTime": {
     "end_time": "2025-05-21T14:01:27.602608100Z",
     "start_time": "2025-05-21T14:01:27.517174900Z"
    }
   },
   "source": [
    "print(data.shape)               # Rows and columns"
   ],
   "outputs": [
    {
     "name": "stdout",
     "output_type": "stream",
     "text": [
      "(19997, 3)\n"
     ]
    }
   ],
   "execution_count": 68
  },
  {
   "cell_type": "code",
   "id": "a2cd18104335013e",
   "metadata": {
    "colab": {
     "base_uri": "https://localhost:8080/"
    },
    "execution": {
     "iopub.execute_input": "2025-05-10T06:27:37.482161Z",
     "iopub.status.busy": "2025-05-10T06:27:37.481431Z",
     "iopub.status.idle": "2025-05-10T06:27:37.505230Z",
     "shell.execute_reply": "2025-05-10T06:27:37.504305Z",
     "shell.execute_reply.started": "2025-05-10T06:27:37.482132Z"
    },
    "id": "a2cd18104335013e",
    "outputId": "5086619d-5ea8-45ee-fdb6-816479c38416",
    "ExecuteTime": {
     "end_time": "2025-05-21T14:01:27.730511400Z",
     "start_time": "2025-05-21T14:01:27.542540900Z"
    }
   },
   "source": [
    "print(data['category'].value_counts())  # How many articles per category"
   ],
   "outputs": [
    {
     "name": "stdout",
     "output_type": "stream",
     "text": [
      "category\n",
      "alt.atheism                 1000\n",
      "comp.graphics               1000\n",
      "comp.os.ms-windows.misc     1000\n",
      "comp.sys.ibm.pc.hardware    1000\n",
      "comp.sys.mac.hardware       1000\n",
      "comp.windows.x              1000\n",
      "misc.forsale                1000\n",
      "rec.autos                   1000\n",
      "rec.motorcycles             1000\n",
      "rec.sport.baseball          1000\n",
      "rec.sport.hockey            1000\n",
      "sci.crypt                   1000\n",
      "sci.electronics             1000\n",
      "sci.med                     1000\n",
      "sci.space                   1000\n",
      "talk.politics.guns          1000\n",
      "talk.politics.misc          1000\n",
      "talk.politics.mideast       1000\n",
      "talk.religion.misc          1000\n",
      "soc.religion.christian       997\n",
      "Name: count, dtype: int64\n"
     ]
    }
   ],
   "execution_count": 69
  },
  {
   "cell_type": "code",
   "id": "8ec181a8059311e5",
   "metadata": {
    "colab": {
     "base_uri": "https://localhost:8080/"
    },
    "execution": {
     "iopub.execute_input": "2025-05-10T06:27:37.506507Z",
     "iopub.status.busy": "2025-05-10T06:27:37.506294Z",
     "iopub.status.idle": "2025-05-10T06:27:37.525306Z",
     "shell.execute_reply": "2025-05-10T06:27:37.524331Z",
     "shell.execute_reply.started": "2025-05-10T06:27:37.506490Z"
    },
    "id": "8ec181a8059311e5",
    "outputId": "9255fc0d-3e60-4780-9ee3-aafa8e2ff527",
    "ExecuteTime": {
     "end_time": "2025-05-21T14:01:27.811483200Z",
     "start_time": "2025-05-21T14:01:27.710324200Z"
    }
   },
   "source": [
    "print(data['content'][0])       # View a sample article"
   ],
   "outputs": [
    {
     "name": "stdout",
     "output_type": "stream",
     "text": [
      "Xref: cantaloupe.srv.cs.cmu.edu alt.atheism:49960 alt.atheism.moderated:713 news.answers:7054 alt.answers:126\n",
      "Path: cantaloupe.srv.cs.cmu.edu!crabapple.srv.cs.cmu.edu!bb3.andrew.cmu.edu!news.sei.cmu.edu!cis.ohio-state.edu!magnus.acs.ohio-state.edu!usenet.ins.cwru.edu!agate!spool.mu.edu!uunet!pipex!ibmpcug!mantis!mathew\n",
      "From: mathew <mathew@mantis.co.uk>\n",
      "Newsgroups: alt.atheism,alt.atheism.moderated,news.answers,alt.answers\n",
      "Subject: Alt.Atheism FAQ: Atheist Resources\n",
      "Summary: Books, addresses, music -- anything related to atheism\n",
      "Keywords: FAQ, atheism, books, music, fiction, addresses, contacts\n",
      "Message-ID: <19930329115719@mantis.co.uk>\n",
      "Date: Mon, 29 Mar 1993 11:57:19 GMT\n",
      "Expires: Thu, 29 Apr 1993 11:57:19 GMT\n",
      "Followup-To: alt.atheism\n",
      "Distribution: world\n",
      "Organization: Mantis Consultants, Cambridge. UK.\n",
      "Approved: news-answers-request@mit.edu\n",
      "Supersedes: <19930301143317@mantis.co.uk>\n",
      "Lines: 290\n",
      "\n",
      "Archive-name: atheism/resources\n",
      "Alt-atheism-archive-name: resources\n",
      "Last-modified: 11 December 1992\n",
      "Version: 1.0\n",
      "\n",
      "                              Atheist Resources\n",
      "\n",
      "                      Addresses of Atheist Organizations\n",
      "\n",
      "                                     USA\n",
      "\n",
      "FREEDOM FROM RELIGION FOUNDATION\n",
      "\n",
      "Darwin fish bumper stickers and assorted other atheist paraphernalia are\n",
      "available from the Freedom From Religion Foundation in the US.\n",
      "\n",
      "Write to:  FFRF, P.O. Box 750, Madison, WI 53701.\n",
      "Telephone: (608) 256-8900\n",
      "\n",
      "EVOLUTION DESIGNS\n",
      "\n",
      "Evolution Designs sell the \"Darwin fish\".  It's a fish symbol, like the ones\n",
      "Christians stick on their cars, but with feet and the word \"Darwin\" written\n",
      "inside.  The deluxe moulded 3D plastic fish is $4.95 postpaid in the US.\n",
      "\n",
      "Write to:  Evolution Designs, 7119 Laurel Canyon #4, North Hollywood,\n",
      "           CA 91605.\n",
      "\n",
      "People in the San Francisco Bay area can get Darwin Fish from Lynn Gold --\n",
      "try mailing <figmo@netcom.com>.  For net people who go to Lynn directly, the\n",
      "price is $4.95 per fish.\n",
      "\n",
      "AMERICAN ATHEIST PRESS\n",
      "\n",
      "AAP publish various atheist books -- critiques of the Bible, lists of\n",
      "Biblical contradictions, and so on.  One such book is:\n",
      "\n",
      "\"The Bible Handbook\" by W.P. Ball and G.W. Foote.  American Atheist Press.\n",
      "372 pp.  ISBN 0-910309-26-4, 2nd edition, 1986.  Bible contradictions,\n",
      "absurdities, atrocities, immoralities... contains Ball, Foote: \"The Bible\n",
      "Contradicts Itself\", AAP.  Based on the King James version of the Bible.\n",
      "\n",
      "Write to:  American Atheist Press, P.O. Box 140195, Austin, TX 78714-0195.\n",
      "      or:  7215 Cameron Road, Austin, TX 78752-2973.\n",
      "Telephone: (512) 458-1244\n",
      "Fax:       (512) 467-9525\n",
      "\n",
      "PROMETHEUS BOOKS\n",
      "\n",
      "Sell books including Haught's \"Holy Horrors\" (see below).\n",
      "\n",
      "Write to:  700 East Amherst Street, Buffalo, New York 14215.\n",
      "Telephone: (716) 837-2475.\n",
      "\n",
      "An alternate address (which may be newer or older) is:\n",
      "Prometheus Books, 59 Glenn Drive, Buffalo, NY 14228-2197.\n",
      "\n",
      "AFRICAN-AMERICANS FOR HUMANISM\n",
      "\n",
      "An organization promoting black secular humanism and uncovering the history of\n",
      "black freethought.  They publish a quarterly newsletter, AAH EXAMINER.\n",
      "\n",
      "Write to:  Norm R. Allen, Jr., African Americans for Humanism, P.O. Box 664,\n",
      "           Buffalo, NY 14226.\n",
      "\n",
      "                                United Kingdom\n",
      "\n",
      "Rationalist Press Association          National Secular Society\n",
      "88 Islington High Street               702 Holloway Road\n",
      "London N1 8EW                          London N19 3NL\n",
      "071 226 7251                           071 272 1266\n",
      "\n",
      "British Humanist Association           South Place Ethical Society\n",
      "14 Lamb's Conduit Passage              Conway Hall\n",
      "London WC1R 4RH                        Red Lion Square\n",
      "071 430 0908                           London WC1R 4RL\n",
      "fax 071 430 1271                       071 831 7723\n",
      "\n",
      "The National Secular Society publish \"The Freethinker\", a monthly magazine\n",
      "founded in 1881.\n",
      "\n",
      "                                   Germany\n",
      "\n",
      "IBKA e.V.\n",
      "Internationaler Bund der Konfessionslosen und Atheisten\n",
      "Postfach 880, D-1000 Berlin 41. Germany.\n",
      "\n",
      "IBKA publish a journal:\n",
      "MIZ. (Materialien und Informationen zur Zeit. Politisches\n",
      "Journal der Konfessionslosesn und Atheisten. Hrsg. IBKA e.V.)\n",
      "MIZ-Vertrieb, Postfach 880, D-1000 Berlin 41. Germany.\n",
      "\n",
      "For atheist books, write to:\n",
      "\n",
      "IBDK, Internationaler B\"ucherdienst der Konfessionslosen\n",
      "Postfach 3005, D-3000 Hannover 1. Germany.\n",
      "Telephone: 0511/211216\n",
      "\n",
      "\n",
      "                               Books -- Fiction\n",
      "\n",
      "THOMAS M. DISCH\n",
      "\n",
      "\"The Santa Claus Compromise\"\n",
      "Short story.  The ultimate proof that Santa exists.  All characters and \n",
      "events are fictitious.  Any similarity to living or dead gods -- uh, well...\n",
      "\n",
      "WALTER M. MILLER, JR\n",
      "\n",
      "\"A Canticle for Leibowitz\"\n",
      "One gem in this post atomic doomsday novel is the monks who spent their lives\n",
      "copying blueprints from \"Saint Leibowitz\", filling the sheets of paper with\n",
      "ink and leaving white lines and letters.\n",
      "\n",
      "EDGAR PANGBORN\n",
      "\n",
      "\"Davy\"\n",
      "Post atomic doomsday novel set in clerical states.  The church, for example,\n",
      "forbids that anyone \"produce, describe or use any substance containing...\n",
      "atoms\". \n",
      "\n",
      "PHILIP K. DICK\n",
      "\n",
      "Philip K. Dick Dick wrote many philosophical and thought-provoking short \n",
      "stories and novels.  His stories are bizarre at times, but very approachable.\n",
      "He wrote mainly SF, but he wrote about people, truth and religion rather than\n",
      "technology.  Although he often believed that he had met some sort of God, he\n",
      "remained sceptical.  Amongst his novels, the following are of some relevance:\n",
      "\n",
      "\"Galactic Pot-Healer\"\n",
      "A fallible alien deity summons a group of Earth craftsmen and women to a\n",
      "remote planet to raise a giant cathedral from beneath the oceans.  When the\n",
      "deity begins to demand faith from the earthers, pot-healer Joe Fernwright is\n",
      "unable to comply.  A polished, ironic and amusing novel.\n",
      "\n",
      "\"A Maze of Death\"\n",
      "Noteworthy for its description of a technology-based religion.\n",
      "\n",
      "\"VALIS\"\n",
      "The schizophrenic hero searches for the hidden mysteries of Gnostic\n",
      "Christianity after reality is fired into his brain by a pink laser beam of\n",
      "unknown but possibly divine origin.  He is accompanied by his dogmatic and\n",
      "dismissively atheist friend and assorted other odd characters.\n",
      "\n",
      "\"The Divine Invasion\"\n",
      "God invades Earth by making a young woman pregnant as she returns from\n",
      "another star system.  Unfortunately she is terminally ill, and must be\n",
      "assisted by a dead man whose brain is wired to 24-hour easy listening music.\n",
      "\n",
      "MARGARET ATWOOD\n",
      "\n",
      "\"The Handmaid's Tale\"\n",
      "A story based on the premise that the US Congress is mysteriously\n",
      "assassinated, and fundamentalists quickly take charge of the nation to set it\n",
      "\"right\" again.  The book is the diary of a woman's life as she tries to live\n",
      "under the new Christian theocracy.  Women's right to own property is revoked,\n",
      "and their bank accounts are closed; sinful luxuries are outlawed, and the\n",
      "radio is only used for readings from the Bible.  Crimes are punished\n",
      "retroactively: doctors who performed legal abortions in the \"old world\" are\n",
      "hunted down and hanged.  Atwood's writing style is difficult to get used to\n",
      "at first, but the tale grows more and more chilling as it goes on.\n",
      "\n",
      "VARIOUS AUTHORS\n",
      "\n",
      "\"The Bible\"\n",
      "This somewhat dull and rambling work has often been criticized.  However, it\n",
      "is probably worth reading, if only so that you'll know what all the fuss is\n",
      "about.  It exists in many different versions, so make sure you get the one\n",
      "true version.\n",
      "\n",
      "                             Books -- Non-fiction\n",
      "\n",
      "PETER DE ROSA\n",
      "\n",
      "\"Vicars of Christ\", Bantam Press, 1988\n",
      "Although de Rosa seems to be Christian or even Catholic this is a very\n",
      "enlighting history of papal immoralities, adulteries, fallacies etc.\n",
      "(German translation: \"Gottes erste Diener. Die dunkle Seite des Papsttums\",\n",
      "Droemer-Knaur, 1989)\n",
      "\n",
      "MICHAEL MARTIN\n",
      "\n",
      "\"Atheism: A Philosophical Justification\", Temple University Press,\n",
      " Philadelphia, USA.\n",
      "A detailed and scholarly justification of atheism.  Contains an outstanding\n",
      "appendix defining terminology and usage in this (necessarily) tendentious\n",
      "area.  Argues both for \"negative atheism\" (i.e. the \"non-belief in the\n",
      "existence of god(s)\") and also for \"positive atheism\" (\"the belief in the\n",
      "non-existence of god(s)\").  Includes great refutations of the most\n",
      "challenging arguments for god; particular attention is paid to refuting\n",
      "contempory theists such as Platinga and Swinburne.\n",
      "541 pages. ISBN 0-87722-642-3 (hardcover; paperback also available)\n",
      "\n",
      "\"The Case Against Christianity\", Temple University Press\n",
      "A comprehensive critique of Christianity, in which he considers\n",
      "the best contemporary defences of Christianity and (ultimately)\n",
      "demonstrates that they are unsupportable and/or incoherent.\n",
      "273 pages. ISBN 0-87722-767-5\n",
      "\n",
      "JAMES TURNER\n",
      "\n",
      "\"Without God, Without Creed\", The Johns Hopkins University Press, Baltimore,\n",
      " MD, USA\n",
      "Subtitled \"The Origins of Unbelief in America\".  Examines the way in which\n",
      "unbelief (whether agnostic or atheistic)  became a mainstream alternative\n",
      "world-view.  Focusses on the period 1770-1900, and while considering France\n",
      "and Britain the emphasis is on American, and particularly New England\n",
      "developments.  \"Neither a religious history of secularization or atheism,\n",
      "Without God, Without Creed is, rather, the intellectual history of the fate\n",
      "of a single idea, the belief that God exists.\" \n",
      "316 pages. ISBN (hardcover) 0-8018-2494-X (paper) 0-8018-3407-4\n",
      "\n",
      "GEORGE SELDES (Editor)\n",
      "\n",
      "\"The great thoughts\", Ballantine Books, New York, USA\n",
      "A \"dictionary of quotations\" of a different kind, concentrating on statements\n",
      "and writings which, explicitly or implicitly, present the person's philosophy\n",
      "and world-view.  Includes obscure (and often suppressed) opinions from many\n",
      "people.  For some popular observations, traces the way in which various\n",
      "people expressed and twisted the idea over the centuries.  Quite a number of\n",
      "the quotations are derived from Cardiff's \"What Great Men Think of Religion\"\n",
      "and Noyes' \"Views of Religion\".\n",
      "490 pages. ISBN (paper) 0-345-29887-X.\n",
      "\n",
      "RICHARD SWINBURNE\n",
      "\n",
      "\"The Existence of God (Revised Edition)\", Clarendon Paperbacks, Oxford\n",
      "This book is the second volume in a trilogy that began with \"The Coherence of\n",
      "Theism\" (1977) and was concluded with \"Faith and Reason\" (1981).  In this\n",
      "work, Swinburne attempts to construct a series of inductive arguments for the\n",
      "existence of God.  His arguments, which are somewhat tendentious and rely\n",
      "upon the imputation of late 20th century western Christian values and\n",
      "aesthetics to a God which is supposedly as simple as can be conceived, were\n",
      "decisively rejected in Mackie's \"The Miracle of Theism\".  In the revised\n",
      "edition of \"The Existence of God\", Swinburne includes an Appendix in which he\n",
      "makes a somewhat incoherent attempt to rebut Mackie.\n",
      "\n",
      "J. L. MACKIE\n",
      "\n",
      "\"The Miracle of Theism\", Oxford\n",
      "This (posthumous) volume contains a comprehensive review of the principal\n",
      "arguments for and against the existence of God.  It ranges from the classical\n",
      "philosophical positions of Descartes, Anselm, Berkeley, Hume et al, through\n",
      "the moral arguments of Newman, Kant and Sidgwick, to the recent restatements\n",
      "of the classical theses by Plantinga and Swinburne.  It also addresses those\n",
      "positions which push the concept of God beyond the realm of the rational,\n",
      "such as those of Kierkegaard, Kung and Philips, as well as \"replacements for\n",
      "God\" such as Lelie's axiarchism.  The book is a delight to read - less\n",
      "formalistic and better written than Martin's works, and refreshingly direct\n",
      "when compared with the hand-waving of Swinburne.\n",
      "\n",
      "JAMES A. HAUGHT\n",
      "\n",
      "\"Holy Horrors: An Illustrated History of Religious Murder and Madness\",\n",
      " Prometheus Books\n",
      "Looks at religious persecution from ancient times to the present day -- and\n",
      "not only by Christians.\n",
      "Library of Congress Catalog Card Number 89-64079. 1990.\n",
      "\n",
      "NORM R. ALLEN, JR.\n",
      "\n",
      "\"African American Humanism: an Anthology\"\n",
      "See the listing for African Americans for Humanism above.\n",
      "\n",
      "GORDON STEIN\n",
      "\n",
      "\"An Anthology of Atheism and Rationalism\", Prometheus Books\n",
      "An anthology covering a wide range of subjects, including 'The Devil, Evil\n",
      "and Morality' and 'The History of Freethought'.  Comprehensive bibliography.\n",
      "\n",
      "EDMUND D. COHEN\n",
      "\n",
      "\"The Mind of The Bible-Believer\", Prometheus Books\n",
      "A study of why people become Christian fundamentalists, and what effect it\n",
      "has on them.\n",
      "\n",
      "                                Net Resources\n",
      "\n",
      "There's a small mail-based archive server at mantis.co.uk which carries\n",
      "archives of old alt.atheism.moderated articles and assorted other files.  For\n",
      "more information, send mail to archive-server@mantis.co.uk saying\n",
      "\n",
      "   help\n",
      "   send atheism/index\n",
      "\n",
      "and it will mail back a reply.\n",
      "\n",
      "\n",
      "mathew\n"
     ]
    }
   ],
   "execution_count": 70
  },
  {
   "cell_type": "code",
   "id": "e4f5d876faa93e3d",
   "metadata": {
    "execution": {
     "iopub.execute_input": "2025-05-10T06:27:37.526843Z",
     "iopub.status.busy": "2025-05-10T06:27:37.526574Z",
     "iopub.status.idle": "2025-05-10T06:27:37.542613Z",
     "shell.execute_reply": "2025-05-10T06:27:37.541839Z",
     "shell.execute_reply.started": "2025-05-10T06:27:37.526821Z"
    },
    "id": "e4f5d876faa93e3d",
    "ExecuteTime": {
     "end_time": "2025-05-21T14:01:27.922390Z",
     "start_time": "2025-05-21T14:01:27.803392400Z"
    }
   },
   "source": [
    "news_content = data['content']\n",
    "news_labels = data['category']"
   ],
   "outputs": [],
   "execution_count": 71
  },
  {
   "cell_type": "markdown",
   "id": "138392ee44616b1c",
   "metadata": {
    "collapsed": false,
    "id": "138392ee44616b1c"
   },
   "source": [
    "# Preprocessing"
   ]
  },
  {
   "cell_type": "markdown",
   "id": "98a210947f23c1f5",
   "metadata": {
    "collapsed": false,
    "id": "98a210947f23c1f5"
   },
   "source": [
    "## Clean Raw Input Data\n",
    "\n",
    "To ensure our text data is ready for machine learning, we apply the following preprocessing steps:\n",
    "\n",
    "- **Expand Contractions**  \n",
    "  Convert common contractions to their full form for consistency.  \n",
    "  _Examples:_\n",
    "  - `\"don't\"` → `\"do not\"`  \n",
    "  - `\"it's\"` → `\"it is\"`\n",
    "\n",
    "- **Lowercase the Text**  \n",
    "  Normalize all text to lowercase to reduce vocabulary size and avoid case-sensitive duplicates.\n",
    "\n",
    "- **Remove Metadata**  \n",
    "  Strip away unnecessary headers, footers, and email signatures that do not contribute to the actual content.\n",
    "\n",
    "- **️Remove Numbers and Punctuation**  \n",
    "  These elements often add noise and are usually not meaningful in text classification tasks.\n",
    "\n",
    "- **Remove Extra Whitespace**  \n",
    "  Clean up unnecessary spaces, tabs, and newline characters to maintain uniformity in the text.\n"
   ]
  },
  {
   "cell_type": "code",
   "id": "f75dd1108964cb5f",
   "metadata": {
    "execution": {
     "iopub.execute_input": "2025-05-10T06:27:37.545848Z",
     "iopub.status.busy": "2025-05-10T06:27:37.545545Z",
     "iopub.status.idle": "2025-05-10T06:27:40.088847Z",
     "shell.execute_reply": "2025-05-10T06:27:40.087905Z",
     "shell.execute_reply.started": "2025-05-10T06:27:37.545828Z"
    },
    "id": "f75dd1108964cb5f",
    "ExecuteTime": {
     "end_time": "2025-05-21T14:01:32.332769800Z",
     "start_time": "2025-05-21T14:01:27.899155700Z"
    }
   },
   "source": [
    "news_content = news_content.apply(lambda x: contractions.fix(x)) # expand contractions\n",
    "news_content  = news_content.str.lower()"
   ],
   "outputs": [],
   "execution_count": 72
  },
  {
   "cell_type": "code",
   "id": "a7713c056f47bc43",
   "metadata": {
    "execution": {
     "iopub.execute_input": "2025-05-10T06:27:40.090102Z",
     "iopub.status.busy": "2025-05-10T06:27:40.089699Z",
     "iopub.status.idle": "2025-05-10T06:27:40.096305Z",
     "shell.execute_reply": "2025-05-10T06:27:40.095468Z",
     "shell.execute_reply.started": "2025-05-10T06:27:40.090073Z"
    },
    "id": "a7713c056f47bc43",
    "ExecuteTime": {
     "end_time": "2025-05-21T14:01:32.337990500Z",
     "start_time": "2025-05-21T14:01:32.267176Z"
    }
   },
   "source": [
    "def clean_article(text):\n",
    "    # Remove headers and footers (common email/news metadata)\n",
    "    text = re.sub(r\"(?s)^.*?Lines: \\d+\\s+\", \"\", text)\n",
    "    text = re.sub(r\"(?s)^.*?(?=Archive-name:)\", \"\", text)\n",
    "    text = re.sub(r\"(?s)^\\s*From:.*?\\n\", \"\", text)\n",
    "    text = re.sub(r\"(?s)^.*?Subject:.*?\\n\", \"\", text)\n",
    "    text = re.sub(r\"(?s)^.*?Path:.*?\\n\", \"\", text)\n",
    "    text = re.sub(r\"(?s)^.*?Newsgroups:.*?\\n\", \"\", text)\n",
    "    text = re.sub(r\"(?s)^.*?Message-ID:.*?\\n\", \"\", text)\n",
    "    text = re.sub(r\"(?s)^.*?Organization:.*?\\n\", \"\", text)\n",
    "\n",
    "    # Remove email signatures (e.g., lines starting with '--')\n",
    "    text = re.sub(r\"--\\s*\\n.*\", \"\", text, flags=re.DOTALL)\n",
    "\n",
    "    # Remove numbers and punctuation\n",
    "    text = re.sub(r\"[^a-zA-Z\\s]\", \" \", text)\n",
    "\n",
    "    # Remove extra whitespace (tabs, newlines, multiple spaces)\n",
    "    text = re.sub(r\"\\s+\", \" \", text).strip()\n",
    "\n",
    "    return text\n"
   ],
   "outputs": [],
   "execution_count": 73
  },
  {
   "cell_type": "code",
   "id": "53e11ecd082199e4",
   "metadata": {
    "execution": {
     "iopub.execute_input": "2025-05-10T06:27:40.098089Z",
     "iopub.status.busy": "2025-05-10T06:27:40.097342Z",
     "iopub.status.idle": "2025-05-10T06:27:48.813792Z",
     "shell.execute_reply": "2025-05-10T06:27:48.813126Z",
     "shell.execute_reply.started": "2025-05-10T06:27:40.098059Z"
    },
    "id": "53e11ecd082199e4",
    "ExecuteTime": {
     "end_time": "2025-05-21T14:01:43.756911700Z",
     "start_time": "2025-05-21T14:01:32.279457100Z"
    }
   },
   "source": [
    "news_content = news_content.apply(clean_article)"
   ],
   "outputs": [],
   "execution_count": 74
  },
  {
   "cell_type": "code",
   "id": "ea3eeb1612499517",
   "metadata": {
    "execution": {
     "iopub.execute_input": "2025-05-10T06:27:48.814933Z",
     "iopub.status.busy": "2025-05-10T06:27:48.814681Z",
     "iopub.status.idle": "2025-05-10T06:27:48.818580Z",
     "shell.execute_reply": "2025-05-10T06:27:48.817695Z",
     "shell.execute_reply.started": "2025-05-10T06:27:48.814915Z"
    },
    "id": "ea3eeb1612499517",
    "ExecuteTime": {
     "end_time": "2025-05-21T14:01:43.770518800Z",
     "start_time": "2025-05-21T14:01:43.763237900Z"
    }
   },
   "source": [
    "#news_content[0] # sample output to ensure cleaning was applied\n"
   ],
   "outputs": [],
   "execution_count": 75
  },
  {
   "cell_type": "markdown",
   "id": "492b108b",
   "metadata": {
    "id": "492b108b"
   },
   "source": [
    "## Tokenization and stopwords removal"
   ]
  },
  {
   "cell_type": "markdown",
   "id": "8e1ff580",
   "metadata": {
    "id": "8e1ff580"
   },
   "source": [
    "- **Tokenize Text**    \n",
    "  Break each cleaned text into individual words (tokens) using NLTK's word_tokenize. This enables more granular analysis and further NLP processing.\n",
    "  \n",
    "  _Examples:_\n",
    "  - `\"the quick brown fox\"` → `[\"the\", \"quick\", \"brown\", \"fox\"]`\n",
    "\n",
    "- **Remove Stopwords**\n",
    "  Eliminate common English stopwords (e.g., \"the\", \"is\", \"and\") using NLTK’s predefined list. These words typically carry less semantic meaning and can introduce noise in text classification tasks.\n",
    "\n",
    "  _Examples:_\n",
    "  - `[\"the\", \"quick\", \"brown\", \"fox\"]` → `[\"quick\", \"brown\", \"fox\"]`"
   ]
  },
  {
   "cell_type": "code",
   "id": "7970674a",
   "metadata": {
    "execution": {
     "iopub.execute_input": "2025-05-10T06:27:48.819767Z",
     "iopub.status.busy": "2025-05-10T06:27:48.819495Z",
     "iopub.status.idle": "2025-05-10T06:28:06.930170Z",
     "shell.execute_reply": "2025-05-10T06:28:06.929225Z",
     "shell.execute_reply.started": "2025-05-10T06:27:48.819743Z"
    },
    "id": "7970674a",
    "ExecuteTime": {
     "end_time": "2025-05-21T14:02:07.268139300Z",
     "start_time": "2025-05-21T14:01:43.769517600Z"
    }
   },
   "source": [
    "stop_words = set(stopwords.words('english'))\n",
    "\n",
    "def tokenize_and_remove_stopwords(text):\n",
    "    tokens = word_tokenize(text)\n",
    "    filtered_tokens = [word for word in tokens if word not in stop_words]\n",
    "    return filtered_tokens\n",
    "\n",
    "# Apply to the series\n",
    "news_tokens = news_content.apply(tokenize_and_remove_stopwords)\n"
   ],
   "outputs": [],
   "execution_count": 76
  },
  {
   "cell_type": "markdown",
   "id": "f800d62808b2069",
   "metadata": {},
   "source": [
    "## Lemmatization"
   ]
  },
  {
   "cell_type": "markdown",
   "id": "ee0e09a463a57f2b",
   "metadata": {},
   "source": [
    "Reduce inflected or variant word forms to their **dictionary headword** form.\n",
    "\n",
    "Examples:\n",
    "\n",
    "• am, are, is → be\n",
    "\n",
    "• car, cars, car's, cars’ → car"
   ]
  },
  {
   "cell_type": "code",
   "id": "967d6aac505722c7",
   "metadata": {
    "execution": {
     "iopub.execute_input": "2025-05-10T06:28:06.931589Z",
     "iopub.status.busy": "2025-05-10T06:28:06.931246Z",
     "iopub.status.idle": "2025-05-10T06:28:06.945064Z",
     "shell.execute_reply": "2025-05-10T06:28:06.943903Z",
     "shell.execute_reply.started": "2025-05-10T06:28:06.931560Z"
    },
    "ExecuteTime": {
     "end_time": "2025-05-21T14:02:07.277588200Z",
     "start_time": "2025-05-21T14:02:07.265788700Z"
    }
   },
   "source": [
    "print(news_tokens)"
   ],
   "outputs": [
    {
     "name": "stdout",
     "output_type": "stream",
     "text": [
      "0        [xref, cantaloupe, srv, cs, cmu, edu, alt, ath...\n",
      "1        [xref, cantaloupe, srv, cs, cmu, edu, alt, ath...\n",
      "2        [newsgroups, alt, atheism, path, cantaloupe, s...\n",
      "3        [xref, cantaloupe, srv, cs, cmu, edu, alt, ath...\n",
      "4        [xref, cantaloupe, srv, cs, cmu, edu, alt, ath...\n",
      "                               ...                        \n",
      "19992    [xref, cantaloupe, srv, cs, cmu, edu, alt, ath...\n",
      "19993    [xref, cantaloupe, srv, cs, cmu, edu, alt, ath...\n",
      "19994    [xref, cantaloupe, srv, cs, cmu, edu, talk, re...\n",
      "19995    [xref, cantaloupe, srv, cs, cmu, edu, talk, re...\n",
      "19996    [xref, cantaloupe, srv, cs, cmu, edu, talk, ab...\n",
      "Name: content, Length: 19997, dtype: object\n"
     ]
    }
   ],
   "execution_count": 77
  },
  {
   "cell_type": "code",
   "id": "b1a06fa919598140",
   "metadata": {
    "execution": {
     "iopub.execute_input": "2025-05-10T06:28:06.946339Z",
     "iopub.status.busy": "2025-05-10T06:28:06.946033Z",
     "iopub.status.idle": "2025-05-10T06:28:06.965635Z",
     "shell.execute_reply": "2025-05-10T06:28:06.964917Z",
     "shell.execute_reply.started": "2025-05-10T06:28:06.946312Z"
    },
    "ExecuteTime": {
     "end_time": "2025-05-21T14:02:07.299865100Z",
     "start_time": "2025-05-21T14:02:07.281672900Z"
    }
   },
   "source": [
    "# # Convert Series to DataFrame\n",
    "# df = news_tokens.to_frame(name = 'tokens')\n",
    "#\n",
    "# # POS tag conversion\n",
    "# def get_wordnet_pos(tag):\n",
    "#     if tag.startswith('J'):\n",
    "#         return wordnet.ADJ\n",
    "#     elif tag.startswith('V'):\n",
    "#         return wordnet.VERB\n",
    "#     elif tag.startswith('N'):\n",
    "#         return wordnet.NOUN\n",
    "#     elif tag.startswith('R'):\n",
    "#         return wordnet.ADV\n",
    "#     else:\n",
    "#         return wordnet.NOUN\n",
    "#\n",
    "# lemmatizer = WordNetLemmatizer()\n",
    "#\n",
    "# # Lemmatize one row of tokens\n",
    "# def lemmatize_tokens(tokens):\n",
    "#     tagged = pos_tag(tokens)\n",
    "#     return [lemmatizer.lemmatize(word, get_wordnet_pos(pos)) for word, pos in tagged]\n",
    "#\n",
    "# # Apply to all rows\n",
    "# df['lemmatized'] = df['tokens'].apply(lemmatize_tokens)\n",
    "#\n",
    "# # Show result\n",
    "# print(df[['tokens', 'lemmatized']])\n",
    "\n",
    "\n"
   ],
   "outputs": [],
   "execution_count": 78
  },
  {
   "cell_type": "code",
   "id": "3ec9218affadb407",
   "metadata": {
    "execution": {
     "iopub.execute_input": "2025-05-10T06:28:06.966672Z",
     "iopub.status.busy": "2025-05-10T06:28:06.966453Z",
     "iopub.status.idle": "2025-05-10T06:39:08.400265Z",
     "shell.execute_reply": "2025-05-10T06:39:08.399286Z",
     "shell.execute_reply.started": "2025-05-10T06:28:06.966654Z"
    },
    "ExecuteTime": {
     "end_time": "2025-05-21T14:18:54.840086400Z",
     "start_time": "2025-05-21T14:02:07.291751300Z"
    }
   },
   "source": [
    "# python -m spacy download en_core_web_sm  (use this command this)\n",
    "# Load spaCy model (only run once)\n",
    "nlp = spacy.load(\"en_core_web_sm\")\n",
    "\n",
    "# Convert Series to DataFrame\n",
    "df = news_tokens.to_frame(name = 'tokens')\n",
    "\n",
    "# Lemmatize using spaCy\n",
    "def spacy_lemmatize(tokens):\n",
    "    doc = nlp(\" \".join(tokens))\n",
    "    return [token.lemma_ for token in doc]\n",
    "\n",
    "df['lemmatized'] = df['tokens'].apply(spacy_lemmatize)\n",
    "print(df[['tokens', 'lemmatized']])"
   ],
   "outputs": [
    {
     "name": "stdout",
     "output_type": "stream",
     "text": [
      "                                                  tokens  \\\n",
      "0      [xref, cantaloupe, srv, cs, cmu, edu, alt, ath...   \n",
      "1      [xref, cantaloupe, srv, cs, cmu, edu, alt, ath...   \n",
      "2      [newsgroups, alt, atheism, path, cantaloupe, s...   \n",
      "3      [xref, cantaloupe, srv, cs, cmu, edu, alt, ath...   \n",
      "4      [xref, cantaloupe, srv, cs, cmu, edu, alt, ath...   \n",
      "...                                                  ...   \n",
      "19992  [xref, cantaloupe, srv, cs, cmu, edu, alt, ath...   \n",
      "19993  [xref, cantaloupe, srv, cs, cmu, edu, alt, ath...   \n",
      "19994  [xref, cantaloupe, srv, cs, cmu, edu, talk, re...   \n",
      "19995  [xref, cantaloupe, srv, cs, cmu, edu, talk, re...   \n",
      "19996  [xref, cantaloupe, srv, cs, cmu, edu, talk, ab...   \n",
      "\n",
      "                                              lemmatized  \n",
      "0      [xref, cantaloupe, srv, cs, cmu, edu, alt, ath...  \n",
      "1      [xref, cantaloupe, srv, cs, cmu, edu, alt, ath...  \n",
      "2      [newsgroup, alt, atheism, path, cantaloupe, sr...  \n",
      "3      [xref, cantaloupe, srv, cs, cmu, edu, alt, ath...  \n",
      "4      [xref, cantaloupe, srv, cs, cmu, edu, alt, ath...  \n",
      "...                                                  ...  \n",
      "19992  [xref, cantaloupe, srv, cs, cmu, edu, alt, ath...  \n",
      "19993  [xref, cantaloupe, srv, cs, cmu, edu, alt, ath...  \n",
      "19994  [xref, cantaloupe, srv, cs, cmu, edu, talk, re...  \n",
      "19995  [xref, cantaloupe, srv, cs, cmu, edu, talk, re...  \n",
      "19996  [xref, cantaloupe, srv, cs, cmu, edu, talk, ab...  \n",
      "\n",
      "[19997 rows x 2 columns]\n"
     ]
    }
   ],
   "execution_count": 79
  },
  {
   "cell_type": "code",
   "id": "20c9a78c27f92b6a",
   "metadata": {
    "execution": {
     "iopub.execute_input": "2025-05-10T06:39:08.401303Z",
     "iopub.status.busy": "2025-05-10T06:39:08.401080Z",
     "iopub.status.idle": "2025-05-10T06:39:08.405675Z",
     "shell.execute_reply": "2025-05-10T06:39:08.404750Z",
     "shell.execute_reply.started": "2025-05-10T06:39:08.401286Z"
    },
    "ExecuteTime": {
     "end_time": "2025-05-21T14:18:54.874359800Z",
     "start_time": "2025-05-21T14:18:54.841086400Z"
    }
   },
   "source": [
    "news_lemmas = df['lemmatized']"
   ],
   "outputs": [],
   "execution_count": 80
  },
  {
   "cell_type": "markdown",
   "id": "w95z3YprGG4O",
   "metadata": {
    "id": "w95z3YprGG4O"
   },
   "source": [
    "## TF–IDF Vectorization"
   ]
  },
  {
   "cell_type": "markdown",
   "id": "xkQXf2mtWoy1",
   "metadata": {
    "id": "xkQXf2mtWoy1"
   },
   "source": [
    "Transform raw text data into numerical features.TF–IDF captures the importance of words across documents by balancing their frequency within a document."
   ]
  },
  {
   "cell_type": "markdown",
   "id": "b3tjA9o8KFdu",
   "metadata": {
    "id": "b3tjA9o8KFdu"
   },
   "source": [
    " - Reconstruct Tokenized Text"
   ]
  },
  {
   "cell_type": "code",
   "id": "iDGoAiNLGi56",
   "metadata": {
    "execution": {
     "iopub.execute_input": "2025-05-10T06:39:08.406982Z",
     "iopub.status.busy": "2025-05-10T06:39:08.406660Z",
     "iopub.status.idle": "2025-05-10T06:39:08.534189Z",
     "shell.execute_reply": "2025-05-10T06:39:08.533311Z",
     "shell.execute_reply.started": "2025-05-10T06:39:08.406949Z"
    },
    "id": "iDGoAiNLGi56",
    "ExecuteTime": {
     "end_time": "2025-05-21T14:18:55.073841100Z",
     "start_time": "2025-05-21T14:18:54.851241600Z"
    }
   },
   "source": [
    "cleaned_text = news_lemmas.apply(lambda tokens: \" \".join(tokens))"
   ],
   "outputs": [],
   "execution_count": 81
  },
  {
   "cell_type": "markdown",
   "id": "A6LvsG68KMR9",
   "metadata": {
    "id": "A6LvsG68KMR9"
   },
   "source": [
    "- Initialize the vectorizer"
   ]
  },
  {
   "cell_type": "code",
   "id": "OHrPS4z9KbTE",
   "metadata": {
    "execution": {
     "iopub.execute_input": "2025-05-10T06:39:08.535392Z",
     "iopub.status.busy": "2025-05-10T06:39:08.535157Z",
     "iopub.status.idle": "2025-05-10T06:39:08.539603Z",
     "shell.execute_reply": "2025-05-10T06:39:08.538588Z",
     "shell.execute_reply.started": "2025-05-10T06:39:08.535373Z"
    },
    "id": "OHrPS4z9KbTE",
    "ExecuteTime": {
     "end_time": "2025-05-21T14:18:55.094296800Z",
     "start_time": "2025-05-21T14:18:55.066887400Z"
    }
   },
   "source": [
    "vectorizer = TfidfVectorizer(\n",
    "    # ignore very rare words\n",
    "    min_df=5,\n",
    "    # ignore very common words\n",
    "    max_df=0.8,\n",
    "    # include unigrams and bigrams -> Unigrams are capture the frequency of individual words,Bigrams capture the relationship between two consecutive words, which can be useful for understanding the context and meaning of words in a sentence.\n",
    "    ngram_range=(1,2),\n",
    ")\n",
    "\n"
   ],
   "outputs": [],
   "execution_count": 82
  },
  {
   "cell_type": "code",
   "id": "F9BJxnQNKgqh",
   "metadata": {
    "execution": {
     "iopub.execute_input": "2025-05-10T06:39:08.540926Z",
     "iopub.status.busy": "2025-05-10T06:39:08.540636Z",
     "iopub.status.idle": "2025-05-10T06:39:08.557371Z",
     "shell.execute_reply": "2025-05-10T06:39:08.556487Z",
     "shell.execute_reply.started": "2025-05-10T06:39:08.540902Z"
    },
    "id": "F9BJxnQNKgqh",
    "ExecuteTime": {
     "end_time": "2025-05-21T14:18:55.103865900Z",
     "start_time": "2025-05-21T14:18:55.074843600Z"
    }
   },
   "source": [
    "#vectorizer = TfidfVectorizer()"
   ],
   "outputs": [],
   "execution_count": 83
  },
  {
   "cell_type": "markdown",
   "id": "JpRi0YzsLK3-",
   "metadata": {
    "id": "JpRi0YzsLK3-"
   },
   "source": [
    "- transform into a TF–IDF matrix"
   ]
  },
  {
   "cell_type": "code",
   "id": "g6dZ4gF6KedV",
   "metadata": {
    "execution": {
     "iopub.execute_input": "2025-05-10T06:39:08.558443Z",
     "iopub.status.busy": "2025-05-10T06:39:08.558199Z",
     "iopub.status.idle": "2025-05-10T06:39:16.539951Z",
     "shell.execute_reply": "2025-05-10T06:39:16.539135Z",
     "shell.execute_reply.started": "2025-05-10T06:39:08.558423Z"
    },
    "id": "g6dZ4gF6KedV",
    "ExecuteTime": {
     "end_time": "2025-05-21T14:19:07.176991800Z",
     "start_time": "2025-05-21T14:18:55.085774700Z"
    }
   },
   "source": [
    "tfidf_matrix = vectorizer.fit_transform(cleaned_text)\n"
   ],
   "outputs": [],
   "execution_count": 84
  },
  {
   "cell_type": "code",
   "id": "-6rNW-xuLP_t",
   "metadata": {
    "colab": {
     "base_uri": "https://localhost:8080/"
    },
    "execution": {
     "iopub.execute_input": "2025-05-10T06:39:16.541183Z",
     "iopub.status.busy": "2025-05-10T06:39:16.540926Z",
     "iopub.status.idle": "2025-05-10T06:39:16.661898Z",
     "shell.execute_reply": "2025-05-10T06:39:16.660891Z",
     "shell.execute_reply.started": "2025-05-10T06:39:16.541163Z"
    },
    "id": "-6rNW-xuLP_t",
    "outputId": "61a45bfc-c9fc-483f-ae59-54cab0e3b144",
    "ExecuteTime": {
     "end_time": "2025-05-21T14:19:07.385427500Z",
     "start_time": "2025-05-21T14:19:07.181792400Z"
    }
   },
   "source": [
    "print(\"TF–IDF matrix shape:\", tfidf_matrix.shape)\n",
    "\n",
    "feature_names = vectorizer.get_feature_names_out()"
   ],
   "outputs": [
    {
     "name": "stdout",
     "output_type": "stream",
     "text": [
      "TF–IDF matrix shape: (19997, 115605)\n"
     ]
    }
   ],
   "execution_count": 85
  },
  {
   "cell_type": "code",
   "id": "92949565ee586e18",
   "metadata": {
    "execution": {
     "iopub.execute_input": "2025-05-10T06:39:16.663060Z",
     "iopub.status.busy": "2025-05-10T06:39:16.662812Z",
     "iopub.status.idle": "2025-05-10T06:39:16.687094Z",
     "shell.execute_reply": "2025-05-10T06:39:16.686205Z",
     "shell.execute_reply.started": "2025-05-10T06:39:16.663041Z"
    },
    "ExecuteTime": {
     "end_time": "2025-05-21T14:19:07.526200800Z",
     "start_time": "2025-05-21T14:19:07.383428Z"
    }
   },
   "source": [
    "# Assuming you have the vectorizer object\n",
    "\n",
    "# Get top 10 important words in this document\n",
    "sorted_indices = tfidf_matrix[0][0].toarray().argsort()[0][-10:][::-1]\n",
    "top_words = [(feature_names[i], tfidf_matrix[0][0][0,i]) for i in sorted_indices]\n",
    "\n",
    "print(\"Top words in this document:\")\n",
    "for word, score in top_words:\n",
    "    print(f\"{word}: {score:.4f}\")"
   ],
   "outputs": [
    {
     "name": "stdout",
     "output_type": "stream",
     "text": [
      "Top words in this document:\n",
      "atheism: 0.2886\n",
      "fish: 0.2642\n",
      "mantis: 0.2225\n",
      "alt atheism: 0.2031\n",
      "alt: 0.1971\n",
      "resource: 0.1613\n",
      "news answer: 0.1541\n",
      "atheist: 0.1526\n",
      "answer: 0.1474\n",
      "evolution: 0.1398\n"
     ]
    }
   ],
   "execution_count": 86
  },
  {
   "cell_type": "markdown",
   "id": "NYvmn0ysXr5G",
   "metadata": {
    "id": "NYvmn0ysXr5G"
   },
   "source": [
    "## Word Embedding using Word2Vec"
   ]
  },
  {
   "cell_type": "markdown",
   "id": "GK1bJSPgYVl2",
   "metadata": {
    "id": "GK1bJSPgYVl2"
   },
   "source": [
    "Convert words into dense, continuous-valued vectors that capture semantic relationships. Unlike TF–IDF, which treats each term independently, Word2Vec learns word representations so that words appearing in similar contexts end up with similar vectors."
   ]
  },
  {
   "cell_type": "markdown",
   "id": "7vnjEfGcZn-D",
   "metadata": {
    "id": "7vnjEfGcZn-D"
   },
   "source": [
    "How it works: Word2Vec slides a window over each token list and learns to predict a target word from its neighbors (or vice versa)."
   ]
  },
  {
   "cell_type": "code",
   "id": "ucNS7WCUXyG2",
   "metadata": {
    "execution": {
     "iopub.execute_input": "2025-05-10T06:39:16.688179Z",
     "iopub.status.busy": "2025-05-10T06:39:16.687934Z",
     "iopub.status.idle": "2025-05-10T06:39:16.695543Z",
     "shell.execute_reply": "2025-05-10T06:39:16.694827Z",
     "shell.execute_reply.started": "2025-05-10T06:39:16.688161Z"
    },
    "id": "ucNS7WCUXyG2",
    "ExecuteTime": {
     "end_time": "2025-05-21T14:19:07.560058900Z",
     "start_time": "2025-05-21T14:19:07.415078900Z"
    }
   },
   "source": [
    "# # 7. Train Word2Vec model\n",
    "# w2v_model = Word2Vec(\n",
    "#     sentences=news_tokens,\n",
    "#     vector_size=100,  # dimensionality\n",
    "#     window=5,\n",
    "#     min_count=5,      # ignore words with freq < 5\n",
    "#     workers=4,        # Number of CPU cores used\n",
    "#     seed=42\n",
    "# )\n",
    "# w2v_model.save(\"word2vec.model\")"
   ],
   "outputs": [],
   "execution_count": 87
  },
  {
   "cell_type": "markdown",
   "id": "eS9rP89_X5yo",
   "metadata": {
    "id": "eS9rP89_X5yo"
   },
   "source": [
    "-  Build document embeddings by averaging word vectors"
   ]
  },
  {
   "cell_type": "code",
   "id": "1YstSjCOX6k6",
   "metadata": {
    "execution": {
     "iopub.execute_input": "2025-05-10T06:39:16.696623Z",
     "iopub.status.busy": "2025-05-10T06:39:16.696394Z",
     "iopub.status.idle": "2025-05-10T06:39:16.710954Z",
     "shell.execute_reply": "2025-05-10T06:39:16.710136Z",
     "shell.execute_reply.started": "2025-05-10T06:39:16.696606Z"
    },
    "id": "1YstSjCOX6k6",
    "ExecuteTime": {
     "end_time": "2025-05-21T14:19:07.598869200Z",
     "start_time": "2025-05-21T14:19:07.424137500Z"
    }
   },
   "source": [
    "# def document_vector(tokens):\n",
    "#     vecs = [w2v_model.wv[word] for word in tokens if word in w2v_model.wv]\n",
    "#     if not vecs:\n",
    "#         return np.zeros(w2v_model.vector_size)\n",
    "#     return np.mean(vecs, axis=0)"
   ],
   "outputs": [],
   "execution_count": 88
  },
  {
   "cell_type": "code",
   "id": "5AxVows9YCn8",
   "metadata": {
    "execution": {
     "iopub.execute_input": "2025-05-10T06:39:16.712529Z",
     "iopub.status.busy": "2025-05-10T06:39:16.711882Z",
     "iopub.status.idle": "2025-05-10T06:39:16.725596Z",
     "shell.execute_reply": "2025-05-10T06:39:16.724743Z",
     "shell.execute_reply.started": "2025-05-10T06:39:16.712503Z"
    },
    "id": "5AxVows9YCn8",
    "ExecuteTime": {
     "end_time": "2025-05-21T14:19:07.620098700Z",
     "start_time": "2025-05-21T14:19:07.435192300Z"
    }
   },
   "source": [
    "# import numpy as np\n",
    "\n",
    "# embeddings = np.vstack(news_tokens.apply(document_vector).values)\n",
    "# df_embeddings = pd.DataFrame(\n",
    "#     embeddings,\n",
    "#     columns=[f\"dim_{i}\" for i in range(w2v_model.vector_size)]\n",
    "# )"
   ],
   "outputs": [],
   "execution_count": 89
  },
  {
   "cell_type": "code",
   "id": "Q9GfB4RLYET6",
   "metadata": {
    "colab": {
     "base_uri": "https://localhost:8080/"
    },
    "execution": {
     "iopub.execute_input": "2025-05-10T06:39:16.730315Z",
     "iopub.status.busy": "2025-05-10T06:39:16.729801Z",
     "iopub.status.idle": "2025-05-10T06:39:16.738536Z",
     "shell.execute_reply": "2025-05-10T06:39:16.737764Z",
     "shell.execute_reply.started": "2025-05-10T06:39:16.730289Z"
    },
    "id": "Q9GfB4RLYET6",
    "outputId": "2acbf45a-ceb9-4274-aaf6-2a6eba22e552",
    "ExecuteTime": {
     "end_time": "2025-05-21T14:19:07.624099900Z",
     "start_time": "2025-05-21T14:19:07.446381100Z"
    }
   },
   "source": [
    "# df_embeddings.to_parquet('doc_embeddings.parquet', engine='pyarrow')\n",
    "# print(\"Document embeddings saved; shape:\", df_embeddings.shape)"
   ],
   "outputs": [],
   "execution_count": 90
  },
  {
   "cell_type": "markdown",
   "id": "cFc7z9RaQb3k",
   "metadata": {
    "id": "cFc7z9RaQb3k"
   },
   "source": [
    "## Train-Validation-Test split\n"
   ]
  },
  {
   "cell_type": "markdown",
   "id": "z-mFFAoqW9CS",
   "metadata": {
    "id": "z-mFFAoqW9CS"
   },
   "source": [
    "Split the dataset into three subsets to enable effective model training, validation, and testing. This ensures unbiased evaluation and prevents overfitting."
   ]
  },
  {
   "cell_type": "markdown",
   "id": "rH4wJXYVQyrg",
   "metadata": {
    "id": "rH4wJXYVQyrg"
   },
   "source": [
    " -  Split off test (20%)"
   ]
  },
  {
   "cell_type": "code",
   "id": "x9Nv8hGVQn01",
   "metadata": {
    "execution": {
     "iopub.execute_input": "2025-05-10T06:39:16.739583Z",
     "iopub.status.busy": "2025-05-10T06:39:16.739355Z",
     "iopub.status.idle": "2025-05-10T06:39:16.787255Z",
     "shell.execute_reply": "2025-05-10T06:39:16.786407Z",
     "shell.execute_reply.started": "2025-05-10T06:39:16.739565Z"
    },
    "id": "x9Nv8hGVQn01",
    "ExecuteTime": {
     "end_time": "2025-05-21T14:19:07.850688600Z",
     "start_time": "2025-05-21T14:19:07.455128Z"
    }
   },
   "source": [
    "X_temp, X_test, y_temp, y_test = train_test_split(\n",
    "    tfidf_matrix,\n",
    "    news_labels,\n",
    "    test_size=0.20,       # 20% → test set\n",
    "    random_state=42,\n",
    "    stratify=news_labels\n",
    ")"
   ],
   "outputs": [],
   "execution_count": 91
  },
  {
   "cell_type": "markdown",
   "id": "5-9Ad1RgQ0sb",
   "metadata": {
    "id": "5-9Ad1RgQ0sb"
   },
   "source": [
    "- Split the remaining 80% into train (60%) and validation (20%)"
   ]
  },
  {
   "cell_type": "code",
   "id": "CXFcfe8yQtK8",
   "metadata": {
    "execution": {
     "iopub.execute_input": "2025-05-10T06:39:16.788798Z",
     "iopub.status.busy": "2025-05-10T06:39:16.788211Z",
     "iopub.status.idle": "2025-05-10T06:39:16.827769Z",
     "shell.execute_reply": "2025-05-10T06:39:16.826925Z",
     "shell.execute_reply.started": "2025-05-10T06:39:16.788771Z"
    },
    "id": "CXFcfe8yQtK8",
    "ExecuteTime": {
     "end_time": "2025-05-21T14:19:07.984711900Z",
     "start_time": "2025-05-21T14:19:07.515678200Z"
    }
   },
   "source": [
    "X_train, X_val, y_train, y_val = train_test_split(\n",
    "    X_temp,\n",
    "    y_temp,\n",
    "    test_size=0.25,       # 25% of 80% = 20% overall for validation\n",
    "    random_state=42,\n",
    "    stratify=y_temp\n",
    ")"
   ],
   "outputs": [],
   "execution_count": 92
  },
  {
   "cell_type": "code",
   "id": "Jy2pZanMQ7tK",
   "metadata": {
    "colab": {
     "base_uri": "https://localhost:8080/"
    },
    "execution": {
     "iopub.execute_input": "2025-05-10T06:39:16.829079Z",
     "iopub.status.busy": "2025-05-10T06:39:16.828763Z",
     "iopub.status.idle": "2025-05-10T06:39:16.833863Z",
     "shell.execute_reply": "2025-05-10T06:39:16.833109Z",
     "shell.execute_reply.started": "2025-05-10T06:39:16.829055Z"
    },
    "id": "Jy2pZanMQ7tK",
    "outputId": "e739bca2-1179-499f-ed5a-5e3019091b2c",
    "ExecuteTime": {
     "end_time": "2025-05-21T14:19:08.021824600Z",
     "start_time": "2025-05-21T14:19:07.578396100Z"
    }
   },
   "source": [
    "print(f\"Train  → X_train: {X_train.shape},  y_train: {y_train.shape}\")\n",
    "print(f\"Val    → X_val:   {X_val.shape},    y_val:   {y_val.shape}\")\n",
    "print(f\"Test   → X_test:  {X_test.shape},   y_test:  {y_test.shape}\")"
   ],
   "outputs": [
    {
     "name": "stdout",
     "output_type": "stream",
     "text": [
      "Train  → X_train: (11997, 115605),  y_train: (11997,)\n",
      "Val    → X_val:   (4000, 115605),    y_val:   (4000,)\n",
      "Test   → X_test:  (4000, 115605),   y_test:  (4000,)\n"
     ]
    }
   ],
   "execution_count": 93
  },
  {
   "cell_type": "markdown",
   "id": "120dffbe",
   "metadata": {},
   "source": [
    "# Modeling\n"
   ]
  },
  {
   "metadata": {
    "ExecuteTime": {
     "end_time": "2025-05-21T14:19:08.023811100Z",
     "start_time": "2025-05-21T14:19:07.586559800Z"
    }
   },
   "cell_type": "code",
   "source": [
    "models = {}"
   ],
   "id": "90d4c30ea4aa0a0c",
   "outputs": [],
   "execution_count": 94
  },
  {
   "cell_type": "markdown",
   "id": "8d4b3c10",
   "metadata": {},
   "source": [
    "## Naive Bayes"
   ]
  },
  {
   "cell_type": "markdown",
   "id": "9d5b8224",
   "metadata": {},
   "source": [
    "* GridSearch on the best hyperparameter values"
   ]
  },
  {
   "cell_type": "code",
   "id": "1f3c7df9",
   "metadata": {
    "execution": {
     "iopub.execute_input": "2025-05-10T06:39:16.834923Z",
     "iopub.status.busy": "2025-05-10T06:39:16.834676Z",
     "iopub.status.idle": "2025-05-10T06:39:26.261287Z",
     "shell.execute_reply": "2025-05-10T06:39:26.260548Z",
     "shell.execute_reply.started": "2025-05-10T06:39:16.834906Z"
    },
    "ExecuteTime": {
     "end_time": "2025-05-21T14:19:16.371517800Z",
     "start_time": "2025-05-21T14:19:07.596343600Z"
    }
   },
   "source": [
    "hyper_parameters_naive = {\n",
    "    'alpha': [0.01, 0.1, 0.5, 1.0],\n",
    "    'fit_prior': [True, False]\n",
    "}\n",
    "\n",
    "naive_model = GridSearchCV(MultinomialNB(), hyper_parameters_naive, cv=5, scoring='accuracy')\n",
    "naive_model.fit(X_train, y_train)\n"
   ],
   "outputs": [
    {
     "data": {
      "text/plain": "GridSearchCV(cv=5, estimator=MultinomialNB(),\n             param_grid={'alpha': [0.01, 0.1, 0.5, 1.0],\n                         'fit_prior': [True, False]},\n             scoring='accuracy')",
      "text/html": "<style>#sk-container-id-1 {\n  /* Definition of color scheme common for light and dark mode */\n  --sklearn-color-text: #000;\n  --sklearn-color-text-muted: #666;\n  --sklearn-color-line: gray;\n  /* Definition of color scheme for unfitted estimators */\n  --sklearn-color-unfitted-level-0: #fff5e6;\n  --sklearn-color-unfitted-level-1: #f6e4d2;\n  --sklearn-color-unfitted-level-2: #ffe0b3;\n  --sklearn-color-unfitted-level-3: chocolate;\n  /* Definition of color scheme for fitted estimators */\n  --sklearn-color-fitted-level-0: #f0f8ff;\n  --sklearn-color-fitted-level-1: #d4ebff;\n  --sklearn-color-fitted-level-2: #b3dbfd;\n  --sklearn-color-fitted-level-3: cornflowerblue;\n\n  /* Specific color for light theme */\n  --sklearn-color-text-on-default-background: var(--sg-text-color, var(--theme-code-foreground, var(--jp-content-font-color1, black)));\n  --sklearn-color-background: var(--sg-background-color, var(--theme-background, var(--jp-layout-color0, white)));\n  --sklearn-color-border-box: var(--sg-text-color, var(--theme-code-foreground, var(--jp-content-font-color1, black)));\n  --sklearn-color-icon: #696969;\n\n  @media (prefers-color-scheme: dark) {\n    /* Redefinition of color scheme for dark theme */\n    --sklearn-color-text-on-default-background: var(--sg-text-color, var(--theme-code-foreground, var(--jp-content-font-color1, white)));\n    --sklearn-color-background: var(--sg-background-color, var(--theme-background, var(--jp-layout-color0, #111)));\n    --sklearn-color-border-box: var(--sg-text-color, var(--theme-code-foreground, var(--jp-content-font-color1, white)));\n    --sklearn-color-icon: #878787;\n  }\n}\n\n#sk-container-id-1 {\n  color: var(--sklearn-color-text);\n}\n\n#sk-container-id-1 pre {\n  padding: 0;\n}\n\n#sk-container-id-1 input.sk-hidden--visually {\n  border: 0;\n  clip: rect(1px 1px 1px 1px);\n  clip: rect(1px, 1px, 1px, 1px);\n  height: 1px;\n  margin: -1px;\n  overflow: hidden;\n  padding: 0;\n  position: absolute;\n  width: 1px;\n}\n\n#sk-container-id-1 div.sk-dashed-wrapped {\n  border: 1px dashed var(--sklearn-color-line);\n  margin: 0 0.4em 0.5em 0.4em;\n  box-sizing: border-box;\n  padding-bottom: 0.4em;\n  background-color: var(--sklearn-color-background);\n}\n\n#sk-container-id-1 div.sk-container {\n  /* jupyter's `normalize.less` sets `[hidden] { display: none; }`\n     but bootstrap.min.css set `[hidden] { display: none !important; }`\n     so we also need the `!important` here to be able to override the\n     default hidden behavior on the sphinx rendered scikit-learn.org.\n     See: https://github.com/scikit-learn/scikit-learn/issues/21755 */\n  display: inline-block !important;\n  position: relative;\n}\n\n#sk-container-id-1 div.sk-text-repr-fallback {\n  display: none;\n}\n\ndiv.sk-parallel-item,\ndiv.sk-serial,\ndiv.sk-item {\n  /* draw centered vertical line to link estimators */\n  background-image: linear-gradient(var(--sklearn-color-text-on-default-background), var(--sklearn-color-text-on-default-background));\n  background-size: 2px 100%;\n  background-repeat: no-repeat;\n  background-position: center center;\n}\n\n/* Parallel-specific style estimator block */\n\n#sk-container-id-1 div.sk-parallel-item::after {\n  content: \"\";\n  width: 100%;\n  border-bottom: 2px solid var(--sklearn-color-text-on-default-background);\n  flex-grow: 1;\n}\n\n#sk-container-id-1 div.sk-parallel {\n  display: flex;\n  align-items: stretch;\n  justify-content: center;\n  background-color: var(--sklearn-color-background);\n  position: relative;\n}\n\n#sk-container-id-1 div.sk-parallel-item {\n  display: flex;\n  flex-direction: column;\n}\n\n#sk-container-id-1 div.sk-parallel-item:first-child::after {\n  align-self: flex-end;\n  width: 50%;\n}\n\n#sk-container-id-1 div.sk-parallel-item:last-child::after {\n  align-self: flex-start;\n  width: 50%;\n}\n\n#sk-container-id-1 div.sk-parallel-item:only-child::after {\n  width: 0;\n}\n\n/* Serial-specific style estimator block */\n\n#sk-container-id-1 div.sk-serial {\n  display: flex;\n  flex-direction: column;\n  align-items: center;\n  background-color: var(--sklearn-color-background);\n  padding-right: 1em;\n  padding-left: 1em;\n}\n\n\n/* Toggleable style: style used for estimator/Pipeline/ColumnTransformer box that is\nclickable and can be expanded/collapsed.\n- Pipeline and ColumnTransformer use this feature and define the default style\n- Estimators will overwrite some part of the style using the `sk-estimator` class\n*/\n\n/* Pipeline and ColumnTransformer style (default) */\n\n#sk-container-id-1 div.sk-toggleable {\n  /* Default theme specific background. It is overwritten whether we have a\n  specific estimator or a Pipeline/ColumnTransformer */\n  background-color: var(--sklearn-color-background);\n}\n\n/* Toggleable label */\n#sk-container-id-1 label.sk-toggleable__label {\n  cursor: pointer;\n  display: flex;\n  width: 100%;\n  margin-bottom: 0;\n  padding: 0.5em;\n  box-sizing: border-box;\n  text-align: center;\n  align-items: start;\n  justify-content: space-between;\n  gap: 0.5em;\n}\n\n#sk-container-id-1 label.sk-toggleable__label .caption {\n  font-size: 0.6rem;\n  font-weight: lighter;\n  color: var(--sklearn-color-text-muted);\n}\n\n#sk-container-id-1 label.sk-toggleable__label-arrow:before {\n  /* Arrow on the left of the label */\n  content: \"▸\";\n  float: left;\n  margin-right: 0.25em;\n  color: var(--sklearn-color-icon);\n}\n\n#sk-container-id-1 label.sk-toggleable__label-arrow:hover:before {\n  color: var(--sklearn-color-text);\n}\n\n/* Toggleable content - dropdown */\n\n#sk-container-id-1 div.sk-toggleable__content {\n  max-height: 0;\n  max-width: 0;\n  overflow: hidden;\n  text-align: left;\n  /* unfitted */\n  background-color: var(--sklearn-color-unfitted-level-0);\n}\n\n#sk-container-id-1 div.sk-toggleable__content.fitted {\n  /* fitted */\n  background-color: var(--sklearn-color-fitted-level-0);\n}\n\n#sk-container-id-1 div.sk-toggleable__content pre {\n  margin: 0.2em;\n  border-radius: 0.25em;\n  color: var(--sklearn-color-text);\n  /* unfitted */\n  background-color: var(--sklearn-color-unfitted-level-0);\n}\n\n#sk-container-id-1 div.sk-toggleable__content.fitted pre {\n  /* unfitted */\n  background-color: var(--sklearn-color-fitted-level-0);\n}\n\n#sk-container-id-1 input.sk-toggleable__control:checked~div.sk-toggleable__content {\n  /* Expand drop-down */\n  max-height: 200px;\n  max-width: 100%;\n  overflow: auto;\n}\n\n#sk-container-id-1 input.sk-toggleable__control:checked~label.sk-toggleable__label-arrow:before {\n  content: \"▾\";\n}\n\n/* Pipeline/ColumnTransformer-specific style */\n\n#sk-container-id-1 div.sk-label input.sk-toggleable__control:checked~label.sk-toggleable__label {\n  color: var(--sklearn-color-text);\n  background-color: var(--sklearn-color-unfitted-level-2);\n}\n\n#sk-container-id-1 div.sk-label.fitted input.sk-toggleable__control:checked~label.sk-toggleable__label {\n  background-color: var(--sklearn-color-fitted-level-2);\n}\n\n/* Estimator-specific style */\n\n/* Colorize estimator box */\n#sk-container-id-1 div.sk-estimator input.sk-toggleable__control:checked~label.sk-toggleable__label {\n  /* unfitted */\n  background-color: var(--sklearn-color-unfitted-level-2);\n}\n\n#sk-container-id-1 div.sk-estimator.fitted input.sk-toggleable__control:checked~label.sk-toggleable__label {\n  /* fitted */\n  background-color: var(--sklearn-color-fitted-level-2);\n}\n\n#sk-container-id-1 div.sk-label label.sk-toggleable__label,\n#sk-container-id-1 div.sk-label label {\n  /* The background is the default theme color */\n  color: var(--sklearn-color-text-on-default-background);\n}\n\n/* On hover, darken the color of the background */\n#sk-container-id-1 div.sk-label:hover label.sk-toggleable__label {\n  color: var(--sklearn-color-text);\n  background-color: var(--sklearn-color-unfitted-level-2);\n}\n\n/* Label box, darken color on hover, fitted */\n#sk-container-id-1 div.sk-label.fitted:hover label.sk-toggleable__label.fitted {\n  color: var(--sklearn-color-text);\n  background-color: var(--sklearn-color-fitted-level-2);\n}\n\n/* Estimator label */\n\n#sk-container-id-1 div.sk-label label {\n  font-family: monospace;\n  font-weight: bold;\n  display: inline-block;\n  line-height: 1.2em;\n}\n\n#sk-container-id-1 div.sk-label-container {\n  text-align: center;\n}\n\n/* Estimator-specific */\n#sk-container-id-1 div.sk-estimator {\n  font-family: monospace;\n  border: 1px dotted var(--sklearn-color-border-box);\n  border-radius: 0.25em;\n  box-sizing: border-box;\n  margin-bottom: 0.5em;\n  /* unfitted */\n  background-color: var(--sklearn-color-unfitted-level-0);\n}\n\n#sk-container-id-1 div.sk-estimator.fitted {\n  /* fitted */\n  background-color: var(--sklearn-color-fitted-level-0);\n}\n\n/* on hover */\n#sk-container-id-1 div.sk-estimator:hover {\n  /* unfitted */\n  background-color: var(--sklearn-color-unfitted-level-2);\n}\n\n#sk-container-id-1 div.sk-estimator.fitted:hover {\n  /* fitted */\n  background-color: var(--sklearn-color-fitted-level-2);\n}\n\n/* Specification for estimator info (e.g. \"i\" and \"?\") */\n\n/* Common style for \"i\" and \"?\" */\n\n.sk-estimator-doc-link,\na:link.sk-estimator-doc-link,\na:visited.sk-estimator-doc-link {\n  float: right;\n  font-size: smaller;\n  line-height: 1em;\n  font-family: monospace;\n  background-color: var(--sklearn-color-background);\n  border-radius: 1em;\n  height: 1em;\n  width: 1em;\n  text-decoration: none !important;\n  margin-left: 0.5em;\n  text-align: center;\n  /* unfitted */\n  border: var(--sklearn-color-unfitted-level-1) 1pt solid;\n  color: var(--sklearn-color-unfitted-level-1);\n}\n\n.sk-estimator-doc-link.fitted,\na:link.sk-estimator-doc-link.fitted,\na:visited.sk-estimator-doc-link.fitted {\n  /* fitted */\n  border: var(--sklearn-color-fitted-level-1) 1pt solid;\n  color: var(--sklearn-color-fitted-level-1);\n}\n\n/* On hover */\ndiv.sk-estimator:hover .sk-estimator-doc-link:hover,\n.sk-estimator-doc-link:hover,\ndiv.sk-label-container:hover .sk-estimator-doc-link:hover,\n.sk-estimator-doc-link:hover {\n  /* unfitted */\n  background-color: var(--sklearn-color-unfitted-level-3);\n  color: var(--sklearn-color-background);\n  text-decoration: none;\n}\n\ndiv.sk-estimator.fitted:hover .sk-estimator-doc-link.fitted:hover,\n.sk-estimator-doc-link.fitted:hover,\ndiv.sk-label-container:hover .sk-estimator-doc-link.fitted:hover,\n.sk-estimator-doc-link.fitted:hover {\n  /* fitted */\n  background-color: var(--sklearn-color-fitted-level-3);\n  color: var(--sklearn-color-background);\n  text-decoration: none;\n}\n\n/* Span, style for the box shown on hovering the info icon */\n.sk-estimator-doc-link span {\n  display: none;\n  z-index: 9999;\n  position: relative;\n  font-weight: normal;\n  right: .2ex;\n  padding: .5ex;\n  margin: .5ex;\n  width: min-content;\n  min-width: 20ex;\n  max-width: 50ex;\n  color: var(--sklearn-color-text);\n  box-shadow: 2pt 2pt 4pt #999;\n  /* unfitted */\n  background: var(--sklearn-color-unfitted-level-0);\n  border: .5pt solid var(--sklearn-color-unfitted-level-3);\n}\n\n.sk-estimator-doc-link.fitted span {\n  /* fitted */\n  background: var(--sklearn-color-fitted-level-0);\n  border: var(--sklearn-color-fitted-level-3);\n}\n\n.sk-estimator-doc-link:hover span {\n  display: block;\n}\n\n/* \"?\"-specific style due to the `<a>` HTML tag */\n\n#sk-container-id-1 a.estimator_doc_link {\n  float: right;\n  font-size: 1rem;\n  line-height: 1em;\n  font-family: monospace;\n  background-color: var(--sklearn-color-background);\n  border-radius: 1rem;\n  height: 1rem;\n  width: 1rem;\n  text-decoration: none;\n  /* unfitted */\n  color: var(--sklearn-color-unfitted-level-1);\n  border: var(--sklearn-color-unfitted-level-1) 1pt solid;\n}\n\n#sk-container-id-1 a.estimator_doc_link.fitted {\n  /* fitted */\n  border: var(--sklearn-color-fitted-level-1) 1pt solid;\n  color: var(--sklearn-color-fitted-level-1);\n}\n\n/* On hover */\n#sk-container-id-1 a.estimator_doc_link:hover {\n  /* unfitted */\n  background-color: var(--sklearn-color-unfitted-level-3);\n  color: var(--sklearn-color-background);\n  text-decoration: none;\n}\n\n#sk-container-id-1 a.estimator_doc_link.fitted:hover {\n  /* fitted */\n  background-color: var(--sklearn-color-fitted-level-3);\n}\n</style><div id=\"sk-container-id-1\" class=\"sk-top-container\"><div class=\"sk-text-repr-fallback\"><pre>GridSearchCV(cv=5, estimator=MultinomialNB(),\n             param_grid={&#x27;alpha&#x27;: [0.01, 0.1, 0.5, 1.0],\n                         &#x27;fit_prior&#x27;: [True, False]},\n             scoring=&#x27;accuracy&#x27;)</pre><b>In a Jupyter environment, please rerun this cell to show the HTML representation or trust the notebook. <br />On GitHub, the HTML representation is unable to render, please try loading this page with nbviewer.org.</b></div><div class=\"sk-container\" hidden><div class=\"sk-item sk-dashed-wrapped\"><div class=\"sk-label-container\"><div class=\"sk-label fitted sk-toggleable\"><input class=\"sk-toggleable__control sk-hidden--visually\" id=\"sk-estimator-id-1\" type=\"checkbox\" ><label for=\"sk-estimator-id-1\" class=\"sk-toggleable__label fitted sk-toggleable__label-arrow\"><div><div>GridSearchCV</div></div><div><a class=\"sk-estimator-doc-link fitted\" rel=\"noreferrer\" target=\"_blank\" href=\"https://scikit-learn.org/1.6/modules/generated/sklearn.model_selection.GridSearchCV.html\">?<span>Documentation for GridSearchCV</span></a><span class=\"sk-estimator-doc-link fitted\">i<span>Fitted</span></span></div></label><div class=\"sk-toggleable__content fitted\"><pre>GridSearchCV(cv=5, estimator=MultinomialNB(),\n             param_grid={&#x27;alpha&#x27;: [0.01, 0.1, 0.5, 1.0],\n                         &#x27;fit_prior&#x27;: [True, False]},\n             scoring=&#x27;accuracy&#x27;)</pre></div> </div></div><div class=\"sk-parallel\"><div class=\"sk-parallel-item\"><div class=\"sk-item\"><div class=\"sk-label-container\"><div class=\"sk-label fitted sk-toggleable\"><input class=\"sk-toggleable__control sk-hidden--visually\" id=\"sk-estimator-id-2\" type=\"checkbox\" ><label for=\"sk-estimator-id-2\" class=\"sk-toggleable__label fitted sk-toggleable__label-arrow\"><div><div>best_estimator_: MultinomialNB</div></div></label><div class=\"sk-toggleable__content fitted\"><pre>MultinomialNB()</pre></div> </div></div><div class=\"sk-serial\"><div class=\"sk-item\"><div class=\"sk-estimator fitted sk-toggleable\"><input class=\"sk-toggleable__control sk-hidden--visually\" id=\"sk-estimator-id-3\" type=\"checkbox\" ><label for=\"sk-estimator-id-3\" class=\"sk-toggleable__label fitted sk-toggleable__label-arrow\"><div><div>MultinomialNB</div></div><div><a class=\"sk-estimator-doc-link fitted\" rel=\"noreferrer\" target=\"_blank\" href=\"https://scikit-learn.org/1.6/modules/generated/sklearn.naive_bayes.MultinomialNB.html\">?<span>Documentation for MultinomialNB</span></a></div></label><div class=\"sk-toggleable__content fitted\"><pre>MultinomialNB()</pre></div> </div></div></div></div></div></div></div></div></div>"
     },
     "execution_count": 95,
     "metadata": {},
     "output_type": "execute_result"
    }
   ],
   "execution_count": 95
  },
  {
   "cell_type": "markdown",
   "id": "6f7abc75",
   "metadata": {},
   "source": [
    "* Plot GridSearchCV results using Seaborn's heatmap"
   ]
  },
  {
   "cell_type": "code",
   "id": "69f0d660",
   "metadata": {
    "execution": {
     "iopub.execute_input": "2025-05-10T06:39:26.263200Z",
     "iopub.status.busy": "2025-05-10T06:39:26.262945Z",
     "iopub.status.idle": "2025-05-10T06:39:26.574077Z",
     "shell.execute_reply": "2025-05-10T06:39:26.573227Z",
     "shell.execute_reply.started": "2025-05-10T06:39:26.263181Z"
    },
    "ExecuteTime": {
     "end_time": "2025-05-21T14:19:16.671176900Z",
     "start_time": "2025-05-21T14:19:16.366616500Z"
    }
   },
   "source": [
    "# Convert to DataFrame\n",
    "results_df = pd.DataFrame(naive_model.cv_results_)\n",
    "\n",
    "# Create a pivot table for plotting\n",
    "pivot_table = results_df.pivot(index='param_alpha', columns='param_fit_prior', values='mean_test_score')\n",
    "\n",
    "# Plot heatmap\n",
    "plt.figure(figsize=(8, 6))\n",
    "sns.heatmap(pivot_table, annot=True, fmt=\".4f\", cmap=\"YlGnBu\")\n",
    "plt.title(\"Grid Search Accuracy for MultinomialNB\")\n",
    "plt.xlabel(\"fit_prior\")\n",
    "plt.ylabel(\"alpha\")\n",
    "plt.show()"
   ],
   "outputs": [
    {
     "data": {
      "text/plain": "<Figure size 800x600 with 2 Axes>",
      "image/png": "[encoded data removed]"
     },
     "metadata": {},
     "output_type": "display_data"
    }
   ],
   "execution_count": 96
  },
  {
   "cell_type": "markdown",
   "id": "85bd78f1",
   "metadata": {},
   "source": [
    "* Trial-Error on the best hyperparameter values"
   ]
  },
  {
   "cell_type": "code",
   "id": "3e855d94",
   "metadata": {
    "execution": {
     "iopub.execute_input": "2025-05-10T06:39:26.575241Z",
     "iopub.status.busy": "2025-05-10T06:39:26.574988Z",
     "iopub.status.idle": "2025-05-10T06:39:27.973750Z",
     "shell.execute_reply": "2025-05-10T06:39:27.972910Z",
     "shell.execute_reply.started": "2025-05-10T06:39:26.575221Z"
    },
    "ExecuteTime": {
     "end_time": "2025-05-21T14:19:18.284492500Z",
     "start_time": "2025-05-21T14:19:16.670074700Z"
    }
   },
   "source": [
    "# Range of the values in log-space\n",
    "alpha_values = [0.01, 0.1, 0.5, 1.0]\n",
    "fit_prior_values = [True, False]\n",
    "\n",
    "results = []\n",
    "\n",
    "for alpha in alpha_values:\n",
    "    for fit_prior in fit_prior_values:\n",
    "        model = MultinomialNB(alpha=alpha, fit_prior=fit_prior)\n",
    "        model.fit(X_train, y_train)\n",
    "        y_pred = model.predict(X_test)\n",
    "        acc = accuracy_score(y_test, y_pred)\n",
    "        results.append({\n",
    "            'alpha': alpha,\n",
    "            'fit_prior': fit_prior,\n",
    "            'accuracy': acc\n",
    "        })"
   ],
   "outputs": [],
   "execution_count": 97
  },
  {
   "cell_type": "markdown",
   "id": "89e2122f",
   "metadata": {},
   "source": [
    "* Plot Trial-Error results using Seaborn's heatmap"
   ]
  },
  {
   "cell_type": "code",
   "id": "6e20dd65",
   "metadata": {
    "execution": {
     "iopub.execute_input": "2025-05-10T06:39:27.974901Z",
     "iopub.status.busy": "2025-05-10T06:39:27.974637Z",
     "iopub.status.idle": "2025-05-10T06:39:28.199042Z",
     "shell.execute_reply": "2025-05-10T06:39:28.198147Z",
     "shell.execute_reply.started": "2025-05-10T06:39:27.974880Z"
    },
    "ExecuteTime": {
     "end_time": "2025-05-21T14:19:18.507708700Z",
     "start_time": "2025-05-21T14:19:18.288209300Z"
    }
   },
   "source": [
    "# Convert to DataFrame\n",
    "results_df = pd.DataFrame(results)\n",
    "\n",
    "# Pivot for heatmap format\n",
    "pivot = results_df.pivot(index='alpha', columns='fit_prior', values='accuracy')\n",
    "\n",
    "# Plot heatmap\n",
    "plt.figure(figsize=(8, 6))\n",
    "sns.heatmap(pivot, annot=True, fmt=\".4f\", cmap=\"YlGnBu\")\n",
    "plt.title(\"Trial-Error Accuracy for MultinomialNB\")\n",
    "plt.xlabel(\"fit_prior\")\n",
    "plt.ylabel(\"alpha\")\n",
    "plt.show()"
   ],
   "outputs": [
    {
     "data": {
      "text/plain": "<Figure size 800x600 with 2 Axes>",
      "image/png": "[encoded data removed]"
     },
     "metadata": {},
     "output_type": "display_data"
    }
   ],
   "execution_count": 98
  },
  {
   "cell_type": "markdown",
   "id": "fc8a2153",
   "metadata": {},
   "source": [
    "Looking at the plots we can see that the best hyperparameters are alpha = 1 and any value of fit_prior"
   ]
  },
  {
   "cell_type": "markdown",
   "id": "77aedbb7",
   "metadata": {},
   "source": [
    "* Training model with the best hyperparameters"
   ]
  },
  {
   "cell_type": "code",
   "id": "f204aafe",
   "metadata": {
    "execution": {
     "iopub.execute_input": "2025-05-10T06:39:28.200168Z",
     "iopub.status.busy": "2025-05-10T06:39:28.199935Z",
     "iopub.status.idle": "2025-05-10T06:39:28.428389Z",
     "shell.execute_reply": "2025-05-10T06:39:28.427669Z",
     "shell.execute_reply.started": "2025-05-10T06:39:28.200150Z"
    },
    "ExecuteTime": {
     "end_time": "2025-05-21T14:19:18.829172700Z",
     "start_time": "2025-05-21T14:19:18.513349Z"
    }
   },
   "source": [
    "best_model_naive = MultinomialNB(alpha=1, fit_prior=True)\n",
    "best_model_naive.fit(X_train, y_train)\n",
    "y_train_pred = best_model_naive.predict(X_train)\n",
    "y_test_pred  = best_model_naive.predict(X_test)\n",
    "models[\"Naive Bayes\"] = best_model_naive"
   ],
   "outputs": [],
   "execution_count": 99
  },
  {
   "cell_type": "markdown",
   "id": "b8e2843f",
   "metadata": {},
   "source": [
    "* Plotiing confusion matrix using Seaborn's heatmap"
   ]
  },
  {
   "cell_type": "code",
   "id": "67ba8d81",
   "metadata": {
    "execution": {
     "iopub.execute_input": "2025-05-10T06:39:28.429893Z",
     "iopub.status.busy": "2025-05-10T06:39:28.429330Z",
     "iopub.status.idle": "2025-05-10T06:39:30.455080Z",
     "shell.execute_reply": "2025-05-10T06:39:30.454197Z",
     "shell.execute_reply.started": "2025-05-10T06:39:28.429864Z"
    },
    "ExecuteTime": {
     "end_time": "2025-05-21T14:19:20.376528200Z",
     "start_time": "2025-05-21T14:19:18.827916400Z"
    }
   },
   "source": [
    "# Raw confusion matrix\n",
    "cm = confusion_matrix(y_test, y_test_pred)\n",
    "fig, ax = plt.subplots(figsize=(12, 8))\n",
    "sns.heatmap(\n",
    "    cm,\n",
    "    annot=True,\n",
    "    fmt='d',                    \n",
    "    cmap='Oranges',\n",
    "    annot_kws={\"size\": 8},\n",
    "    ax=ax\n",
    ")\n",
    "ax.set_xlabel(\"Predicted label\", fontsize=12)\n",
    "ax.set_ylabel(\"True label\", fontsize=12)\n",
    "ax.set_title(\"Confusion Matrix (Raw)\", fontsize=16)\n",
    "ax.tick_params(axis='both', which='major', labelsize=12)\n",
    "plt.tight_layout()\n",
    "plt.show()\n",
    "\n",
    "# Normalized confusion matrix\n",
    "cm_norm = confusion_matrix(y_test, y_test_pred, normalize='true')\n",
    "fig, ax = plt.subplots(figsize=(12, 8))\n",
    "sns.heatmap(\n",
    "    cm_norm,\n",
    "    annot=True,\n",
    "    fmt='.2f',\n",
    "    cmap='Blues',\n",
    "    annot_kws={\"size\": 8},\n",
    "    ax=ax\n",
    ")\n",
    "ax.set_xlabel(\"Predicted label\", fontsize=12)\n",
    "ax.set_ylabel(\"True label\", fontsize=12)\n",
    "ax.set_title(\"Confusion Matrix (Normalized)\", fontsize=16)\n",
    "ax.tick_params(axis='both', which='major', labelsize=12)\n",
    "plt.tight_layout()\n",
    "plt.show()"
   ],
   "outputs": [
    {
     "data": {
      "text/plain": "<Figure size 1200x800 with 2 Axes>",
      "image/png": "[encoded data removed]"
     },
     "metadata": {},
     "output_type": "display_data"
    },
    {
     "data": {
      "text/plain": "<Figure size 1200x800 with 2 Axes>",
      "image/png": "[encoded data removed]"
     },
     "metadata": {},
     "output_type": "display_data"
    }
   ],
   "execution_count": 100
  },
  {
   "cell_type": "markdown",
   "id": "d66393d4",
   "metadata": {},
   "source": [
    "* Classification metrics for test and training"
   ]
  },
  {
   "cell_type": "code",
   "id": "03b19724",
   "metadata": {
    "execution": {
     "iopub.execute_input": "2025-05-10T06:39:30.456301Z",
     "iopub.status.busy": "2025-05-10T06:39:30.456054Z",
     "iopub.status.idle": "2025-05-10T06:39:30.758526Z",
     "shell.execute_reply": "2025-05-10T06:39:30.757637Z",
     "shell.execute_reply.started": "2025-05-10T06:39:30.456281Z"
    },
    "ExecuteTime": {
     "end_time": "2025-05-21T14:19:20.577845900Z",
     "start_time": "2025-05-21T14:19:20.381277800Z"
    }
   },
   "source": [
    "rows = []\n",
    "for split_name, y_true, y_pred in [\n",
    "    (\"Train\", y_train, y_train_pred),\n",
    "    (\"Test\",  y_test,  y_test_pred)\n",
    "]:\n",
    "    rows.append({\n",
    "        \"Split\":      split_name,\n",
    "        \"Accuracy\":   accuracy_score(y_true, y_pred),\n",
    "        \"F1\": f1_score(y_true, y_pred, average=\"macro\"),\n",
    "        \"Precision\":  precision_score(y_true, y_pred, average=\"macro\"),\n",
    "        \"Recall\":     recall_score(y_true, y_pred, average=\"macro\"),\n",
    "    })\n",
    "\n",
    "df_metrics = pd.DataFrame(rows).set_index(\"Split\").round(4)\n",
    "print(df_metrics)"
   ],
   "outputs": [
    {
     "name": "stdout",
     "output_type": "stream",
     "text": [
      "       Accuracy      F1  Precision  Recall\n",
      "Split                                     \n",
      "Train    0.9494  0.9490     0.9493  0.9494\n",
      "Test     0.9115  0.9109     0.9111  0.9115\n"
     ]
    }
   ],
   "execution_count": 101
  },
  {
   "cell_type": "markdown",
   "id": "4afeaaf9",
   "metadata": {},
   "source": [
    "## Random Forest"
   ]
  },
  {
   "cell_type": "markdown",
   "id": "e7403a45",
   "metadata": {},
   "source": [
    "* GridSearch on the best hyperparameter values"
   ]
  },
  {
   "cell_type": "code",
   "id": "2e5da4ef",
   "metadata": {
    "execution": {
     "iopub.execute_input": "2025-05-10T06:39:30.759512Z",
     "iopub.status.busy": "2025-05-10T06:39:30.759306Z",
     "iopub.status.idle": "2025-05-10T06:59:08.501415Z",
     "shell.execute_reply": "2025-05-10T06:59:08.500440Z",
     "shell.execute_reply.started": "2025-05-10T06:39:30.759496Z"
    },
    "jupyter": {
     "is_executing": true
    },
    "ExecuteTime": {
     "end_time": "2025-05-21T14:22:45.846100600Z",
     "start_time": "2025-05-21T14:19:20.576254200Z"
    }
   },
   "source": [
    "hyper_parameters_rf = {\n",
    "    'n_estimators': [100, 200],\n",
    "    'max_depth': [None, 10, 20],\n",
    "}\n",
    "\n",
    "rf = RandomForestClassifier(random_state=42)\n",
    "\n",
    "# Set up GridSearchCV\n",
    "rf_model = GridSearchCV(\n",
    "    estimator=rf,\n",
    "    param_grid=hyper_parameters_rf,\n",
    "    cv=5, \n",
    "    scoring='accuracy',\n",
    "    n_jobs=-1,\n",
    ")\n",
    "\n",
    "rf_model.fit(X_train, y_train)"
   ],
   "outputs": [
    {
     "ename": "KeyboardInterrupt",
     "evalue": "",
     "output_type": "error",
     "traceback": [
      "\u001B[31m---------------------------------------------------------------------------\u001B[39m",
      "\u001B[31mKeyboardInterrupt\u001B[39m                         Traceback (most recent call last)",
      "\u001B[36mCell\u001B[39m\u001B[36m \u001B[39m\u001B[32mIn[102]\u001B[39m\u001B[32m, line 17\u001B[39m\n\u001B[32m      8\u001B[39m \u001B[38;5;66;03m# Set up GridSearchCV\u001B[39;00m\n\u001B[32m      9\u001B[39m rf_model = GridSearchCV(\n\u001B[32m     10\u001B[39m     estimator=rf,\n\u001B[32m     11\u001B[39m     param_grid=hyper_parameters_rf,\n\u001B[32m   (...)\u001B[39m\u001B[32m     14\u001B[39m     n_jobs=-\u001B[32m1\u001B[39m,\n\u001B[32m     15\u001B[39m )\n\u001B[32m---> \u001B[39m\u001B[32m17\u001B[39m \u001B[43mrf_model\u001B[49m\u001B[43m.\u001B[49m\u001B[43mfit\u001B[49m\u001B[43m(\u001B[49m\u001B[43mX_train\u001B[49m\u001B[43m,\u001B[49m\u001B[43m \u001B[49m\u001B[43my_train\u001B[49m\u001B[43m)\u001B[49m\n",
      "\u001B[36mFile \u001B[39m\u001B[32mD:\\News-Group-Classification\\.venv\\Lib\\site-packages\\sklearn\\base.py:1389\u001B[39m, in \u001B[36m_fit_context.<locals>.decorator.<locals>.wrapper\u001B[39m\u001B[34m(estimator, *args, **kwargs)\u001B[39m\n\u001B[32m   1382\u001B[39m     estimator._validate_params()\n\u001B[32m   1384\u001B[39m \u001B[38;5;28;01mwith\u001B[39;00m config_context(\n\u001B[32m   1385\u001B[39m     skip_parameter_validation=(\n\u001B[32m   1386\u001B[39m         prefer_skip_nested_validation \u001B[38;5;129;01mor\u001B[39;00m global_skip_validation\n\u001B[32m   1387\u001B[39m     )\n\u001B[32m   1388\u001B[39m ):\n\u001B[32m-> \u001B[39m\u001B[32m1389\u001B[39m     \u001B[38;5;28;01mreturn\u001B[39;00m \u001B[43mfit_method\u001B[49m\u001B[43m(\u001B[49m\u001B[43mestimator\u001B[49m\u001B[43m,\u001B[49m\u001B[43m \u001B[49m\u001B[43m*\u001B[49m\u001B[43margs\u001B[49m\u001B[43m,\u001B[49m\u001B[43m \u001B[49m\u001B[43m*\u001B[49m\u001B[43m*\u001B[49m\u001B[43mkwargs\u001B[49m\u001B[43m)\u001B[49m\n",
      "\u001B[36mFile \u001B[39m\u001B[32mD:\\News-Group-Classification\\.venv\\Lib\\site-packages\\sklearn\\model_selection\\_search.py:1024\u001B[39m, in \u001B[36mBaseSearchCV.fit\u001B[39m\u001B[34m(self, X, y, **params)\u001B[39m\n\u001B[32m   1018\u001B[39m     results = \u001B[38;5;28mself\u001B[39m._format_results(\n\u001B[32m   1019\u001B[39m         all_candidate_params, n_splits, all_out, all_more_results\n\u001B[32m   1020\u001B[39m     )\n\u001B[32m   1022\u001B[39m     \u001B[38;5;28;01mreturn\u001B[39;00m results\n\u001B[32m-> \u001B[39m\u001B[32m1024\u001B[39m \u001B[38;5;28;43mself\u001B[39;49m\u001B[43m.\u001B[49m\u001B[43m_run_search\u001B[49m\u001B[43m(\u001B[49m\u001B[43mevaluate_candidates\u001B[49m\u001B[43m)\u001B[49m\n\u001B[32m   1026\u001B[39m \u001B[38;5;66;03m# multimetric is determined here because in the case of a callable\u001B[39;00m\n\u001B[32m   1027\u001B[39m \u001B[38;5;66;03m# self.scoring the return type is only known after calling\u001B[39;00m\n\u001B[32m   1028\u001B[39m first_test_score = all_out[\u001B[32m0\u001B[39m][\u001B[33m\"\u001B[39m\u001B[33mtest_scores\u001B[39m\u001B[33m\"\u001B[39m]\n",
      "\u001B[36mFile \u001B[39m\u001B[32mD:\\News-Group-Classification\\.venv\\Lib\\site-packages\\sklearn\\model_selection\\_search.py:1571\u001B[39m, in \u001B[36mGridSearchCV._run_search\u001B[39m\u001B[34m(self, evaluate_candidates)\u001B[39m\n\u001B[32m   1569\u001B[39m \u001B[38;5;28;01mdef\u001B[39;00m\u001B[38;5;250m \u001B[39m\u001B[34m_run_search\u001B[39m(\u001B[38;5;28mself\u001B[39m, evaluate_candidates):\n\u001B[32m   1570\u001B[39m \u001B[38;5;250m    \u001B[39m\u001B[33;03m\"\"\"Search all candidates in param_grid\"\"\"\u001B[39;00m\n\u001B[32m-> \u001B[39m\u001B[32m1571\u001B[39m     \u001B[43mevaluate_candidates\u001B[49m\u001B[43m(\u001B[49m\u001B[43mParameterGrid\u001B[49m\u001B[43m(\u001B[49m\u001B[38;5;28;43mself\u001B[39;49m\u001B[43m.\u001B[49m\u001B[43mparam_grid\u001B[49m\u001B[43m)\u001B[49m\u001B[43m)\u001B[49m\n",
      "\u001B[36mFile \u001B[39m\u001B[32mD:\\News-Group-Classification\\.venv\\Lib\\site-packages\\sklearn\\model_selection\\_search.py:970\u001B[39m, in \u001B[36mBaseSearchCV.fit.<locals>.evaluate_candidates\u001B[39m\u001B[34m(candidate_params, cv, more_results)\u001B[39m\n\u001B[32m    962\u001B[39m \u001B[38;5;28;01mif\u001B[39;00m \u001B[38;5;28mself\u001B[39m.verbose > \u001B[32m0\u001B[39m:\n\u001B[32m    963\u001B[39m     \u001B[38;5;28mprint\u001B[39m(\n\u001B[32m    964\u001B[39m         \u001B[33m\"\u001B[39m\u001B[33mFitting \u001B[39m\u001B[38;5;132;01m{0}\u001B[39;00m\u001B[33m folds for each of \u001B[39m\u001B[38;5;132;01m{1}\u001B[39;00m\u001B[33m candidates,\u001B[39m\u001B[33m\"\u001B[39m\n\u001B[32m    965\u001B[39m         \u001B[33m\"\u001B[39m\u001B[33m totalling \u001B[39m\u001B[38;5;132;01m{2}\u001B[39;00m\u001B[33m fits\u001B[39m\u001B[33m\"\u001B[39m.format(\n\u001B[32m    966\u001B[39m             n_splits, n_candidates, n_candidates * n_splits\n\u001B[32m    967\u001B[39m         )\n\u001B[32m    968\u001B[39m     )\n\u001B[32m--> \u001B[39m\u001B[32m970\u001B[39m out = \u001B[43mparallel\u001B[49m\u001B[43m(\u001B[49m\n\u001B[32m    971\u001B[39m \u001B[43m    \u001B[49m\u001B[43mdelayed\u001B[49m\u001B[43m(\u001B[49m\u001B[43m_fit_and_score\u001B[49m\u001B[43m)\u001B[49m\u001B[43m(\u001B[49m\n\u001B[32m    972\u001B[39m \u001B[43m        \u001B[49m\u001B[43mclone\u001B[49m\u001B[43m(\u001B[49m\u001B[43mbase_estimator\u001B[49m\u001B[43m)\u001B[49m\u001B[43m,\u001B[49m\n\u001B[32m    973\u001B[39m \u001B[43m        \u001B[49m\u001B[43mX\u001B[49m\u001B[43m,\u001B[49m\n\u001B[32m    974\u001B[39m \u001B[43m        \u001B[49m\u001B[43my\u001B[49m\u001B[43m,\u001B[49m\n\u001B[32m    975\u001B[39m \u001B[43m        \u001B[49m\u001B[43mtrain\u001B[49m\u001B[43m=\u001B[49m\u001B[43mtrain\u001B[49m\u001B[43m,\u001B[49m\n\u001B[32m    976\u001B[39m \u001B[43m        \u001B[49m\u001B[43mtest\u001B[49m\u001B[43m=\u001B[49m\u001B[43mtest\u001B[49m\u001B[43m,\u001B[49m\n\u001B[32m    977\u001B[39m \u001B[43m        \u001B[49m\u001B[43mparameters\u001B[49m\u001B[43m=\u001B[49m\u001B[43mparameters\u001B[49m\u001B[43m,\u001B[49m\n\u001B[32m    978\u001B[39m \u001B[43m        \u001B[49m\u001B[43msplit_progress\u001B[49m\u001B[43m=\u001B[49m\u001B[43m(\u001B[49m\u001B[43msplit_idx\u001B[49m\u001B[43m,\u001B[49m\u001B[43m \u001B[49m\u001B[43mn_splits\u001B[49m\u001B[43m)\u001B[49m\u001B[43m,\u001B[49m\n\u001B[32m    979\u001B[39m \u001B[43m        \u001B[49m\u001B[43mcandidate_progress\u001B[49m\u001B[43m=\u001B[49m\u001B[43m(\u001B[49m\u001B[43mcand_idx\u001B[49m\u001B[43m,\u001B[49m\u001B[43m \u001B[49m\u001B[43mn_candidates\u001B[49m\u001B[43m)\u001B[49m\u001B[43m,\u001B[49m\n\u001B[32m    980\u001B[39m \u001B[43m        \u001B[49m\u001B[43m*\u001B[49m\u001B[43m*\u001B[49m\u001B[43mfit_and_score_kwargs\u001B[49m\u001B[43m,\u001B[49m\n\u001B[32m    981\u001B[39m \u001B[43m    \u001B[49m\u001B[43m)\u001B[49m\n\u001B[32m    982\u001B[39m \u001B[43m    \u001B[49m\u001B[38;5;28;43;01mfor\u001B[39;49;00m\u001B[43m \u001B[49m\u001B[43m(\u001B[49m\u001B[43mcand_idx\u001B[49m\u001B[43m,\u001B[49m\u001B[43m \u001B[49m\u001B[43mparameters\u001B[49m\u001B[43m)\u001B[49m\u001B[43m,\u001B[49m\u001B[43m \u001B[49m\u001B[43m(\u001B[49m\u001B[43msplit_idx\u001B[49m\u001B[43m,\u001B[49m\u001B[43m \u001B[49m\u001B[43m(\u001B[49m\u001B[43mtrain\u001B[49m\u001B[43m,\u001B[49m\u001B[43m \u001B[49m\u001B[43mtest\u001B[49m\u001B[43m)\u001B[49m\u001B[43m)\u001B[49m\u001B[43m \u001B[49m\u001B[38;5;129;43;01min\u001B[39;49;00m\u001B[43m \u001B[49m\u001B[43mproduct\u001B[49m\u001B[43m(\u001B[49m\n\u001B[32m    983\u001B[39m \u001B[43m        \u001B[49m\u001B[38;5;28;43menumerate\u001B[39;49m\u001B[43m(\u001B[49m\u001B[43mcandidate_params\u001B[49m\u001B[43m)\u001B[49m\u001B[43m,\u001B[49m\n\u001B[32m    984\u001B[39m \u001B[43m        \u001B[49m\u001B[38;5;28;43menumerate\u001B[39;49m\u001B[43m(\u001B[49m\u001B[43mcv\u001B[49m\u001B[43m.\u001B[49m\u001B[43msplit\u001B[49m\u001B[43m(\u001B[49m\u001B[43mX\u001B[49m\u001B[43m,\u001B[49m\u001B[43m \u001B[49m\u001B[43my\u001B[49m\u001B[43m,\u001B[49m\u001B[43m \u001B[49m\u001B[43m*\u001B[49m\u001B[43m*\u001B[49m\u001B[43mrouted_params\u001B[49m\u001B[43m.\u001B[49m\u001B[43msplitter\u001B[49m\u001B[43m.\u001B[49m\u001B[43msplit\u001B[49m\u001B[43m)\u001B[49m\u001B[43m)\u001B[49m\u001B[43m,\u001B[49m\n\u001B[32m    985\u001B[39m \u001B[43m    \u001B[49m\u001B[43m)\u001B[49m\n\u001B[32m    986\u001B[39m \u001B[43m\u001B[49m\u001B[43m)\u001B[49m\n\u001B[32m    988\u001B[39m \u001B[38;5;28;01mif\u001B[39;00m \u001B[38;5;28mlen\u001B[39m(out) < \u001B[32m1\u001B[39m:\n\u001B[32m    989\u001B[39m     \u001B[38;5;28;01mraise\u001B[39;00m \u001B[38;5;167;01mValueError\u001B[39;00m(\n\u001B[32m    990\u001B[39m         \u001B[33m\"\u001B[39m\u001B[33mNo fits were performed. \u001B[39m\u001B[33m\"\u001B[39m\n\u001B[32m    991\u001B[39m         \u001B[33m\"\u001B[39m\u001B[33mWas the CV iterator empty? \u001B[39m\u001B[33m\"\u001B[39m\n\u001B[32m    992\u001B[39m         \u001B[33m\"\u001B[39m\u001B[33mWere there no candidates?\u001B[39m\u001B[33m\"\u001B[39m\n\u001B[32m    993\u001B[39m     )\n",
      "\u001B[36mFile \u001B[39m\u001B[32mD:\\News-Group-Classification\\.venv\\Lib\\site-packages\\sklearn\\utils\\parallel.py:77\u001B[39m, in \u001B[36mParallel.__call__\u001B[39m\u001B[34m(self, iterable)\u001B[39m\n\u001B[32m     72\u001B[39m config = get_config()\n\u001B[32m     73\u001B[39m iterable_with_config = (\n\u001B[32m     74\u001B[39m     (_with_config(delayed_func, config), args, kwargs)\n\u001B[32m     75\u001B[39m     \u001B[38;5;28;01mfor\u001B[39;00m delayed_func, args, kwargs \u001B[38;5;129;01min\u001B[39;00m iterable\n\u001B[32m     76\u001B[39m )\n\u001B[32m---> \u001B[39m\u001B[32m77\u001B[39m \u001B[38;5;28;01mreturn\u001B[39;00m \u001B[38;5;28;43msuper\u001B[39;49m\u001B[43m(\u001B[49m\u001B[43m)\u001B[49m\u001B[43m.\u001B[49m\u001B[34;43m__call__\u001B[39;49m\u001B[43m(\u001B[49m\u001B[43miterable_with_config\u001B[49m\u001B[43m)\u001B[49m\n",
      "\u001B[36mFile \u001B[39m\u001B[32mD:\\News-Group-Classification\\.venv\\Lib\\site-packages\\joblib\\parallel.py:2007\u001B[39m, in \u001B[36mParallel.__call__\u001B[39m\u001B[34m(self, iterable)\u001B[39m\n\u001B[32m   2001\u001B[39m \u001B[38;5;66;03m# The first item from the output is blank, but it makes the interpreter\u001B[39;00m\n\u001B[32m   2002\u001B[39m \u001B[38;5;66;03m# progress until it enters the Try/Except block of the generator and\u001B[39;00m\n\u001B[32m   2003\u001B[39m \u001B[38;5;66;03m# reaches the first `yield` statement. This starts the asynchronous\u001B[39;00m\n\u001B[32m   2004\u001B[39m \u001B[38;5;66;03m# dispatch of the tasks to the workers.\u001B[39;00m\n\u001B[32m   2005\u001B[39m \u001B[38;5;28mnext\u001B[39m(output)\n\u001B[32m-> \u001B[39m\u001B[32m2007\u001B[39m \u001B[38;5;28;01mreturn\u001B[39;00m output \u001B[38;5;28;01mif\u001B[39;00m \u001B[38;5;28mself\u001B[39m.return_generator \u001B[38;5;28;01melse\u001B[39;00m \u001B[38;5;28;43mlist\u001B[39;49m\u001B[43m(\u001B[49m\u001B[43moutput\u001B[49m\u001B[43m)\u001B[49m\n",
      "\u001B[36mFile \u001B[39m\u001B[32mD:\\News-Group-Classification\\.venv\\Lib\\site-packages\\joblib\\parallel.py:1650\u001B[39m, in \u001B[36mParallel._get_outputs\u001B[39m\u001B[34m(self, iterator, pre_dispatch)\u001B[39m\n\u001B[32m   1647\u001B[39m     \u001B[38;5;28;01myield\u001B[39;00m\n\u001B[32m   1649\u001B[39m     \u001B[38;5;28;01mwith\u001B[39;00m \u001B[38;5;28mself\u001B[39m._backend.retrieval_context():\n\u001B[32m-> \u001B[39m\u001B[32m1650\u001B[39m         \u001B[38;5;28;01myield from\u001B[39;00m \u001B[38;5;28mself\u001B[39m._retrieve()\n\u001B[32m   1652\u001B[39m \u001B[38;5;28;01mexcept\u001B[39;00m \u001B[38;5;167;01mGeneratorExit\u001B[39;00m:\n\u001B[32m   1653\u001B[39m     \u001B[38;5;66;03m# The generator has been garbage collected before being fully\u001B[39;00m\n\u001B[32m   1654\u001B[39m     \u001B[38;5;66;03m# consumed. This aborts the remaining tasks if possible and warn\u001B[39;00m\n\u001B[32m   1655\u001B[39m     \u001B[38;5;66;03m# the user if necessary.\u001B[39;00m\n\u001B[32m   1656\u001B[39m     \u001B[38;5;28mself\u001B[39m._exception = \u001B[38;5;28;01mTrue\u001B[39;00m\n",
      "\u001B[36mFile \u001B[39m\u001B[32mD:\\News-Group-Classification\\.venv\\Lib\\site-packages\\joblib\\parallel.py:1762\u001B[39m, in \u001B[36mParallel._retrieve\u001B[39m\u001B[34m(self)\u001B[39m\n\u001B[32m   1757\u001B[39m \u001B[38;5;66;03m# If the next job is not ready for retrieval yet, we just wait for\u001B[39;00m\n\u001B[32m   1758\u001B[39m \u001B[38;5;66;03m# async callbacks to progress.\u001B[39;00m\n\u001B[32m   1759\u001B[39m \u001B[38;5;28;01mif\u001B[39;00m ((\u001B[38;5;28mlen\u001B[39m(\u001B[38;5;28mself\u001B[39m._jobs) == \u001B[32m0\u001B[39m) \u001B[38;5;129;01mor\u001B[39;00m\n\u001B[32m   1760\u001B[39m     (\u001B[38;5;28mself\u001B[39m._jobs[\u001B[32m0\u001B[39m].get_status(\n\u001B[32m   1761\u001B[39m         timeout=\u001B[38;5;28mself\u001B[39m.timeout) == TASK_PENDING)):\n\u001B[32m-> \u001B[39m\u001B[32m1762\u001B[39m     \u001B[43mtime\u001B[49m\u001B[43m.\u001B[49m\u001B[43msleep\u001B[49m\u001B[43m(\u001B[49m\u001B[32;43m0.01\u001B[39;49m\u001B[43m)\u001B[49m\n\u001B[32m   1763\u001B[39m     \u001B[38;5;28;01mcontinue\u001B[39;00m\n\u001B[32m   1765\u001B[39m \u001B[38;5;66;03m# We need to be careful: the job list can be filling up as\u001B[39;00m\n\u001B[32m   1766\u001B[39m \u001B[38;5;66;03m# we empty it and Python list are not thread-safe by\u001B[39;00m\n\u001B[32m   1767\u001B[39m \u001B[38;5;66;03m# default hence the use of the lock\u001B[39;00m\n",
      "\u001B[31mKeyboardInterrupt\u001B[39m: "
     ]
    }
   ],
   "execution_count": 102
  },
  {
   "cell_type": "markdown",
   "id": "040b4a31",
   "metadata": {},
   "source": [
    "* Plot GridSearchCV results using Seaborn's heatmap"
   ]
  },
  {
   "cell_type": "code",
   "execution_count": null,
   "id": "a5bd30fa",
   "metadata": {
    "execution": {
     "iopub.execute_input": "2025-05-10T06:59:08.503008Z",
     "iopub.status.busy": "2025-05-10T06:59:08.502718Z",
     "iopub.status.idle": "2025-05-10T06:59:09.441112Z",
     "shell.execute_reply": "2025-05-10T06:59:09.440229Z",
     "shell.execute_reply.started": "2025-05-10T06:59:08.502973Z"
    },
    "ExecuteTime": {
     "start_time": "2025-05-21T14:22:45.771290500Z"
    }
   },
   "outputs": [],
   "source": [
    "# Convert to DataFrame\n",
    "results_df = pd.DataFrame(rf_model.cv_results_)\n",
    "# Deal with none value\n",
    "results_df['param_max_depth'] = results_df['param_max_depth'].astype(str)\n",
    "\n",
    "# Create a pivot table for plotting\n",
    "pivot_table = results_df.pivot(index='param_n_estimators', columns='param_max_depth', values='mean_test_score')\n",
    "\n",
    "# Plot heatmap\n",
    "plt.figure(figsize=(8, 6))\n",
    "sns.heatmap(pivot_table, annot=True, fmt=\".4f\", cmap=\"YlGnBu\")\n",
    "plt.title(\"Grid Search Accuracy for RandomForestClassifier\")\n",
    "plt.xlabel(\"max_depth\")\n",
    "plt.ylabel(\"n_estimators\")\n",
    "plt.show()"
   ]
  },
  {
   "cell_type": "markdown",
   "id": "3b145d3a",
   "metadata": {},
   "source": [
    "* Trial-Error on the best hyperparameter values"
   ]
  },
  {
   "cell_type": "code",
   "execution_count": null,
   "id": "1d2a251d",
   "metadata": {
    "execution": {
     "iopub.execute_input": "2025-05-10T06:59:09.442200Z",
     "iopub.status.busy": "2025-05-10T06:59:09.441960Z",
     "iopub.status.idle": "2025-05-10T07:07:35.871494Z",
     "shell.execute_reply": "2025-05-10T07:07:35.870694Z",
     "shell.execute_reply.started": "2025-05-10T06:59:09.442183Z"
    },
    "ExecuteTime": {
     "start_time": "2025-05-21T14:22:45.773435300Z"
    }
   },
   "outputs": [],
   "source": [
    "# Range of the values in log-space\n",
    "n_estimators_values = [100, 200]\n",
    "max_depth_values = [None, 10, 20]\n",
    "\n",
    "def train_and_score(n_estimator, max_depth, X_train, y_train, X_test, y_test):\n",
    "\n",
    "    rf = RandomForestClassifier(\n",
    "        n_estimators=n_estimator, \n",
    "        max_depth=max_depth, \n",
    "        random_state=42\n",
    "    )\n",
    "    rf.fit(X_train, y_train)\n",
    "    acc = accuracy_score(y_test, rf.predict(X_test))\n",
    "    return {\n",
    "        'n_estimators': n_estimator,\n",
    "        'max_depth':    max_depth,\n",
    "        'accuracy':     acc\n",
    "    }\n",
    "\n",
    "results = Parallel(n_jobs=-1)(\n",
    "    delayed(train_and_score)(n, d, X_train, y_train, X_test, y_test)\n",
    "    for n in n_estimators_values\n",
    "    for d in max_depth_values\n",
    ")"
   ]
  },
  {
   "cell_type": "markdown",
   "id": "0fd5a55a",
   "metadata": {},
   "source": [
    "* Plot Trial-Error results using Seaborn's heatmap"
   ]
  },
  {
   "cell_type": "code",
   "execution_count": null,
   "id": "835f0a19",
   "metadata": {
    "execution": {
     "iopub.execute_input": "2025-05-10T07:07:35.872733Z",
     "iopub.status.busy": "2025-05-10T07:07:35.872453Z",
     "iopub.status.idle": "2025-05-10T07:07:36.090107Z",
     "shell.execute_reply": "2025-05-10T07:07:36.089352Z",
     "shell.execute_reply.started": "2025-05-10T07:07:35.872689Z"
    },
    "ExecuteTime": {
     "start_time": "2025-05-21T14:22:45.776516800Z"
    }
   },
   "outputs": [],
   "source": [
    "# Convert to DataFrame\n",
    "results_df = pd.DataFrame(results)\n",
    "\n",
    "# Pivot for heatmap format\n",
    "pivot = results_df.pivot(index='n_estimators', columns='max_depth', values='accuracy')\n",
    "\n",
    "# Plot heatmap\n",
    "plt.figure(figsize=(8, 6))\n",
    "sns.heatmap(pivot, annot=True, fmt=\".4f\", cmap=\"YlGnBu\")\n",
    "plt.title(\"Trial-Error Accuracy for RandomForestClassifier\")\n",
    "plt.xlabel(\"max_depth\")\n",
    "plt.ylabel(\"n_estimators\")\n",
    "plt.show()"
   ]
  },
  {
   "cell_type": "markdown",
   "id": "0cc13fbe",
   "metadata": {},
   "source": [
    "Looking at the plots we can see that the best hyperparameters are n_estimators = 200 and max_depth = 10"
   ]
  },
  {
   "cell_type": "markdown",
   "id": "0ec24bb8",
   "metadata": {},
   "source": [
    "* Training model with the best hyperparameters"
   ]
  },
  {
   "cell_type": "code",
   "execution_count": null,
   "id": "b4e2da6a",
   "metadata": {
    "execution": {
     "iopub.execute_input": "2025-05-10T07:07:36.091653Z",
     "iopub.status.busy": "2025-05-10T07:07:36.091064Z",
     "iopub.status.idle": "2025-05-10T07:07:53.501349Z",
     "shell.execute_reply": "2025-05-10T07:07:53.500675Z",
     "shell.execute_reply.started": "2025-05-10T07:07:36.091625Z"
    },
    "ExecuteTime": {
     "start_time": "2025-05-21T14:22:45.782726Z"
    }
   },
   "outputs": [],
   "source": [
    "best_model_rf = RandomForestClassifier(n_estimators=200, max_depth=10, random_state=42)\n",
    "best_model_rf.fit(X_train, y_train)\n",
    "y_train_pred = best_model_rf.predict(X_train)\n",
    "y_test_pred  = best_model_rf.predict(X_test)\n",
    "models[\"Random Forest\"] = best_model_rf"
   ]
  },
  {
   "cell_type": "markdown",
   "id": "a1d2fdee",
   "metadata": {},
   "source": [
    "* Plotiing confusion matrix using Seaborn's heatmap"
   ]
  },
  {
   "cell_type": "code",
   "execution_count": null,
   "id": "7f1d3836",
   "metadata": {
    "execution": {
     "iopub.execute_input": "2025-05-10T07:07:53.502524Z",
     "iopub.status.busy": "2025-05-10T07:07:53.502285Z",
     "iopub.status.idle": "2025-05-10T07:07:55.536640Z",
     "shell.execute_reply": "2025-05-10T07:07:55.535755Z",
     "shell.execute_reply.started": "2025-05-10T07:07:53.502505Z"
    },
    "ExecuteTime": {
     "start_time": "2025-05-21T14:22:45.785708400Z"
    }
   },
   "outputs": [],
   "source": [
    "# Raw confusion matrix\n",
    "cm = confusion_matrix(y_test, y_test_pred)\n",
    "fig, ax = plt.subplots(figsize=(12, 8))\n",
    "sns.heatmap(\n",
    "    cm,\n",
    "    annot=True,\n",
    "    fmt='d',                    \n",
    "    cmap='Oranges',\n",
    "    annot_kws={\"size\": 8},\n",
    "    ax=ax\n",
    ")\n",
    "ax.set_xlabel(\"Predicted label\", fontsize=12)\n",
    "ax.set_ylabel(\"True label\", fontsize=12)\n",
    "ax.set_title(\"Confusion Matrix (Raw)\", fontsize=16)\n",
    "ax.tick_params(axis='both', which='major', labelsize=12)\n",
    "plt.tight_layout()\n",
    "plt.show()\n",
    "\n",
    "# Normalized confusion matrix\n",
    "cm_norm = confusion_matrix(y_test, y_test_pred, normalize='true')\n",
    "fig, ax = plt.subplots(figsize=(12, 8))\n",
    "sns.heatmap(\n",
    "    cm_norm,\n",
    "    annot=True,\n",
    "    fmt='.2f',\n",
    "    cmap='Blues',\n",
    "    annot_kws={\"size\": 8},\n",
    "    ax=ax\n",
    ")\n",
    "ax.set_xlabel(\"Predicted label\", fontsize=12)\n",
    "ax.set_ylabel(\"True label\", fontsize=12)\n",
    "ax.set_title(\"Confusion Matrix (Normalized)\", fontsize=16)\n",
    "ax.tick_params(axis='both', which='major', labelsize=12)\n",
    "plt.tight_layout()\n",
    "plt.show()"
   ]
  },
  {
   "cell_type": "markdown",
   "id": "c919e92e",
   "metadata": {},
   "source": [
    "* Classification metrics for test and training"
   ]
  },
  {
   "cell_type": "code",
   "execution_count": null,
   "id": "1bd1030f",
   "metadata": {
    "execution": {
     "iopub.execute_input": "2025-05-10T07:07:55.537827Z",
     "iopub.status.busy": "2025-05-10T07:07:55.537554Z",
     "iopub.status.idle": "2025-05-10T07:07:55.900795Z",
     "shell.execute_reply": "2025-05-10T07:07:55.899990Z",
     "shell.execute_reply.started": "2025-05-10T07:07:55.537807Z"
    },
    "ExecuteTime": {
     "start_time": "2025-05-21T14:22:45.788258100Z"
    }
   },
   "outputs": [],
   "source": [
    "rows = []\n",
    "for split_name, y_true, y_pred in [\n",
    "    (\"Train\", y_train, y_train_pred),\n",
    "    (\"Test\",  y_test,  y_test_pred)\n",
    "]:\n",
    "    rows.append({\n",
    "        \"Split\":      split_name,\n",
    "        \"Accuracy\":   accuracy_score(y_true, y_pred),\n",
    "        \"F1\": f1_score(y_true, y_pred, average=\"macro\"),\n",
    "        \"Precision\":  precision_score(y_true, y_pred, average=\"macro\"),\n",
    "        \"Recall\":     recall_score(y_true, y_pred, average=\"macro\"),\n",
    "    })\n",
    "\n",
    "df_metrics = pd.DataFrame(rows).set_index(\"Split\").round(4)\n",
    "print(df_metrics)"
   ]
  },
  {
   "cell_type": "markdown",
   "id": "2f71333bde9d7d74",
   "metadata": {},
   "source": [
    "## SVM"
   ]
  },
  {
   "cell_type": "markdown",
   "id": "97ac75e290efcee3",
   "metadata": {},
   "source": [
    "**SVM Hyperparameter Optimization via Grid Search**"
   ]
  },
  {
   "cell_type": "code",
   "execution_count": null,
   "id": "79c3d23489adb7ca",
   "metadata": {
    "execution": {
     "iopub.execute_input": "2025-05-10T07:07:55.902044Z",
     "iopub.status.busy": "2025-05-10T07:07:55.901699Z",
     "iopub.status.idle": "2025-05-10T07:09:30.538195Z",
     "shell.execute_reply": "2025-05-10T07:09:30.536109Z",
     "shell.execute_reply.started": "2025-05-10T07:07:55.902017Z"
    },
    "ExecuteTime": {
     "start_time": "2025-05-21T14:22:45.792737500Z"
    }
   },
   "outputs": [],
   "source": [
    "# Initialize LinearSVM\n",
    "svm = LinearSVC(random_state = 42, dual = False)  # dual = False for n_samples > n_features\n",
    "\n",
    "# Hyperparameter grid\n",
    "param_svm = {\n",
    "    'C': [0.01, 0.1, 1, 10],\n",
    "    'penalty': ['l2'],\n",
    "    'loss': ['squared_hinge'],\n",
    "    'class_weight': [None]\n",
    "}\n",
    "\n",
    "svm_model = GridSearchCV(\n",
    "    estimator = svm,\n",
    "    param_grid = param_svm,\n",
    "    cv = 5,\n",
    "    scoring = 'accuracy',\n",
    "    n_jobs = -1\n",
    ")\n",
    "\n",
    "svm_model.fit(X_train, y_train)"
   ]
  },
  {
   "cell_type": "markdown",
   "id": "5b7a1802bb1196b8",
   "metadata": {},
   "source": [
    "**Analyze hyperparameter (C / loss) impact on accuracy**"
   ]
  },
  {
   "cell_type": "code",
   "execution_count": null,
   "id": "d5dba61c99282c8c",
   "metadata": {
    "execution": {
     "iopub.execute_input": "2025-05-10T07:09:30.539490Z",
     "iopub.status.busy": "2025-05-10T07:09:30.539220Z",
     "iopub.status.idle": "2025-05-10T07:09:31.006591Z",
     "shell.execute_reply": "2025-05-10T07:09:31.005757Z",
     "shell.execute_reply.started": "2025-05-10T07:09:30.539460Z"
    },
    "ExecuteTime": {
     "start_time": "2025-05-21T14:22:45.796109200Z"
    }
   },
   "outputs": [],
   "source": [
    "# Convert results to DataFrame\n",
    "results_df = pd.DataFrame(svm_model.cv_results_)\n",
    "\n",
    "# Plot accuracy vs. hyperparameters\n",
    "plt.figure(figsize=(10, 6))\n",
    "sns.lineplot(\n",
    "    data = results_df,\n",
    "    x = 'param_C',\n",
    "    y = 'mean_test_score',\n",
    "    hue = 'param_loss',\n",
    "    marker = 'o'\n",
    ")\n",
    "plt.xscale('log')  # Log-scale for C (common in SVM)\n",
    "plt.title(\"Accuracy vs. C and Loss\")\n",
    "plt.xlabel(\"C (Regularization Strength)\")\n",
    "plt.ylabel(\"Mean CV Accuracy\")\n",
    "plt.legend(title=\"Loss Function\")\n",
    "plt.show()"
   ]
  },
  {
   "cell_type": "markdown",
   "id": "33071069d7e49ff9",
   "metadata": {},
   "source": [
    "**Make predictions with the best SVM model**"
   ]
  },
  {
   "cell_type": "code",
   "execution_count": null,
   "id": "f02c8c5168090c5b",
   "metadata": {
    "execution": {
     "iopub.execute_input": "2025-05-10T07:09:31.007835Z",
     "iopub.status.busy": "2025-05-10T07:09:31.007570Z",
     "iopub.status.idle": "2025-05-10T07:09:31.094937Z",
     "shell.execute_reply": "2025-05-10T07:09:31.094050Z",
     "shell.execute_reply.started": "2025-05-10T07:09:31.007810Z"
    },
    "ExecuteTime": {
     "start_time": "2025-05-21T14:22:45.799356600Z"
    }
   },
   "outputs": [],
   "source": [
    "# Predict with best model\n",
    "best_model_svm = svm_model.best_estimator_\n",
    "y_train_pred = best_model_svm.predict(X_train)\n",
    "y_test_pred = best_model_svm.predict(X_test)\n",
    "models[\"SVM\"] = best_model_svm"
   ]
  },
  {
   "cell_type": "markdown",
   "id": "89c6f233a8fcb0e5",
   "metadata": {},
   "source": [
    "**Confusion Matrix**"
   ]
  },
  {
   "cell_type": "code",
   "execution_count": null,
   "id": "395d68867eefffd8",
   "metadata": {
    "execution": {
     "iopub.execute_input": "2025-05-10T07:09:31.096263Z",
     "iopub.status.busy": "2025-05-10T07:09:31.095946Z",
     "iopub.status.idle": "2025-05-10T07:09:33.223731Z",
     "shell.execute_reply": "2025-05-10T07:09:33.222914Z",
     "shell.execute_reply.started": "2025-05-10T07:09:31.096238Z"
    },
    "ExecuteTime": {
     "start_time": "2025-05-21T14:22:45.802704500Z"
    }
   },
   "outputs": [],
   "source": [
    "# Non-Normalized (Raw) confusion matrix\n",
    "# Absolute number of predictions\n",
    "cm = confusion_matrix(y_test, y_test_pred)\n",
    "fig, ax = plt.subplots(figsize = (12, 8))\n",
    "sns.heatmap(\n",
    "    cm,\n",
    "    annot = True,\n",
    "    fmt = 'd',\n",
    "    cmap = 'Oranges',\n",
    "    annot_kws = {\"size\": 8},\n",
    "    ax = ax\n",
    ")\n",
    "ax.set_xlabel(\"Predicted label\", fontsize = 12)\n",
    "ax.set_ylabel(\"True label\", fontsize = 12)\n",
    "ax.set_title(\"Confusion Matrix (Raw)\", fontsize = 16)\n",
    "ax.tick_params(axis = 'both', which = 'major', labelsize = 12)\n",
    "plt.tight_layout()\n",
    "plt.show()\n",
    "\n",
    "# Normalized confusion matrix\n",
    "# Percentage of predictions per true class\n",
    "cm_norm = confusion_matrix(y_test, y_test_pred, normalize = 'true')\n",
    "fig, ax = plt.subplots(figsize=(12, 8))\n",
    "sns.heatmap(\n",
    "    cm_norm,\n",
    "    annot = True,\n",
    "    fmt = '.2f',\n",
    "    cmap = 'Blues',\n",
    "    annot_kws = {\"size\": 8},\n",
    "    ax = ax\n",
    ")\n",
    "ax.set_xlabel(\"Predicted label\", fontsize = 12)\n",
    "ax.set_ylabel(\"True label\", fontsize = 12)\n",
    "ax.set_title(\"Confusion Matrix (Normalized)\", fontsize = 16)\n",
    "ax.tick_params(axis = 'both', which = 'major', labelsize = 12)\n",
    "plt.tight_layout()\n",
    "plt.show()"
   ]
  },
  {
   "cell_type": "markdown",
   "id": "2ca31a567b9464b7",
   "metadata": {},
   "source": [
    "**Compute performance metrics for train/test splits**"
   ]
  },
  {
   "cell_type": "code",
   "execution_count": null,
   "id": "8612f3b2b6faa79f",
   "metadata": {
    "execution": {
     "iopub.execute_input": "2025-05-10T07:09:33.225163Z",
     "iopub.status.busy": "2025-05-10T07:09:33.224900Z",
     "iopub.status.idle": "2025-05-10T07:09:33.587233Z",
     "shell.execute_reply": "2025-05-10T07:09:33.586352Z",
     "shell.execute_reply.started": "2025-05-10T07:09:33.225143Z"
    },
    "ExecuteTime": {
     "start_time": "2025-05-21T14:22:45.808064Z"
    }
   },
   "outputs": [],
   "source": [
    "rows = []\n",
    "for split_name, y_true, y_pred in [\n",
    "    (\"Train\", y_train, y_train_pred),\n",
    "    (\"Test\",  y_test,  y_test_pred)\n",
    "]:\n",
    "    rows.append({\n",
    "        \"Split\":      split_name,\n",
    "        \"Accuracy\":   accuracy_score(y_true, y_pred),\n",
    "        \"F1\": f1_score(y_true, y_pred, average=\"macro\"),\n",
    "        \"Precision\":  precision_score(y_true, y_pred, average=\"macro\"),\n",
    "        \"Recall\":     recall_score(y_true, y_pred, average=\"macro\"),\n",
    "    })\n",
    "\n",
    "df_metrics = pd.DataFrame(rows).set_index(\"Split\").round(4)\n",
    "print(df_metrics)"
   ]
  },
  {
   "cell_type": "markdown",
   "id": "f86967a7-b16b-438f-9e47-9407abb59602",
   "metadata": {},
   "source": [
    "## KNN"
   ]
  },
  {
   "cell_type": "markdown",
   "id": "b32c197e-7daa-4c40-84ee-b97b94ca0a97",
   "metadata": {},
   "source": [
    "**KNN Hyperparameter Optimization via Grid Search**"
   ]
  },
  {
   "cell_type": "code",
   "execution_count": null,
   "id": "8cf563ba-e536-419d-a0fc-c86fabe29088",
   "metadata": {
    "execution": {
     "iopub.execute_input": "2025-05-10T10:05:37.154427Z",
     "iopub.status.busy": "2025-05-10T10:05:37.154005Z",
     "iopub.status.idle": "2025-05-10T10:12:18.490220Z",
     "shell.execute_reply": "2025-05-10T10:12:18.488880Z",
     "shell.execute_reply.started": "2025-05-10T10:05:37.154398Z"
    },
    "ExecuteTime": {
     "start_time": "2025-05-21T14:22:45.812744400Z"
    }
   },
   "outputs": [],
   "source": [
    "svd = TruncatedSVD(random_state=162)\n",
    "norm = Normalizer()\n",
    "knn = KNeighborsClassifier()\n",
    "pipe = Pipeline([('svd', svd), ('norm', norm), ('knn', knn)])\n",
    "\n",
    "param_grid = {\n",
    "    'svd__n_components': [50, 100, 150],\n",
    "    'knn__n_neighbors': [3, 5, 7],\n",
    "    'knn__weights':     ['uniform','distance'],\n",
    "    'knn__p':           [1,2],\n",
    "}\n",
    "\n",
    "knn_model = GridSearchCV(\n",
    "        estimator = pipe,\n",
    "        param_grid=param_grid,\n",
    "        cv = 3,\n",
    "        scoring='accuracy',\n",
    "        n_jobs=-1\n",
    "    )\n",
    "knn_model.fit(X_train, y_train)\n",
    "print(\"Best params:\", knn_model.best_params_)"
   ]
  },
  {
   "cell_type": "markdown",
   "id": "3a0b3db7-46ad-4a4e-b18a-ffe3a92103de",
   "metadata": {},
   "source": [
    "**Analyze hyperparameters impact on accuracy**"
   ]
  },
  {
   "cell_type": "code",
   "execution_count": null,
   "id": "fb8c1d97-8571-413e-87ba-e93a75c5cd7b",
   "metadata": {
    "execution": {
     "iopub.execute_input": "2025-05-10T10:19:44.500916Z",
     "iopub.status.busy": "2025-05-10T10:19:44.500463Z",
     "iopub.status.idle": "2025-05-10T10:19:47.907012Z",
     "shell.execute_reply": "2025-05-10T10:19:47.906022Z",
     "shell.execute_reply.started": "2025-05-10T10:19:44.500885Z"
    },
    "ExecuteTime": {
     "start_time": "2025-05-21T14:22:45.815856500Z"
    }
   },
   "outputs": [],
   "source": [
    "warnings.filterwarnings(\n",
    "    \"ignore\",\n",
    "    message=\".*use_inf_as_na option is deprecated.*\",\n",
    "    category=FutureWarning\n",
    ")\n",
    "\n",
    "# Convert results to DataFrame\n",
    "results_knn = pd.DataFrame(knn_model.cv_results_)\n",
    "\n",
    "# Rename & convert datatypes\n",
    "results_knn = results_knn.rename(columns={\n",
    "    'param_svd__n_components': 'n_comp',\n",
    "    'param_knn__n_neighbors':  'k',\n",
    "    'param_knn__weights':      'weights',\n",
    "    'param_knn__p':            'p'\n",
    "})\n",
    "\n",
    "results_knn['n_comp'] = results_knn['n_comp'].astype(int)\n",
    "results_knn['k'] = results_knn['k'].astype(int)\n",
    "results_knn['p'] = results_knn['p'].astype(int)\n",
    "\n",
    "# g = sns.FacetGrid(\n",
    "#     results_knn,\n",
    "#     col='n_comp',\n",
    "#     hue='weights',\n",
    "#     row='p',\n",
    "#     margin_titles=True,\n",
    "#     height=3,\n",
    "#     sharey=True\n",
    "# )\n",
    "# g.map(\n",
    "#     sns.lineplot, 'k', 'mean_test_score', marker='o', dashes=False\n",
    "# )\n",
    "# g.add_legend(title='weights')\n",
    "# g.set_axis_labels(\"n_neighbors (k)\", \"Mean CV Accuracy\")\n",
    "# g.set_titles(\"SVD dims = {col_name}, p = {row_name}\")\n",
    "# plt.tight_layout()\n",
    "# plt.show()\n",
    "\n",
    "# Heatmaps: one per (weights, p)\n",
    "for w in results_knn['weights'].unique():\n",
    "    for p_val in results_knn['p'].unique():\n",
    "        sub = results_knn[(results_knn['weights']==w) & (results_knn['p']==p_val)]\n",
    "        pivot = sub.pivot_table(\n",
    "            index='n_comp',\n",
    "            columns='k',\n",
    "            values='mean_test_score'\n",
    "        )\n",
    "        plt.figure(figsize=(4,3))\n",
    "        sns.heatmap(\n",
    "            pivot, annot=True, fmt=\".3f\", cmap='viridis',\n",
    "            cbar_kws={'label':'CV Accuracy'}\n",
    "        )\n",
    "        plt.title(f\"weights={w}, p={p_val}\")\n",
    "        plt.xlabel(\"n_neighbors (k)\")\n",
    "        plt.ylabel(\"SVD n_components\")\n",
    "        plt.tight_layout()\n",
    "        plt.show()"
   ]
  },
  {
   "cell_type": "markdown",
   "id": "c40eedb9-0448-460d-beef-401b2e4cf09d",
   "metadata": {},
   "source": [
    "**Make predictions with the best KNN model**"
   ]
  },
  {
   "cell_type": "code",
   "execution_count": null,
   "id": "7d72635c-bec2-4cda-8043-e689fda56562",
   "metadata": {
    "execution": {
     "iopub.execute_input": "2025-05-10T10:15:31.531835Z",
     "iopub.status.busy": "2025-05-10T10:15:31.531476Z",
     "iopub.status.idle": "2025-05-10T10:15:45.994777Z",
     "shell.execute_reply": "2025-05-10T10:15:45.993809Z",
     "shell.execute_reply.started": "2025-05-10T10:15:31.531806Z"
    },
    "ExecuteTime": {
     "start_time": "2025-05-21T14:22:45.817929Z"
    }
   },
   "outputs": [],
   "source": [
    "# Predict with best model\n",
    "best_model_knn = knn_model.best_estimator_\n",
    "y_train_pred = best_model_knn.predict(X_train)\n",
    "y_test_pred = best_model_knn.predict(X_test)\n",
    "models[\"KNN\"] = best_model_knn"
   ]
  },
  {
   "cell_type": "markdown",
   "id": "0f48760f-bf3f-4d6a-920b-71d3b425d674",
   "metadata": {},
   "source": [
    "**Confusion Matrix**"
   ]
  },
  {
   "cell_type": "code",
   "execution_count": null,
   "id": "f7b4f548-b27f-4a74-ae8f-ad3142fb38a0",
   "metadata": {
    "execution": {
     "iopub.execute_input": "2025-05-10T10:15:58.312075Z",
     "iopub.status.busy": "2025-05-10T10:15:58.311625Z",
     "iopub.status.idle": "2025-05-10T10:16:00.481961Z",
     "shell.execute_reply": "2025-05-10T10:16:00.480886Z",
     "shell.execute_reply.started": "2025-05-10T10:15:58.312043Z"
    },
    "ExecuteTime": {
     "start_time": "2025-05-21T14:22:45.822579200Z"
    }
   },
   "outputs": [],
   "source": [
    "for norm, title, cmap, fmt in [\n",
    "    (None, \"KNN Confusion Matrix (raw)\", 'Oranges', 'd'),\n",
    "    ('true', \"KNN Confusion Matrix (normalized)\", 'Blues', '.2f')\n",
    "]:\n",
    "    cm = confusion_matrix(y_test, y_test_pred, normalize=norm)\n",
    "    fig, ax = plt.subplots(figsize = (12, 8))\n",
    "    sns.heatmap(\n",
    "        cm,\n",
    "        annot = True,\n",
    "        fmt = fmt,\n",
    "        cmap = cmap,\n",
    "        annot_kws = {\"size\": 8},\n",
    "        ax = ax\n",
    "    )\n",
    "    plt.title(title, fontsize = 16)\n",
    "    plt.ylabel(\"True label\", fontsize = 12)\n",
    "    ax.set_xlabel(\"Predicted label\", fontsize = 12)\n",
    "    ax.tick_params(axis = 'both', which = 'major', labelsize = 12)\n",
    "    plt.tight_layout()\n",
    "    plt.show()"
   ]
  },
  {
   "cell_type": "markdown",
   "id": "e056a7d7-eae2-4666-8082-96330315862c",
   "metadata": {},
   "source": [
    "**Compute performance metrics for train/test splits**"
   ]
  },
  {
   "cell_type": "code",
   "execution_count": null,
   "id": "2cefb13b-bf90-45ae-99f3-3ebda3ac231c",
   "metadata": {
    "execution": {
     "iopub.execute_input": "2025-05-10T10:16:04.306902Z",
     "iopub.status.busy": "2025-05-10T10:16:04.306508Z",
     "iopub.status.idle": "2025-05-10T10:16:04.676880Z",
     "shell.execute_reply": "2025-05-10T10:16:04.675880Z",
     "shell.execute_reply.started": "2025-05-10T10:16:04.306870Z"
    },
    "ExecuteTime": {
     "start_time": "2025-05-21T14:22:45.824718100Z"
    }
   },
   "outputs": [],
   "source": [
    "rows = []\n",
    "for split_name, y_true, y_pred in [\n",
    "    (\"Train\", y_train, y_train_pred),\n",
    "    (\"Test\",  y_test,  y_test_pred)\n",
    "]:\n",
    "    rows.append({\n",
    "        \"Split\":      split_name,\n",
    "        \"Accuracy\":   accuracy_score(y_true, y_pred),\n",
    "        \"F1\": f1_score(y_true, y_pred, average=\"macro\", zero_division=0),\n",
    "        \"Precision\":  precision_score(y_true, y_pred, average=\"macro\", zero_division=0),\n",
    "        \"Recall\":     recall_score(y_true, y_pred, average=\"macro\", zero_division=0),\n",
    "    })\n",
    "\n",
    "df_metrics = pd.DataFrame(rows).set_index(\"Split\").round(4)\n",
    "print(df_metrics)"
   ]
  },
  {
   "metadata": {},
   "cell_type": "markdown",
   "source": [
    "#  Accuracy Comparison"
   ],
   "id": "c3de180c7ac6e205"
  },
  {
   "cell_type": "code",
   "execution_count": null,
   "id": "436fecb0-cdc2-4d1a-9671-701dd1bc90f2",
   "metadata": {
    "ExecuteTime": {
     "start_time": "2025-05-21T14:22:45.827917100Z"
    }
   },
   "outputs": [],
   "source": [
    "train_scores = []\n",
    "test_scores = []\n",
    "\n",
    "for name, model in models.items():\n",
    "    # Calculate train accuracy and append\n",
    "    train_acc = model.score(X_train, y_train)\n",
    "    train_scores.append(train_acc)\n",
    "\n",
    "    # Calculate test accuracy and append\n",
    "    test_acc = model.score(X_test, y_test)\n",
    "    test_scores.append(test_acc)\n",
    "\n",
    "plt.figure(figsize=(10, 6))\n",
    "sns.barplot(x=list(models.keys()), y=train_scores, color='skyblue', label='Train')\n",
    "sns.barplot(x=list(models.keys()), y=test_scores, color='red', alpha=0.5, label='Test')\n",
    "plt.title(\"Train vs Test Accuracy\")\n",
    "plt.ylabel(\"Accuracy\")\n",
    "plt.legend()\n",
    "plt.show()"
   ]
  },
  {
   "metadata": {
    "ExecuteTime": {
     "start_time": "2025-05-21T14:22:45.831200700Z"
    }
   },
   "cell_type": "code",
   "outputs": [],
   "execution_count": null,
   "source": [
    "from sklearn.metrics import confusion_matrix\n",
    "\n",
    "fig, axes = plt.subplots(2, 2, figsize=(12, 10))\n",
    "for (name, model), ax in zip(models.items(), axes.flatten()):\n",
    "    y_pred = model.predict(X_test)\n",
    "    cm = confusion_matrix(y_test, y_pred)\n",
    "    sns.heatmap(cm, annot=True, fmt='d', ax=ax)\n",
    "    ax.set_title(name)\n",
    "plt.tight_layout()\n",
    "plt.show()"
   ],
   "id": "8711cbc843a227a4"
  },
  {
   "metadata": {
    "ExecuteTime": {
     "start_time": "2025-05-21T14:22:45.833363700Z"
    }
   },
   "cell_type": "code",
   "outputs": [],
   "execution_count": null,
   "source": [
    "from sklearn.metrics import precision_recall_curve\n",
    "\n",
    "plt.figure(figsize=(10, 8))\n",
    "for name, model in models.items():\n",
    "    y_prob = model.predict_proba(X_test)[:, 1]\n",
    "    precision, recall, _ = precision_recall_curve(y_test, y_prob)\n",
    "    plt.plot(recall, precision, label=name)\n",
    "\n",
    "plt.xlabel('Recall')\n",
    "plt.ylabel('Precision')\n",
    "plt.title('Precision-Recall Curves')\n",
    "plt.legend()\n",
    "plt.show()"
   ],
   "id": "b03b9e4f22eb7743"
  },
  {
   "metadata": {
    "ExecuteTime": {
     "start_time": "2025-05-21T14:22:45.834367700Z"
    }
   },
   "cell_type": "code",
   "outputs": [],
   "execution_count": null,
   "source": [
    "import time\n",
    "\n",
    "training_times = {}\n",
    "for name, model in models.items():\n",
    "    start = time.time()\n",
    "    model.fit(X_train, y_train)\n",
    "    training_times[name] = time.time() - start\n",
    "\n",
    "plt.figure(figsize=(10, 5))\n",
    "sns.barplot(x=list(training_times.keys()), y=list(training_times.values()))\n",
    "plt.title(\"Training Time Comparison (Seconds)\")\n",
    "plt.ylabel(\"Time (s)\")\n",
    "plt.show()"
   ],
   "id": "6c9fac81c7e456d1"
  },
  {
   "metadata": {
    "ExecuteTime": {
     "start_time": "2025-05-21T14:22:45.836553900Z"
    }
   },
   "cell_type": "code",
   "outputs": [],
   "execution_count": null,
   "source": [
    "from sklearn.metrics import classification_report\n",
    "\n",
    "results = []\n",
    "for name, model in models.items():\n",
    "    y_pred = model.predict(X_test)\n",
    "    report = classification_report(y_test, y_pred, output_dict=True)\n",
    "    results.append({\n",
    "        'Model': name,\n",
    "        'Test Accuracy': report['accuracy'],\n",
    "        'Precision (Avg)': report['weighted avg']['precision'],\n",
    "        'Recall (Avg)': report['weighted avg']['recall'],\n",
    "        'F1-Score (Avg)': report['weighted avg']['f1-score'],\n",
    "        'Training Time (s)': training_times[name]\n",
    "    })\n",
    "\n",
    "results_df = pd.DataFrame(results)\n",
    "print(results_df)"
   ],
   "id": "887ba13212041e23"
  }
 ],
 "metadata": {
  "colab": {
   "provenance": []
  },
  "kaggle": {
   "accelerator": "none",
   "dataSources": [
    {
     "datasetId": 7379808,
     "sourceId": 11755297,
     "sourceType": "datasetVersion"
    }
   ],
   "dockerImageVersionId": 31012,
   "isGpuEnabled": false,
   "isInternetEnabled": true,
   "language": "python",
   "sourceType": "notebook"
  },
  "kernelspec": {
   "display_name": "Python 3 (ipykernel)",
   "language": "python",
   "name": "python3"
  },
  "language_info": {
   "codemirror_mode": {
    "name": "ipython",
    "version": 3
   },
   "file_extension": ".py",
   "mimetype": "text/x-python",
   "name": "python",
   "nbconvert_exporter": "python",
   "pygments_lexer": "ipython3",
   "version": "3.13.0"
  }
 },
 "nbformat": 4,
 "nbformat_minor": 5
}
